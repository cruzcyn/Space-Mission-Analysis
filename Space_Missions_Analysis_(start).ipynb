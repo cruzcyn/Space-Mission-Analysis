{
  "cells": [
    {
      "cell_type": "markdown",
      "metadata": {
        "id": "ka_FkvXBiABo"
      },
      "source": [
        "# Introduction"
      ]
    },
    {
      "cell_type": "markdown",
      "metadata": {
        "id": "AWaMmfxXa-p0",
        "papermill": {
          "duration": 0.035434,
          "end_time": "2020-10-20T21:34:01.886225",
          "exception": false,
          "start_time": "2020-10-20T21:34:01.850791",
          "status": "completed"
        },
        "tags": []
      },
      "source": [
        "<center><img src=\"https://i.imgur.com/9hLRsjZ.jpg\" height=400></center>\n",
        "\n",
        "This dataset was scraped from [nextspaceflight.com](https://nextspaceflight.com/launches/past/?page=1) and includes all the space missions since the beginning of Space Race between the USA and the Soviet Union in 1957!"
      ]
    },
    {
      "cell_type": "markdown",
      "metadata": {
        "id": "ufzKRKS3bV0r"
      },
      "source": [
        "### Install Package with Country Codes"
      ]
    },
    {
      "cell_type": "code",
      "execution_count": 1,
      "metadata": {
        "colab": {
          "base_uri": "https://localhost:8080/"
        },
        "id": "0HxV9o6dbRUE",
        "outputId": "35464d43-d601-4b8f-81fd-6dbd400167f5"
      },
      "outputs": [],
      "source": [
        "# %pip install iso3166"
      ]
    },
    {
      "cell_type": "markdown",
      "metadata": {
        "id": "sghkhFoLbof8"
      },
      "source": [
        "### Upgrade Plotly\n",
        "\n",
        "Run the cell below if you are working with Google Colab."
      ]
    },
    {
      "cell_type": "code",
      "execution_count": 2,
      "metadata": {
        "colab": {
          "base_uri": "https://localhost:8080/"
        },
        "id": "gQ61wy9gbmxd",
        "outputId": "99185d87-acb8-4237-c0f7-bfb18bfd4d39"
      },
      "outputs": [],
      "source": [
        "# %pip install --upgrade plotly"
      ]
    },
    {
      "cell_type": "markdown",
      "metadata": {
        "id": "ErFDBihUi1jN"
      },
      "source": [
        "### Import Statements"
      ]
    },
    {
      "cell_type": "code",
      "execution_count": 3,
      "metadata": {
        "_cell_guid": "b1076dfc-b9ad-4769-8c92-a6c4dae69d19",
        "_kg_hide-input": true,
        "_kg_hide-output": true,
        "_uuid": "8f2839f25d086af736a60e9eeb907d3b93b6e0e5",
        "colab": {
          "base_uri": "https://localhost:8080/"
        },
        "execution": {
          "iopub.execute_input": "2020-10-20T21:34:02.101551Z",
          "iopub.status.busy": "2020-10-20T21:34:02.101085Z",
          "iopub.status.idle": "2020-10-20T21:34:03.726868Z",
          "shell.execute_reply": "2020-10-20T21:34:03.725783Z"
        },
        "id": "xdolY0-Sa-p1",
        "outputId": "7142dedb-82e9-457d-db44-cea4e121bdfe",
        "papermill": {
          "duration": 1.665326,
          "end_time": "2020-10-20T21:34:03.726995",
          "exception": false,
          "start_time": "2020-10-20T21:34:02.061669",
          "status": "completed"
        },
        "tags": []
      },
      "outputs": [],
      "source": [
        "import numpy as np\n",
        "import pandas as pd\n",
        "import plotly.express as px\n",
        "import matplotlib.pyplot as plt\n",
        "import seaborn as sns\n",
        "\n",
        "# These might be helpful:\n",
        "from iso3166 import countries\n",
        "from datetime import datetime, timedelta\n",
        "\n",
        "import pycountry\n",
        "import plotly.graph_objects as go"
      ]
    },
    {
      "cell_type": "markdown",
      "metadata": {
        "id": "lovGPRgKxIgo"
      },
      "source": [
        "### Notebook Presentation"
      ]
    },
    {
      "cell_type": "code",
      "execution_count": 4,
      "metadata": {
        "id": "DHEULCOjxIIm"
      },
      "outputs": [],
      "source": [
        "pd.options.display.float_format = '{:,.2f}'.format"
      ]
    },
    {
      "cell_type": "markdown",
      "metadata": {
        "id": "yaT3QbjEa-p4",
        "papermill": {
          "duration": 0.034606,
          "end_time": "2020-10-20T21:34:03.798396",
          "exception": false,
          "start_time": "2020-10-20T21:34:03.763790",
          "status": "completed"
        },
        "tags": []
      },
      "source": [
        "### Load the Data"
      ]
    },
    {
      "cell_type": "code",
      "execution_count": 5,
      "metadata": {
        "_cell_guid": "79c7e3d0-c299-4dcb-8224-4455121ee9b0",
        "_kg_hide-input": true,
        "_uuid": "d629ff2d2480ee46fbb7e2d37f6b5fab8052498a",
        "execution": {
          "iopub.execute_input": "2020-10-20T21:34:03.874195Z",
          "iopub.status.busy": "2020-10-20T21:34:03.873775Z",
          "iopub.status.idle": "2020-10-20T21:34:03.921919Z",
          "shell.execute_reply": "2020-10-20T21:34:03.921418Z"
        },
        "id": "0lDOu8aka-p4",
        "papermill": {
          "duration": 0.08876,
          "end_time": "2020-10-20T21:34:03.922028",
          "exception": false,
          "start_time": "2020-10-20T21:34:03.833268",
          "status": "completed"
        },
        "tags": []
      },
      "outputs": [],
      "source": [
        "df_data = pd.read_csv('mission_launches.csv')"
      ]
    },
    {
      "cell_type": "markdown",
      "metadata": {
        "id": "jAnMiVcVjuKB"
      },
      "source": [
        "# Preliminary Data Exploration\n",
        "\n",
        "* What is the shape of `df_data`? \n",
        "* How many rows and columns does it have?\n",
        "* What are the column names?\n",
        "* Are there any NaN values or duplicates?"
      ]
    },
    {
      "cell_type": "code",
      "execution_count": 6,
      "metadata": {
        "id": "0tIuYcYNlPFQ"
      },
      "outputs": [
        {
          "name": "stdout",
          "output_type": "stream",
          "text": [
            "The shape of the dataset is: (4324, 9)\n",
            "There are 3360 NaN values.\n",
            "There are 0 duplicate rows.\n",
            "<class 'pandas.core.frame.DataFrame'>\n",
            "RangeIndex: 4324 entries, 0 to 4323\n",
            "Data columns (total 9 columns):\n",
            " #   Column          Non-Null Count  Dtype \n",
            "---  ------          --------------  ----- \n",
            " 0   Unnamed: 0.1    4324 non-null   int64 \n",
            " 1   Unnamed: 0      4324 non-null   int64 \n",
            " 2   Organisation    4324 non-null   object\n",
            " 3   Location        4324 non-null   object\n",
            " 4   Date            4324 non-null   object\n",
            " 5   Detail          4324 non-null   object\n",
            " 6   Rocket_Status   4324 non-null   object\n",
            " 7   Price           964 non-null    object\n",
            " 8   Mission_Status  4324 non-null   object\n",
            "dtypes: int64(2), object(7)\n",
            "memory usage: 304.2+ KB\n"
          ]
        }
      ],
      "source": [
        "print(f\"The shape of the dataset is: {df_data.shape}\")\n",
        "print(f\"There are {df_data.isna().values.sum()} NaN values.\")\n",
        "print(f\"There are {df_data.duplicated().values.sum()} duplicate rows.\")\n",
        "df_data.info()"
      ]
    },
    {
      "cell_type": "code",
      "execution_count": 7,
      "metadata": {},
      "outputs": [
        {
          "data": {
            "text/html": [
              "<div>\n",
              "<style scoped>\n",
              "    .dataframe tbody tr th:only-of-type {\n",
              "        vertical-align: middle;\n",
              "    }\n",
              "\n",
              "    .dataframe tbody tr th {\n",
              "        vertical-align: top;\n",
              "    }\n",
              "\n",
              "    .dataframe thead th {\n",
              "        text-align: right;\n",
              "    }\n",
              "</style>\n",
              "<table border=\"1\" class=\"dataframe\">\n",
              "  <thead>\n",
              "    <tr style=\"text-align: right;\">\n",
              "      <th></th>\n",
              "      <th>Unnamed: 0.1</th>\n",
              "      <th>Unnamed: 0</th>\n",
              "      <th>Organisation</th>\n",
              "      <th>Location</th>\n",
              "      <th>Date</th>\n",
              "      <th>Detail</th>\n",
              "      <th>Rocket_Status</th>\n",
              "      <th>Price</th>\n",
              "      <th>Mission_Status</th>\n",
              "    </tr>\n",
              "  </thead>\n",
              "  <tbody>\n",
              "    <tr>\n",
              "      <th>4037</th>\n",
              "      <td>4037</td>\n",
              "      <td>4037</td>\n",
              "      <td>RVSN USSR</td>\n",
              "      <td>Mayak-2, Kapustin Yar, Russia</td>\n",
              "      <td>Sat Jun 06, 1964 06:00 UTC</td>\n",
              "      <td>Cosmos-2I (63S1) | Cosmos 31</td>\n",
              "      <td>StatusRetired</td>\n",
              "      <td>NaN</td>\n",
              "      <td>Success</td>\n",
              "    </tr>\n",
              "    <tr>\n",
              "      <th>714</th>\n",
              "      <td>714</td>\n",
              "      <td>714</td>\n",
              "      <td>ULA</td>\n",
              "      <td>SLC-41, Cape Canaveral AFS, Florida, USA</td>\n",
              "      <td>Sat Aug 14, 2010 11:07 UTC</td>\n",
              "      <td>Atlas V 531 | AEHF-1</td>\n",
              "      <td>StatusActive</td>\n",
              "      <td>140.0</td>\n",
              "      <td>Success</td>\n",
              "    </tr>\n",
              "    <tr>\n",
              "      <th>2584</th>\n",
              "      <td>2584</td>\n",
              "      <td>2584</td>\n",
              "      <td>RVSN USSR</td>\n",
              "      <td>Site 43/3, Plesetsk Cosmodrome, Russia</td>\n",
              "      <td>Mon Jun 12, 1978 10:30 UTC</td>\n",
              "      <td>Soyuz U | Cosmos 1022</td>\n",
              "      <td>StatusRetired</td>\n",
              "      <td>NaN</td>\n",
              "      <td>Success</td>\n",
              "    </tr>\n",
              "    <tr>\n",
              "      <th>3153</th>\n",
              "      <td>3153</td>\n",
              "      <td>3153</td>\n",
              "      <td>RVSN USSR</td>\n",
              "      <td>Site 86/1, Kapustin Yar, Russia</td>\n",
              "      <td>Thu Apr 19, 1973 10:20 UTC</td>\n",
              "      <td>Cosmos-2I (63SM) | Intercosmos-9</td>\n",
              "      <td>StatusRetired</td>\n",
              "      <td>NaN</td>\n",
              "      <td>Success</td>\n",
              "    </tr>\n",
              "    <tr>\n",
              "      <th>339</th>\n",
              "      <td>339</td>\n",
              "      <td>339</td>\n",
              "      <td>Arianespace</td>\n",
              "      <td>ELA-3, Guiana Space Centre, French Guiana, France</td>\n",
              "      <td>Wed Jun 28, 2017 21:15 UTC</td>\n",
              "      <td>Ariane 5 ECA | Hellas Sat 3-Inmarsat S EAN, GS...</td>\n",
              "      <td>StatusActive</td>\n",
              "      <td>200.0</td>\n",
              "      <td>Success</td>\n",
              "    </tr>\n",
              "  </tbody>\n",
              "</table>\n",
              "</div>"
            ],
            "text/plain": [
              "      Unnamed: 0.1  Unnamed: 0 Organisation  \\\n",
              "4037          4037        4037    RVSN USSR   \n",
              "714            714         714          ULA   \n",
              "2584          2584        2584    RVSN USSR   \n",
              "3153          3153        3153    RVSN USSR   \n",
              "339            339         339  Arianespace   \n",
              "\n",
              "                                               Location  \\\n",
              "4037                      Mayak-2, Kapustin Yar, Russia   \n",
              "714            SLC-41, Cape Canaveral AFS, Florida, USA   \n",
              "2584             Site 43/3, Plesetsk Cosmodrome, Russia   \n",
              "3153                    Site 86/1, Kapustin Yar, Russia   \n",
              "339   ELA-3, Guiana Space Centre, French Guiana, France   \n",
              "\n",
              "                            Date  \\\n",
              "4037  Sat Jun 06, 1964 06:00 UTC   \n",
              "714   Sat Aug 14, 2010 11:07 UTC   \n",
              "2584  Mon Jun 12, 1978 10:30 UTC   \n",
              "3153  Thu Apr 19, 1973 10:20 UTC   \n",
              "339   Wed Jun 28, 2017 21:15 UTC   \n",
              "\n",
              "                                                 Detail  Rocket_Status  Price  \\\n",
              "4037                       Cosmos-2I (63S1) | Cosmos 31  StatusRetired    NaN   \n",
              "714                                Atlas V 531 | AEHF-1   StatusActive  140.0   \n",
              "2584                              Soyuz U | Cosmos 1022  StatusRetired    NaN   \n",
              "3153                   Cosmos-2I (63SM) | Intercosmos-9  StatusRetired    NaN   \n",
              "339   Ariane 5 ECA | Hellas Sat 3-Inmarsat S EAN, GS...   StatusActive  200.0   \n",
              "\n",
              "     Mission_Status  \n",
              "4037        Success  \n",
              "714         Success  \n",
              "2584        Success  \n",
              "3153        Success  \n",
              "339         Success  "
            ]
          },
          "execution_count": 7,
          "metadata": {},
          "output_type": "execute_result"
        }
      ],
      "source": [
        "df_data.sample(5)"
      ]
    },
    {
      "cell_type": "markdown",
      "metadata": {
        "id": "KUN30y6ja-p9",
        "papermill": {
          "duration": 0.05406,
          "end_time": "2020-10-20T21:34:04.149973",
          "exception": false,
          "start_time": "2020-10-20T21:34:04.095913",
          "status": "completed"
        },
        "tags": []
      },
      "source": [
        "## Data Cleaning - Check for Missing Values and Duplicates\n",
        "\n",
        "Consider removing columns containing junk data. "
      ]
    },
    {
      "cell_type": "code",
      "execution_count": 8,
      "metadata": {
        "id": "wWQvnJb0k2Ig"
      },
      "outputs": [
        {
          "data": {
            "text/html": [
              "<div>\n",
              "<style scoped>\n",
              "    .dataframe tbody tr th:only-of-type {\n",
              "        vertical-align: middle;\n",
              "    }\n",
              "\n",
              "    .dataframe tbody tr th {\n",
              "        vertical-align: top;\n",
              "    }\n",
              "\n",
              "    .dataframe thead th {\n",
              "        text-align: right;\n",
              "    }\n",
              "</style>\n",
              "<table border=\"1\" class=\"dataframe\">\n",
              "  <thead>\n",
              "    <tr style=\"text-align: right;\">\n",
              "      <th></th>\n",
              "      <th>Organisation</th>\n",
              "      <th>Location</th>\n",
              "      <th>Date</th>\n",
              "      <th>Detail</th>\n",
              "      <th>Rocket_Status</th>\n",
              "      <th>Price</th>\n",
              "      <th>Mission_Status</th>\n",
              "    </tr>\n",
              "  </thead>\n",
              "  <tbody>\n",
              "    <tr>\n",
              "      <th>0</th>\n",
              "      <td>SpaceX</td>\n",
              "      <td>LC-39A, Kennedy Space Center, Florida, USA</td>\n",
              "      <td>Fri Aug 07, 2020 05:12 UTC</td>\n",
              "      <td>Falcon 9 Block 5 | Starlink V1 L9 &amp; BlackSky</td>\n",
              "      <td>StatusActive</td>\n",
              "      <td>50.0</td>\n",
              "      <td>Success</td>\n",
              "    </tr>\n",
              "    <tr>\n",
              "      <th>1</th>\n",
              "      <td>CASC</td>\n",
              "      <td>Site 9401 (SLS-2), Jiuquan Satellite Launch Ce...</td>\n",
              "      <td>Thu Aug 06, 2020 04:01 UTC</td>\n",
              "      <td>Long March 2D | Gaofen-9 04 &amp; Q-SAT</td>\n",
              "      <td>StatusActive</td>\n",
              "      <td>29.75</td>\n",
              "      <td>Success</td>\n",
              "    </tr>\n",
              "    <tr>\n",
              "      <th>2</th>\n",
              "      <td>SpaceX</td>\n",
              "      <td>Pad A, Boca Chica, Texas, USA</td>\n",
              "      <td>Tue Aug 04, 2020 23:57 UTC</td>\n",
              "      <td>Starship Prototype | 150 Meter Hop</td>\n",
              "      <td>StatusActive</td>\n",
              "      <td>NaN</td>\n",
              "      <td>Success</td>\n",
              "    </tr>\n",
              "    <tr>\n",
              "      <th>3</th>\n",
              "      <td>Roscosmos</td>\n",
              "      <td>Site 200/39, Baikonur Cosmodrome, Kazakhstan</td>\n",
              "      <td>Thu Jul 30, 2020 21:25 UTC</td>\n",
              "      <td>Proton-M/Briz-M | Ekspress-80 &amp; Ekspress-103</td>\n",
              "      <td>StatusActive</td>\n",
              "      <td>65.0</td>\n",
              "      <td>Success</td>\n",
              "    </tr>\n",
              "    <tr>\n",
              "      <th>4</th>\n",
              "      <td>ULA</td>\n",
              "      <td>SLC-41, Cape Canaveral AFS, Florida, USA</td>\n",
              "      <td>Thu Jul 30, 2020 11:50 UTC</td>\n",
              "      <td>Atlas V 541 | Perseverance</td>\n",
              "      <td>StatusActive</td>\n",
              "      <td>145.0</td>\n",
              "      <td>Success</td>\n",
              "    </tr>\n",
              "  </tbody>\n",
              "</table>\n",
              "</div>"
            ],
            "text/plain": [
              "  Organisation                                           Location  \\\n",
              "0       SpaceX         LC-39A, Kennedy Space Center, Florida, USA   \n",
              "1         CASC  Site 9401 (SLS-2), Jiuquan Satellite Launch Ce...   \n",
              "2       SpaceX                      Pad A, Boca Chica, Texas, USA   \n",
              "3    Roscosmos       Site 200/39, Baikonur Cosmodrome, Kazakhstan   \n",
              "4          ULA           SLC-41, Cape Canaveral AFS, Florida, USA   \n",
              "\n",
              "                         Date                                        Detail  \\\n",
              "0  Fri Aug 07, 2020 05:12 UTC  Falcon 9 Block 5 | Starlink V1 L9 & BlackSky   \n",
              "1  Thu Aug 06, 2020 04:01 UTC           Long March 2D | Gaofen-9 04 & Q-SAT   \n",
              "2  Tue Aug 04, 2020 23:57 UTC            Starship Prototype | 150 Meter Hop   \n",
              "3  Thu Jul 30, 2020 21:25 UTC  Proton-M/Briz-M | Ekspress-80 & Ekspress-103   \n",
              "4  Thu Jul 30, 2020 11:50 UTC                    Atlas V 541 | Perseverance   \n",
              "\n",
              "  Rocket_Status  Price Mission_Status  \n",
              "0  StatusActive   50.0        Success  \n",
              "1  StatusActive  29.75        Success  \n",
              "2  StatusActive    NaN        Success  \n",
              "3  StatusActive   65.0        Success  \n",
              "4  StatusActive  145.0        Success  "
            ]
          },
          "execution_count": 8,
          "metadata": {},
          "output_type": "execute_result"
        }
      ],
      "source": [
        "df_data = df_data.drop(columns=[\"Unnamed: 0.1\", \"Unnamed: 0\"])\n",
        "df_data.head()"
      ]
    },
    {
      "cell_type": "code",
      "execution_count": 9,
      "metadata": {
        "id": "SfxVooCYk2As"
      },
      "outputs": [
        {
          "data": {
            "text/plain": [
              "Organisation         0\n",
              "Location             0\n",
              "Date                 0\n",
              "Detail               0\n",
              "Rocket_Status        0\n",
              "Price             3360\n",
              "Mission_Status       0\n",
              "dtype: int64"
            ]
          },
          "execution_count": 9,
          "metadata": {},
          "output_type": "execute_result"
        }
      ],
      "source": [
        "# Figure out which column/columns has/have the NaN values\n",
        "df_data.isna().sum()"
      ]
    },
    {
      "cell_type": "markdown",
      "metadata": {},
      "source": [
        "Since the only column with missing data is the \"Price\" column, I'll keep those rows in for the time being, and only drop them when the time comes to answer questions related to the price of the missions."
      ]
    },
    {
      "cell_type": "markdown",
      "metadata": {
        "id": "QHon_T5sa-p_",
        "papermill": {
          "duration": 0.036712,
          "end_time": "2020-10-20T21:34:05.227032",
          "exception": false,
          "start_time": "2020-10-20T21:34:05.190320",
          "status": "completed"
        },
        "tags": []
      },
      "source": [
        "## Descriptive Statistics"
      ]
    },
    {
      "cell_type": "code",
      "execution_count": 10,
      "metadata": {
        "id": "Fh1-libjkJIK"
      },
      "outputs": [
        {
          "data": {
            "text/html": [
              "<div>\n",
              "<style scoped>\n",
              "    .dataframe tbody tr th:only-of-type {\n",
              "        vertical-align: middle;\n",
              "    }\n",
              "\n",
              "    .dataframe tbody tr th {\n",
              "        vertical-align: top;\n",
              "    }\n",
              "\n",
              "    .dataframe thead th {\n",
              "        text-align: right;\n",
              "    }\n",
              "</style>\n",
              "<table border=\"1\" class=\"dataframe\">\n",
              "  <thead>\n",
              "    <tr style=\"text-align: right;\">\n",
              "      <th></th>\n",
              "      <th>Organisation</th>\n",
              "      <th>Location</th>\n",
              "      <th>Date</th>\n",
              "      <th>Detail</th>\n",
              "      <th>Rocket_Status</th>\n",
              "      <th>Price</th>\n",
              "      <th>Mission_Status</th>\n",
              "    </tr>\n",
              "  </thead>\n",
              "  <tbody>\n",
              "    <tr>\n",
              "      <th>count</th>\n",
              "      <td>4324</td>\n",
              "      <td>4324</td>\n",
              "      <td>4324</td>\n",
              "      <td>4324</td>\n",
              "      <td>4324</td>\n",
              "      <td>964</td>\n",
              "      <td>4324</td>\n",
              "    </tr>\n",
              "    <tr>\n",
              "      <th>unique</th>\n",
              "      <td>56</td>\n",
              "      <td>137</td>\n",
              "      <td>4319</td>\n",
              "      <td>4278</td>\n",
              "      <td>2</td>\n",
              "      <td>56</td>\n",
              "      <td>4</td>\n",
              "    </tr>\n",
              "    <tr>\n",
              "      <th>top</th>\n",
              "      <td>RVSN USSR</td>\n",
              "      <td>Site 31/6, Baikonur Cosmodrome, Kazakhstan</td>\n",
              "      <td>Wed Nov 05, 2008 00:15 UTC</td>\n",
              "      <td>Cosmos-3MRB (65MRB) | BOR-5 Shuttle</td>\n",
              "      <td>StatusRetired</td>\n",
              "      <td>450.0</td>\n",
              "      <td>Success</td>\n",
              "    </tr>\n",
              "    <tr>\n",
              "      <th>freq</th>\n",
              "      <td>1777</td>\n",
              "      <td>235</td>\n",
              "      <td>2</td>\n",
              "      <td>6</td>\n",
              "      <td>3534</td>\n",
              "      <td>136</td>\n",
              "      <td>3879</td>\n",
              "    </tr>\n",
              "  </tbody>\n",
              "</table>\n",
              "</div>"
            ],
            "text/plain": [
              "       Organisation                                    Location  \\\n",
              "count          4324                                        4324   \n",
              "unique           56                                         137   \n",
              "top       RVSN USSR  Site 31/6, Baikonur Cosmodrome, Kazakhstan   \n",
              "freq           1777                                         235   \n",
              "\n",
              "                              Date                               Detail  \\\n",
              "count                         4324                                 4324   \n",
              "unique                        4319                                 4278   \n",
              "top     Wed Nov 05, 2008 00:15 UTC  Cosmos-3MRB (65MRB) | BOR-5 Shuttle   \n",
              "freq                             2                                    6   \n",
              "\n",
              "        Rocket_Status  Price Mission_Status  \n",
              "count            4324    964           4324  \n",
              "unique              2     56              4  \n",
              "top     StatusRetired  450.0        Success  \n",
              "freq             3534    136           3879  "
            ]
          },
          "execution_count": 10,
          "metadata": {},
          "output_type": "execute_result"
        }
      ],
      "source": [
        "df_data.describe()"
      ]
    },
    {
      "cell_type": "markdown",
      "metadata": {
        "id": "cgCjcpeUkKPW"
      },
      "source": [
        "# Number of Launches per Company\n",
        "\n",
        "Create a chart that shows the number of space mission launches by organisation."
      ]
    },
    {
      "cell_type": "code",
      "execution_count": 11,
      "metadata": {
        "id": "rxvcIrtskxYB"
      },
      "outputs": [
        {
          "data": {
            "application/vnd.plotly.v1+json": {
              "config": {
                "plotlyServerURL": "https://plot.ly"
              },
              "data": [
                {
                  "alignmentgroup": "True",
                  "hovertemplate": "Organisation=%{y}<br>x=%{x}<extra></extra>",
                  "legendgroup": "RVSN USSR",
                  "marker": {
                    "color": "#636efa",
                    "pattern": {
                      "shape": ""
                    }
                  },
                  "name": "RVSN USSR",
                  "offsetgroup": "RVSN USSR",
                  "orientation": "h",
                  "showlegend": true,
                  "textposition": "auto",
                  "type": "bar",
                  "x": [
                    1777
                  ],
                  "xaxis": "x",
                  "y": [
                    "RVSN USSR"
                  ],
                  "yaxis": "y"
                },
                {
                  "alignmentgroup": "True",
                  "hovertemplate": "Organisation=%{y}<br>x=%{x}<extra></extra>",
                  "legendgroup": "Arianespace",
                  "marker": {
                    "color": "#EF553B",
                    "pattern": {
                      "shape": ""
                    }
                  },
                  "name": "Arianespace",
                  "offsetgroup": "Arianespace",
                  "orientation": "h",
                  "showlegend": true,
                  "textposition": "auto",
                  "type": "bar",
                  "x": [
                    279
                  ],
                  "xaxis": "x",
                  "y": [
                    "Arianespace"
                  ],
                  "yaxis": "y"
                },
                {
                  "alignmentgroup": "True",
                  "hovertemplate": "Organisation=%{y}<br>x=%{x}<extra></extra>",
                  "legendgroup": "CASC",
                  "marker": {
                    "color": "#00cc96",
                    "pattern": {
                      "shape": ""
                    }
                  },
                  "name": "CASC",
                  "offsetgroup": "CASC",
                  "orientation": "h",
                  "showlegend": true,
                  "textposition": "auto",
                  "type": "bar",
                  "x": [
                    251
                  ],
                  "xaxis": "x",
                  "y": [
                    "CASC"
                  ],
                  "yaxis": "y"
                },
                {
                  "alignmentgroup": "True",
                  "hovertemplate": "Organisation=%{y}<br>x=%{x}<extra></extra>",
                  "legendgroup": "General Dynamics",
                  "marker": {
                    "color": "#ab63fa",
                    "pattern": {
                      "shape": ""
                    }
                  },
                  "name": "General Dynamics",
                  "offsetgroup": "General Dynamics",
                  "orientation": "h",
                  "showlegend": true,
                  "textposition": "auto",
                  "type": "bar",
                  "x": [
                    251
                  ],
                  "xaxis": "x",
                  "y": [
                    "General Dynamics"
                  ],
                  "yaxis": "y"
                },
                {
                  "alignmentgroup": "True",
                  "hovertemplate": "Organisation=%{y}<br>x=%{x}<extra></extra>",
                  "legendgroup": "NASA",
                  "marker": {
                    "color": "#FFA15A",
                    "pattern": {
                      "shape": ""
                    }
                  },
                  "name": "NASA",
                  "offsetgroup": "NASA",
                  "orientation": "h",
                  "showlegend": true,
                  "textposition": "auto",
                  "type": "bar",
                  "x": [
                    203
                  ],
                  "xaxis": "x",
                  "y": [
                    "NASA"
                  ],
                  "yaxis": "y"
                },
                {
                  "alignmentgroup": "True",
                  "hovertemplate": "Organisation=%{y}<br>x=%{x}<extra></extra>",
                  "legendgroup": "VKS RF",
                  "marker": {
                    "color": "#19d3f3",
                    "pattern": {
                      "shape": ""
                    }
                  },
                  "name": "VKS RF",
                  "offsetgroup": "VKS RF",
                  "orientation": "h",
                  "showlegend": true,
                  "textposition": "auto",
                  "type": "bar",
                  "x": [
                    201
                  ],
                  "xaxis": "x",
                  "y": [
                    "VKS RF"
                  ],
                  "yaxis": "y"
                },
                {
                  "alignmentgroup": "True",
                  "hovertemplate": "Organisation=%{y}<br>x=%{x}<extra></extra>",
                  "legendgroup": "US Air Force",
                  "marker": {
                    "color": "#FF6692",
                    "pattern": {
                      "shape": ""
                    }
                  },
                  "name": "US Air Force",
                  "offsetgroup": "US Air Force",
                  "orientation": "h",
                  "showlegend": true,
                  "textposition": "auto",
                  "type": "bar",
                  "x": [
                    161
                  ],
                  "xaxis": "x",
                  "y": [
                    "US Air Force"
                  ],
                  "yaxis": "y"
                },
                {
                  "alignmentgroup": "True",
                  "hovertemplate": "Organisation=%{y}<br>x=%{x}<extra></extra>",
                  "legendgroup": "ULA",
                  "marker": {
                    "color": "#B6E880",
                    "pattern": {
                      "shape": ""
                    }
                  },
                  "name": "ULA",
                  "offsetgroup": "ULA",
                  "orientation": "h",
                  "showlegend": true,
                  "textposition": "auto",
                  "type": "bar",
                  "x": [
                    140
                  ],
                  "xaxis": "x",
                  "y": [
                    "ULA"
                  ],
                  "yaxis": "y"
                },
                {
                  "alignmentgroup": "True",
                  "hovertemplate": "Organisation=%{y}<br>x=%{x}<extra></extra>",
                  "legendgroup": "Boeing",
                  "marker": {
                    "color": "#FF97FF",
                    "pattern": {
                      "shape": ""
                    }
                  },
                  "name": "Boeing",
                  "offsetgroup": "Boeing",
                  "orientation": "h",
                  "showlegend": true,
                  "textposition": "auto",
                  "type": "bar",
                  "x": [
                    136
                  ],
                  "xaxis": "x",
                  "y": [
                    "Boeing"
                  ],
                  "yaxis": "y"
                },
                {
                  "alignmentgroup": "True",
                  "hovertemplate": "Organisation=%{y}<br>x=%{x}<extra></extra>",
                  "legendgroup": "Martin Marietta",
                  "marker": {
                    "color": "#FECB52",
                    "pattern": {
                      "shape": ""
                    }
                  },
                  "name": "Martin Marietta",
                  "offsetgroup": "Martin Marietta",
                  "orientation": "h",
                  "showlegend": true,
                  "textposition": "auto",
                  "type": "bar",
                  "x": [
                    114
                  ],
                  "xaxis": "x",
                  "y": [
                    "Martin Marietta"
                  ],
                  "yaxis": "y"
                },
                {
                  "alignmentgroup": "True",
                  "hovertemplate": "Organisation=%{y}<br>x=%{x}<extra></extra>",
                  "legendgroup": "SpaceX",
                  "marker": {
                    "color": "#636efa",
                    "pattern": {
                      "shape": ""
                    }
                  },
                  "name": "SpaceX",
                  "offsetgroup": "SpaceX",
                  "orientation": "h",
                  "showlegend": true,
                  "textposition": "auto",
                  "type": "bar",
                  "x": [
                    100
                  ],
                  "xaxis": "x",
                  "y": [
                    "SpaceX"
                  ],
                  "yaxis": "y"
                },
                {
                  "alignmentgroup": "True",
                  "hovertemplate": "Organisation=%{y}<br>x=%{x}<extra></extra>",
                  "legendgroup": "MHI",
                  "marker": {
                    "color": "#EF553B",
                    "pattern": {
                      "shape": ""
                    }
                  },
                  "name": "MHI",
                  "offsetgroup": "MHI",
                  "orientation": "h",
                  "showlegend": true,
                  "textposition": "auto",
                  "type": "bar",
                  "x": [
                    84
                  ],
                  "xaxis": "x",
                  "y": [
                    "MHI"
                  ],
                  "yaxis": "y"
                },
                {
                  "alignmentgroup": "True",
                  "hovertemplate": "Organisation=%{y}<br>x=%{x}<extra></extra>",
                  "legendgroup": "Northrop",
                  "marker": {
                    "color": "#00cc96",
                    "pattern": {
                      "shape": ""
                    }
                  },
                  "name": "Northrop",
                  "offsetgroup": "Northrop",
                  "orientation": "h",
                  "showlegend": true,
                  "textposition": "auto",
                  "type": "bar",
                  "x": [
                    83
                  ],
                  "xaxis": "x",
                  "y": [
                    "Northrop"
                  ],
                  "yaxis": "y"
                },
                {
                  "alignmentgroup": "True",
                  "hovertemplate": "Organisation=%{y}<br>x=%{x}<extra></extra>",
                  "legendgroup": "Lockheed",
                  "marker": {
                    "color": "#ab63fa",
                    "pattern": {
                      "shape": ""
                    }
                  },
                  "name": "Lockheed",
                  "offsetgroup": "Lockheed",
                  "orientation": "h",
                  "showlegend": true,
                  "textposition": "auto",
                  "type": "bar",
                  "x": [
                    79
                  ],
                  "xaxis": "x",
                  "y": [
                    "Lockheed"
                  ],
                  "yaxis": "y"
                },
                {
                  "alignmentgroup": "True",
                  "hovertemplate": "Organisation=%{y}<br>x=%{x}<extra></extra>",
                  "legendgroup": "ISRO",
                  "marker": {
                    "color": "#FFA15A",
                    "pattern": {
                      "shape": ""
                    }
                  },
                  "name": "ISRO",
                  "offsetgroup": "ISRO",
                  "orientation": "h",
                  "showlegend": true,
                  "textposition": "auto",
                  "type": "bar",
                  "x": [
                    76
                  ],
                  "xaxis": "x",
                  "y": [
                    "ISRO"
                  ],
                  "yaxis": "y"
                },
                {
                  "alignmentgroup": "True",
                  "hovertemplate": "Organisation=%{y}<br>x=%{x}<extra></extra>",
                  "legendgroup": "Roscosmos",
                  "marker": {
                    "color": "#19d3f3",
                    "pattern": {
                      "shape": ""
                    }
                  },
                  "name": "Roscosmos",
                  "offsetgroup": "Roscosmos",
                  "orientation": "h",
                  "showlegend": true,
                  "textposition": "auto",
                  "type": "bar",
                  "x": [
                    55
                  ],
                  "xaxis": "x",
                  "y": [
                    "Roscosmos"
                  ],
                  "yaxis": "y"
                },
                {
                  "alignmentgroup": "True",
                  "hovertemplate": "Organisation=%{y}<br>x=%{x}<extra></extra>",
                  "legendgroup": "ILS",
                  "marker": {
                    "color": "#FF6692",
                    "pattern": {
                      "shape": ""
                    }
                  },
                  "name": "ILS",
                  "offsetgroup": "ILS",
                  "orientation": "h",
                  "showlegend": true,
                  "textposition": "auto",
                  "type": "bar",
                  "x": [
                    46
                  ],
                  "xaxis": "x",
                  "y": [
                    "ILS"
                  ],
                  "yaxis": "y"
                },
                {
                  "alignmentgroup": "True",
                  "hovertemplate": "Organisation=%{y}<br>x=%{x}<extra></extra>",
                  "legendgroup": "Sea Launch",
                  "marker": {
                    "color": "#B6E880",
                    "pattern": {
                      "shape": ""
                    }
                  },
                  "name": "Sea Launch",
                  "offsetgroup": "Sea Launch",
                  "orientation": "h",
                  "showlegend": true,
                  "textposition": "auto",
                  "type": "bar",
                  "x": [
                    36
                  ],
                  "xaxis": "x",
                  "y": [
                    "Sea Launch"
                  ],
                  "yaxis": "y"
                },
                {
                  "alignmentgroup": "True",
                  "hovertemplate": "Organisation=%{y}<br>x=%{x}<extra></extra>",
                  "legendgroup": "ISAS",
                  "marker": {
                    "color": "#FF97FF",
                    "pattern": {
                      "shape": ""
                    }
                  },
                  "name": "ISAS",
                  "offsetgroup": "ISAS",
                  "orientation": "h",
                  "showlegend": true,
                  "textposition": "auto",
                  "type": "bar",
                  "x": [
                    30
                  ],
                  "xaxis": "x",
                  "y": [
                    "ISAS"
                  ],
                  "yaxis": "y"
                },
                {
                  "alignmentgroup": "True",
                  "hovertemplate": "Organisation=%{y}<br>x=%{x}<extra></extra>",
                  "legendgroup": "Kosmotras",
                  "marker": {
                    "color": "#FECB52",
                    "pattern": {
                      "shape": ""
                    }
                  },
                  "name": "Kosmotras",
                  "offsetgroup": "Kosmotras",
                  "orientation": "h",
                  "showlegend": true,
                  "textposition": "auto",
                  "type": "bar",
                  "x": [
                    22
                  ],
                  "xaxis": "x",
                  "y": [
                    "Kosmotras"
                  ],
                  "yaxis": "y"
                },
                {
                  "alignmentgroup": "True",
                  "hovertemplate": "Organisation=%{y}<br>x=%{x}<extra></extra>",
                  "legendgroup": "US Navy",
                  "marker": {
                    "color": "#636efa",
                    "pattern": {
                      "shape": ""
                    }
                  },
                  "name": "US Navy",
                  "offsetgroup": "US Navy",
                  "orientation": "h",
                  "showlegend": true,
                  "textposition": "auto",
                  "type": "bar",
                  "x": [
                    17
                  ],
                  "xaxis": "x",
                  "y": [
                    "US Navy"
                  ],
                  "yaxis": "y"
                },
                {
                  "alignmentgroup": "True",
                  "hovertemplate": "Organisation=%{y}<br>x=%{x}<extra></extra>",
                  "legendgroup": "ISA",
                  "marker": {
                    "color": "#EF553B",
                    "pattern": {
                      "shape": ""
                    }
                  },
                  "name": "ISA",
                  "offsetgroup": "ISA",
                  "orientation": "h",
                  "showlegend": true,
                  "textposition": "auto",
                  "type": "bar",
                  "x": [
                    13
                  ],
                  "xaxis": "x",
                  "y": [
                    "ISA"
                  ],
                  "yaxis": "y"
                },
                {
                  "alignmentgroup": "True",
                  "hovertemplate": "Organisation=%{y}<br>x=%{x}<extra></extra>",
                  "legendgroup": "Rocket Lab",
                  "marker": {
                    "color": "#00cc96",
                    "pattern": {
                      "shape": ""
                    }
                  },
                  "name": "Rocket Lab",
                  "offsetgroup": "Rocket Lab",
                  "orientation": "h",
                  "showlegend": true,
                  "textposition": "auto",
                  "type": "bar",
                  "x": [
                    13
                  ],
                  "xaxis": "x",
                  "y": [
                    "Rocket Lab"
                  ],
                  "yaxis": "y"
                },
                {
                  "alignmentgroup": "True",
                  "hovertemplate": "Organisation=%{y}<br>x=%{x}<extra></extra>",
                  "legendgroup": "Eurockot",
                  "marker": {
                    "color": "#ab63fa",
                    "pattern": {
                      "shape": ""
                    }
                  },
                  "name": "Eurockot",
                  "offsetgroup": "Eurockot",
                  "orientation": "h",
                  "showlegend": true,
                  "textposition": "auto",
                  "type": "bar",
                  "x": [
                    13
                  ],
                  "xaxis": "x",
                  "y": [
                    "Eurockot"
                  ],
                  "yaxis": "y"
                },
                {
                  "alignmentgroup": "True",
                  "hovertemplate": "Organisation=%{y}<br>x=%{x}<extra></extra>",
                  "legendgroup": "ESA",
                  "marker": {
                    "color": "#FFA15A",
                    "pattern": {
                      "shape": ""
                    }
                  },
                  "name": "ESA",
                  "offsetgroup": "ESA",
                  "orientation": "h",
                  "showlegend": true,
                  "textposition": "auto",
                  "type": "bar",
                  "x": [
                    13
                  ],
                  "xaxis": "x",
                  "y": [
                    "ESA"
                  ],
                  "yaxis": "y"
                },
                {
                  "alignmentgroup": "True",
                  "hovertemplate": "Organisation=%{y}<br>x=%{x}<extra></extra>",
                  "legendgroup": "Blue Origin",
                  "marker": {
                    "color": "#19d3f3",
                    "pattern": {
                      "shape": ""
                    }
                  },
                  "name": "Blue Origin",
                  "offsetgroup": "Blue Origin",
                  "orientation": "h",
                  "showlegend": true,
                  "textposition": "auto",
                  "type": "bar",
                  "x": [
                    12
                  ],
                  "xaxis": "x",
                  "y": [
                    "Blue Origin"
                  ],
                  "yaxis": "y"
                },
                {
                  "alignmentgroup": "True",
                  "hovertemplate": "Organisation=%{y}<br>x=%{x}<extra></extra>",
                  "legendgroup": "IAI",
                  "marker": {
                    "color": "#FF6692",
                    "pattern": {
                      "shape": ""
                    }
                  },
                  "name": "IAI",
                  "offsetgroup": "IAI",
                  "orientation": "h",
                  "showlegend": true,
                  "textposition": "auto",
                  "type": "bar",
                  "x": [
                    11
                  ],
                  "xaxis": "x",
                  "y": [
                    "IAI"
                  ],
                  "yaxis": "y"
                },
                {
                  "alignmentgroup": "True",
                  "hovertemplate": "Organisation=%{y}<br>x=%{x}<extra></extra>",
                  "legendgroup": "ExPace",
                  "marker": {
                    "color": "#B6E880",
                    "pattern": {
                      "shape": ""
                    }
                  },
                  "name": "ExPace",
                  "offsetgroup": "ExPace",
                  "orientation": "h",
                  "showlegend": true,
                  "textposition": "auto",
                  "type": "bar",
                  "x": [
                    10
                  ],
                  "xaxis": "x",
                  "y": [
                    "ExPace"
                  ],
                  "yaxis": "y"
                },
                {
                  "alignmentgroup": "True",
                  "hovertemplate": "Organisation=%{y}<br>x=%{x}<extra></extra>",
                  "legendgroup": "ASI",
                  "marker": {
                    "color": "#FF97FF",
                    "pattern": {
                      "shape": ""
                    }
                  },
                  "name": "ASI",
                  "offsetgroup": "ASI",
                  "orientation": "h",
                  "showlegend": true,
                  "textposition": "auto",
                  "type": "bar",
                  "x": [
                    9
                  ],
                  "xaxis": "x",
                  "y": [
                    "ASI"
                  ],
                  "yaxis": "y"
                },
                {
                  "alignmentgroup": "True",
                  "hovertemplate": "Organisation=%{y}<br>x=%{x}<extra></extra>",
                  "legendgroup": "CNES",
                  "marker": {
                    "color": "#FECB52",
                    "pattern": {
                      "shape": ""
                    }
                  },
                  "name": "CNES",
                  "offsetgroup": "CNES",
                  "orientation": "h",
                  "showlegend": true,
                  "textposition": "auto",
                  "type": "bar",
                  "x": [
                    8
                  ],
                  "xaxis": "x",
                  "y": [
                    "CNES"
                  ],
                  "yaxis": "y"
                },
                {
                  "alignmentgroup": "True",
                  "hovertemplate": "Organisation=%{y}<br>x=%{x}<extra></extra>",
                  "legendgroup": "AMBA",
                  "marker": {
                    "color": "#636efa",
                    "pattern": {
                      "shape": ""
                    }
                  },
                  "name": "AMBA",
                  "offsetgroup": "AMBA",
                  "orientation": "h",
                  "showlegend": true,
                  "textposition": "auto",
                  "type": "bar",
                  "x": [
                    8
                  ],
                  "xaxis": "x",
                  "y": [
                    "AMBA"
                  ],
                  "yaxis": "y"
                },
                {
                  "alignmentgroup": "True",
                  "hovertemplate": "Organisation=%{y}<br>x=%{x}<extra></extra>",
                  "legendgroup": "MITT",
                  "marker": {
                    "color": "#EF553B",
                    "pattern": {
                      "shape": ""
                    }
                  },
                  "name": "MITT",
                  "offsetgroup": "MITT",
                  "orientation": "h",
                  "showlegend": true,
                  "textposition": "auto",
                  "type": "bar",
                  "x": [
                    7
                  ],
                  "xaxis": "x",
                  "y": [
                    "MITT"
                  ],
                  "yaxis": "y"
                },
                {
                  "alignmentgroup": "True",
                  "hovertemplate": "Organisation=%{y}<br>x=%{x}<extra></extra>",
                  "legendgroup": "JAXA",
                  "marker": {
                    "color": "#00cc96",
                    "pattern": {
                      "shape": ""
                    }
                  },
                  "name": "JAXA",
                  "offsetgroup": "JAXA",
                  "orientation": "h",
                  "showlegend": true,
                  "textposition": "auto",
                  "type": "bar",
                  "x": [
                    7
                  ],
                  "xaxis": "x",
                  "y": [
                    "JAXA"
                  ],
                  "yaxis": "y"
                },
                {
                  "alignmentgroup": "True",
                  "hovertemplate": "Organisation=%{y}<br>x=%{x}<extra></extra>",
                  "legendgroup": "Land Launch",
                  "marker": {
                    "color": "#ab63fa",
                    "pattern": {
                      "shape": ""
                    }
                  },
                  "name": "Land Launch",
                  "offsetgroup": "Land Launch",
                  "orientation": "h",
                  "showlegend": true,
                  "textposition": "auto",
                  "type": "bar",
                  "x": [
                    7
                  ],
                  "xaxis": "x",
                  "y": [
                    "Land Launch"
                  ],
                  "yaxis": "y"
                },
                {
                  "alignmentgroup": "True",
                  "hovertemplate": "Organisation=%{y}<br>x=%{x}<extra></extra>",
                  "legendgroup": "UT",
                  "marker": {
                    "color": "#FFA15A",
                    "pattern": {
                      "shape": ""
                    }
                  },
                  "name": "UT",
                  "offsetgroup": "UT",
                  "orientation": "h",
                  "showlegend": true,
                  "textposition": "auto",
                  "type": "bar",
                  "x": [
                    5
                  ],
                  "xaxis": "x",
                  "y": [
                    "UT"
                  ],
                  "yaxis": "y"
                },
                {
                  "alignmentgroup": "True",
                  "hovertemplate": "Organisation=%{y}<br>x=%{x}<extra></extra>",
                  "legendgroup": "KCST",
                  "marker": {
                    "color": "#19d3f3",
                    "pattern": {
                      "shape": ""
                    }
                  },
                  "name": "KCST",
                  "offsetgroup": "KCST",
                  "orientation": "h",
                  "showlegend": true,
                  "textposition": "auto",
                  "type": "bar",
                  "x": [
                    5
                  ],
                  "xaxis": "x",
                  "y": [
                    "KCST"
                  ],
                  "yaxis": "y"
                },
                {
                  "alignmentgroup": "True",
                  "hovertemplate": "Organisation=%{y}<br>x=%{x}<extra></extra>",
                  "legendgroup": "CASIC",
                  "marker": {
                    "color": "#FF6692",
                    "pattern": {
                      "shape": ""
                    }
                  },
                  "name": "CASIC",
                  "offsetgroup": "CASIC",
                  "orientation": "h",
                  "showlegend": true,
                  "textposition": "auto",
                  "type": "bar",
                  "x": [
                    5
                  ],
                  "xaxis": "x",
                  "y": [
                    "CASIC"
                  ],
                  "yaxis": "y"
                },
                {
                  "alignmentgroup": "True",
                  "hovertemplate": "Organisation=%{y}<br>x=%{x}<extra></extra>",
                  "legendgroup": "Exos",
                  "marker": {
                    "color": "#B6E880",
                    "pattern": {
                      "shape": ""
                    }
                  },
                  "name": "Exos",
                  "offsetgroup": "Exos",
                  "orientation": "h",
                  "showlegend": true,
                  "textposition": "auto",
                  "type": "bar",
                  "x": [
                    4
                  ],
                  "xaxis": "x",
                  "y": [
                    "Exos"
                  ],
                  "yaxis": "y"
                },
                {
                  "alignmentgroup": "True",
                  "hovertemplate": "Organisation=%{y}<br>x=%{x}<extra></extra>",
                  "legendgroup": "CECLES",
                  "marker": {
                    "color": "#FF97FF",
                    "pattern": {
                      "shape": ""
                    }
                  },
                  "name": "CECLES",
                  "offsetgroup": "CECLES",
                  "orientation": "h",
                  "showlegend": true,
                  "textposition": "auto",
                  "type": "bar",
                  "x": [
                    4
                  ],
                  "xaxis": "x",
                  "y": [
                    "CECLES"
                  ],
                  "yaxis": "y"
                },
                {
                  "alignmentgroup": "True",
                  "hovertemplate": "Organisation=%{y}<br>x=%{x}<extra></extra>",
                  "legendgroup": "Arm??e de l'Air",
                  "marker": {
                    "color": "#FECB52",
                    "pattern": {
                      "shape": ""
                    }
                  },
                  "name": "Arm??e de l'Air",
                  "offsetgroup": "Arm??e de l'Air",
                  "orientation": "h",
                  "showlegend": true,
                  "textposition": "auto",
                  "type": "bar",
                  "x": [
                    4
                  ],
                  "xaxis": "x",
                  "y": [
                    "Arm??e de l'Air"
                  ],
                  "yaxis": "y"
                },
                {
                  "alignmentgroup": "True",
                  "hovertemplate": "Organisation=%{y}<br>x=%{x}<extra></extra>",
                  "legendgroup": "KARI",
                  "marker": {
                    "color": "#636efa",
                    "pattern": {
                      "shape": ""
                    }
                  },
                  "name": "KARI",
                  "offsetgroup": "KARI",
                  "orientation": "h",
                  "showlegend": true,
                  "textposition": "auto",
                  "type": "bar",
                  "x": [
                    3
                  ],
                  "xaxis": "x",
                  "y": [
                    "KARI"
                  ],
                  "yaxis": "y"
                },
                {
                  "alignmentgroup": "True",
                  "hovertemplate": "Organisation=%{y}<br>x=%{x}<extra></extra>",
                  "legendgroup": "SRC",
                  "marker": {
                    "color": "#EF553B",
                    "pattern": {
                      "shape": ""
                    }
                  },
                  "name": "SRC",
                  "offsetgroup": "SRC",
                  "orientation": "h",
                  "showlegend": true,
                  "textposition": "auto",
                  "type": "bar",
                  "x": [
                    3
                  ],
                  "xaxis": "x",
                  "y": [
                    "SRC"
                  ],
                  "yaxis": "y"
                },
                {
                  "alignmentgroup": "True",
                  "hovertemplate": "Organisation=%{y}<br>x=%{x}<extra></extra>",
                  "legendgroup": "AEB",
                  "marker": {
                    "color": "#00cc96",
                    "pattern": {
                      "shape": ""
                    }
                  },
                  "name": "AEB",
                  "offsetgroup": "AEB",
                  "orientation": "h",
                  "showlegend": true,
                  "textposition": "auto",
                  "type": "bar",
                  "x": [
                    3
                  ],
                  "xaxis": "x",
                  "y": [
                    "AEB"
                  ],
                  "yaxis": "y"
                },
                {
                  "alignmentgroup": "True",
                  "hovertemplate": "Organisation=%{y}<br>x=%{x}<extra></extra>",
                  "legendgroup": "RAE",
                  "marker": {
                    "color": "#ab63fa",
                    "pattern": {
                      "shape": ""
                    }
                  },
                  "name": "RAE",
                  "offsetgroup": "RAE",
                  "orientation": "h",
                  "showlegend": true,
                  "textposition": "auto",
                  "type": "bar",
                  "x": [
                    2
                  ],
                  "xaxis": "x",
                  "y": [
                    "RAE"
                  ],
                  "yaxis": "y"
                },
                {
                  "alignmentgroup": "True",
                  "hovertemplate": "Organisation=%{y}<br>x=%{x}<extra></extra>",
                  "legendgroup": "OKB-586",
                  "marker": {
                    "color": "#FFA15A",
                    "pattern": {
                      "shape": ""
                    }
                  },
                  "name": "OKB-586",
                  "offsetgroup": "OKB-586",
                  "orientation": "h",
                  "showlegend": true,
                  "textposition": "auto",
                  "type": "bar",
                  "x": [
                    2
                  ],
                  "xaxis": "x",
                  "y": [
                    "OKB-586"
                  ],
                  "yaxis": "y"
                },
                {
                  "alignmentgroup": "True",
                  "hovertemplate": "Organisation=%{y}<br>x=%{x}<extra></extra>",
                  "legendgroup": "Yuzhmash",
                  "marker": {
                    "color": "#19d3f3",
                    "pattern": {
                      "shape": ""
                    }
                  },
                  "name": "Yuzhmash",
                  "offsetgroup": "Yuzhmash",
                  "orientation": "h",
                  "showlegend": true,
                  "textposition": "auto",
                  "type": "bar",
                  "x": [
                    2
                  ],
                  "xaxis": "x",
                  "y": [
                    "Yuzhmash"
                  ],
                  "yaxis": "y"
                },
                {
                  "alignmentgroup": "True",
                  "hovertemplate": "Organisation=%{y}<br>x=%{x}<extra></extra>",
                  "legendgroup": "Landspace",
                  "marker": {
                    "color": "#FF6692",
                    "pattern": {
                      "shape": ""
                    }
                  },
                  "name": "Landspace",
                  "offsetgroup": "Landspace",
                  "orientation": "h",
                  "showlegend": true,
                  "textposition": "auto",
                  "type": "bar",
                  "x": [
                    1
                  ],
                  "xaxis": "x",
                  "y": [
                    "Landspace"
                  ],
                  "yaxis": "y"
                },
                {
                  "alignmentgroup": "True",
                  "hovertemplate": "Organisation=%{y}<br>x=%{x}<extra></extra>",
                  "legendgroup": "Douglas",
                  "marker": {
                    "color": "#B6E880",
                    "pattern": {
                      "shape": ""
                    }
                  },
                  "name": "Douglas",
                  "offsetgroup": "Douglas",
                  "orientation": "h",
                  "showlegend": true,
                  "textposition": "auto",
                  "type": "bar",
                  "x": [
                    1
                  ],
                  "xaxis": "x",
                  "y": [
                    "Douglas"
                  ],
                  "yaxis": "y"
                },
                {
                  "alignmentgroup": "True",
                  "hovertemplate": "Organisation=%{y}<br>x=%{x}<extra></extra>",
                  "legendgroup": "EER",
                  "marker": {
                    "color": "#FF97FF",
                    "pattern": {
                      "shape": ""
                    }
                  },
                  "name": "EER",
                  "offsetgroup": "EER",
                  "orientation": "h",
                  "showlegend": true,
                  "textposition": "auto",
                  "type": "bar",
                  "x": [
                    1
                  ],
                  "xaxis": "x",
                  "y": [
                    "EER"
                  ],
                  "yaxis": "y"
                },
                {
                  "alignmentgroup": "True",
                  "hovertemplate": "Organisation=%{y}<br>x=%{x}<extra></extra>",
                  "legendgroup": "Starsem",
                  "marker": {
                    "color": "#FECB52",
                    "pattern": {
                      "shape": ""
                    }
                  },
                  "name": "Starsem",
                  "offsetgroup": "Starsem",
                  "orientation": "h",
                  "showlegend": true,
                  "textposition": "auto",
                  "type": "bar",
                  "x": [
                    1
                  ],
                  "xaxis": "x",
                  "y": [
                    "Starsem"
                  ],
                  "yaxis": "y"
                },
                {
                  "alignmentgroup": "True",
                  "hovertemplate": "Organisation=%{y}<br>x=%{x}<extra></extra>",
                  "legendgroup": "Virgin Orbit",
                  "marker": {
                    "color": "#636efa",
                    "pattern": {
                      "shape": ""
                    }
                  },
                  "name": "Virgin Orbit",
                  "offsetgroup": "Virgin Orbit",
                  "orientation": "h",
                  "showlegend": true,
                  "textposition": "auto",
                  "type": "bar",
                  "x": [
                    1
                  ],
                  "xaxis": "x",
                  "y": [
                    "Virgin Orbit"
                  ],
                  "yaxis": "y"
                },
                {
                  "alignmentgroup": "True",
                  "hovertemplate": "Organisation=%{y}<br>x=%{x}<extra></extra>",
                  "legendgroup": "IRGC",
                  "marker": {
                    "color": "#EF553B",
                    "pattern": {
                      "shape": ""
                    }
                  },
                  "name": "IRGC",
                  "offsetgroup": "IRGC",
                  "orientation": "h",
                  "showlegend": true,
                  "textposition": "auto",
                  "type": "bar",
                  "x": [
                    1
                  ],
                  "xaxis": "x",
                  "y": [
                    "IRGC"
                  ],
                  "yaxis": "y"
                },
                {
                  "alignmentgroup": "True",
                  "hovertemplate": "Organisation=%{y}<br>x=%{x}<extra></extra>",
                  "legendgroup": "i-Space",
                  "marker": {
                    "color": "#00cc96",
                    "pattern": {
                      "shape": ""
                    }
                  },
                  "name": "i-Space",
                  "offsetgroup": "i-Space",
                  "orientation": "h",
                  "showlegend": true,
                  "textposition": "auto",
                  "type": "bar",
                  "x": [
                    1
                  ],
                  "xaxis": "x",
                  "y": [
                    "i-Space"
                  ],
                  "yaxis": "y"
                },
                {
                  "alignmentgroup": "True",
                  "hovertemplate": "Organisation=%{y}<br>x=%{x}<extra></extra>",
                  "legendgroup": "OneSpace",
                  "marker": {
                    "color": "#ab63fa",
                    "pattern": {
                      "shape": ""
                    }
                  },
                  "name": "OneSpace",
                  "offsetgroup": "OneSpace",
                  "orientation": "h",
                  "showlegend": true,
                  "textposition": "auto",
                  "type": "bar",
                  "x": [
                    1
                  ],
                  "xaxis": "x",
                  "y": [
                    "OneSpace"
                  ],
                  "yaxis": "y"
                },
                {
                  "alignmentgroup": "True",
                  "hovertemplate": "Organisation=%{y}<br>x=%{x}<extra></extra>",
                  "legendgroup": "Sandia",
                  "marker": {
                    "color": "#FFA15A",
                    "pattern": {
                      "shape": ""
                    }
                  },
                  "name": "Sandia",
                  "offsetgroup": "Sandia",
                  "orientation": "h",
                  "showlegend": true,
                  "textposition": "auto",
                  "type": "bar",
                  "x": [
                    1
                  ],
                  "xaxis": "x",
                  "y": [
                    "Sandia"
                  ],
                  "yaxis": "y"
                },
                {
                  "alignmentgroup": "True",
                  "hovertemplate": "Organisation=%{y}<br>x=%{x}<extra></extra>",
                  "legendgroup": "Khrunichev",
                  "marker": {
                    "color": "#19d3f3",
                    "pattern": {
                      "shape": ""
                    }
                  },
                  "name": "Khrunichev",
                  "offsetgroup": "Khrunichev",
                  "orientation": "h",
                  "showlegend": true,
                  "textposition": "auto",
                  "type": "bar",
                  "x": [
                    1
                  ],
                  "xaxis": "x",
                  "y": [
                    "Khrunichev"
                  ],
                  "yaxis": "y"
                }
              ],
              "layout": {
                "barmode": "relative",
                "legend": {
                  "title": {
                    "text": "Organisation"
                  },
                  "tracegroupgap": 0
                },
                "template": {
                  "data": {
                    "bar": [
                      {
                        "error_x": {
                          "color": "#2a3f5f"
                        },
                        "error_y": {
                          "color": "#2a3f5f"
                        },
                        "marker": {
                          "line": {
                            "color": "#E5ECF6",
                            "width": 0.5
                          },
                          "pattern": {
                            "fillmode": "overlay",
                            "size": 10,
                            "solidity": 0.2
                          }
                        },
                        "type": "bar"
                      }
                    ],
                    "barpolar": [
                      {
                        "marker": {
                          "line": {
                            "color": "#E5ECF6",
                            "width": 0.5
                          },
                          "pattern": {
                            "fillmode": "overlay",
                            "size": 10,
                            "solidity": 0.2
                          }
                        },
                        "type": "barpolar"
                      }
                    ],
                    "carpet": [
                      {
                        "aaxis": {
                          "endlinecolor": "#2a3f5f",
                          "gridcolor": "white",
                          "linecolor": "white",
                          "minorgridcolor": "white",
                          "startlinecolor": "#2a3f5f"
                        },
                        "baxis": {
                          "endlinecolor": "#2a3f5f",
                          "gridcolor": "white",
                          "linecolor": "white",
                          "minorgridcolor": "white",
                          "startlinecolor": "#2a3f5f"
                        },
                        "type": "carpet"
                      }
                    ],
                    "choropleth": [
                      {
                        "colorbar": {
                          "outlinewidth": 0,
                          "ticks": ""
                        },
                        "type": "choropleth"
                      }
                    ],
                    "contour": [
                      {
                        "colorbar": {
                          "outlinewidth": 0,
                          "ticks": ""
                        },
                        "colorscale": [
                          [
                            0,
                            "#0d0887"
                          ],
                          [
                            0.1111111111111111,
                            "#46039f"
                          ],
                          [
                            0.2222222222222222,
                            "#7201a8"
                          ],
                          [
                            0.3333333333333333,
                            "#9c179e"
                          ],
                          [
                            0.4444444444444444,
                            "#bd3786"
                          ],
                          [
                            0.5555555555555556,
                            "#d8576b"
                          ],
                          [
                            0.6666666666666666,
                            "#ed7953"
                          ],
                          [
                            0.7777777777777778,
                            "#fb9f3a"
                          ],
                          [
                            0.8888888888888888,
                            "#fdca26"
                          ],
                          [
                            1,
                            "#f0f921"
                          ]
                        ],
                        "type": "contour"
                      }
                    ],
                    "contourcarpet": [
                      {
                        "colorbar": {
                          "outlinewidth": 0,
                          "ticks": ""
                        },
                        "type": "contourcarpet"
                      }
                    ],
                    "heatmap": [
                      {
                        "colorbar": {
                          "outlinewidth": 0,
                          "ticks": ""
                        },
                        "colorscale": [
                          [
                            0,
                            "#0d0887"
                          ],
                          [
                            0.1111111111111111,
                            "#46039f"
                          ],
                          [
                            0.2222222222222222,
                            "#7201a8"
                          ],
                          [
                            0.3333333333333333,
                            "#9c179e"
                          ],
                          [
                            0.4444444444444444,
                            "#bd3786"
                          ],
                          [
                            0.5555555555555556,
                            "#d8576b"
                          ],
                          [
                            0.6666666666666666,
                            "#ed7953"
                          ],
                          [
                            0.7777777777777778,
                            "#fb9f3a"
                          ],
                          [
                            0.8888888888888888,
                            "#fdca26"
                          ],
                          [
                            1,
                            "#f0f921"
                          ]
                        ],
                        "type": "heatmap"
                      }
                    ],
                    "heatmapgl": [
                      {
                        "colorbar": {
                          "outlinewidth": 0,
                          "ticks": ""
                        },
                        "colorscale": [
                          [
                            0,
                            "#0d0887"
                          ],
                          [
                            0.1111111111111111,
                            "#46039f"
                          ],
                          [
                            0.2222222222222222,
                            "#7201a8"
                          ],
                          [
                            0.3333333333333333,
                            "#9c179e"
                          ],
                          [
                            0.4444444444444444,
                            "#bd3786"
                          ],
                          [
                            0.5555555555555556,
                            "#d8576b"
                          ],
                          [
                            0.6666666666666666,
                            "#ed7953"
                          ],
                          [
                            0.7777777777777778,
                            "#fb9f3a"
                          ],
                          [
                            0.8888888888888888,
                            "#fdca26"
                          ],
                          [
                            1,
                            "#f0f921"
                          ]
                        ],
                        "type": "heatmapgl"
                      }
                    ],
                    "histogram": [
                      {
                        "marker": {
                          "pattern": {
                            "fillmode": "overlay",
                            "size": 10,
                            "solidity": 0.2
                          }
                        },
                        "type": "histogram"
                      }
                    ],
                    "histogram2d": [
                      {
                        "colorbar": {
                          "outlinewidth": 0,
                          "ticks": ""
                        },
                        "colorscale": [
                          [
                            0,
                            "#0d0887"
                          ],
                          [
                            0.1111111111111111,
                            "#46039f"
                          ],
                          [
                            0.2222222222222222,
                            "#7201a8"
                          ],
                          [
                            0.3333333333333333,
                            "#9c179e"
                          ],
                          [
                            0.4444444444444444,
                            "#bd3786"
                          ],
                          [
                            0.5555555555555556,
                            "#d8576b"
                          ],
                          [
                            0.6666666666666666,
                            "#ed7953"
                          ],
                          [
                            0.7777777777777778,
                            "#fb9f3a"
                          ],
                          [
                            0.8888888888888888,
                            "#fdca26"
                          ],
                          [
                            1,
                            "#f0f921"
                          ]
                        ],
                        "type": "histogram2d"
                      }
                    ],
                    "histogram2dcontour": [
                      {
                        "colorbar": {
                          "outlinewidth": 0,
                          "ticks": ""
                        },
                        "colorscale": [
                          [
                            0,
                            "#0d0887"
                          ],
                          [
                            0.1111111111111111,
                            "#46039f"
                          ],
                          [
                            0.2222222222222222,
                            "#7201a8"
                          ],
                          [
                            0.3333333333333333,
                            "#9c179e"
                          ],
                          [
                            0.4444444444444444,
                            "#bd3786"
                          ],
                          [
                            0.5555555555555556,
                            "#d8576b"
                          ],
                          [
                            0.6666666666666666,
                            "#ed7953"
                          ],
                          [
                            0.7777777777777778,
                            "#fb9f3a"
                          ],
                          [
                            0.8888888888888888,
                            "#fdca26"
                          ],
                          [
                            1,
                            "#f0f921"
                          ]
                        ],
                        "type": "histogram2dcontour"
                      }
                    ],
                    "mesh3d": [
                      {
                        "colorbar": {
                          "outlinewidth": 0,
                          "ticks": ""
                        },
                        "type": "mesh3d"
                      }
                    ],
                    "parcoords": [
                      {
                        "line": {
                          "colorbar": {
                            "outlinewidth": 0,
                            "ticks": ""
                          }
                        },
                        "type": "parcoords"
                      }
                    ],
                    "pie": [
                      {
                        "automargin": true,
                        "type": "pie"
                      }
                    ],
                    "scatter": [
                      {
                        "fillpattern": {
                          "fillmode": "overlay",
                          "size": 10,
                          "solidity": 0.2
                        },
                        "type": "scatter"
                      }
                    ],
                    "scatter3d": [
                      {
                        "line": {
                          "colorbar": {
                            "outlinewidth": 0,
                            "ticks": ""
                          }
                        },
                        "marker": {
                          "colorbar": {
                            "outlinewidth": 0,
                            "ticks": ""
                          }
                        },
                        "type": "scatter3d"
                      }
                    ],
                    "scattercarpet": [
                      {
                        "marker": {
                          "colorbar": {
                            "outlinewidth": 0,
                            "ticks": ""
                          }
                        },
                        "type": "scattercarpet"
                      }
                    ],
                    "scattergeo": [
                      {
                        "marker": {
                          "colorbar": {
                            "outlinewidth": 0,
                            "ticks": ""
                          }
                        },
                        "type": "scattergeo"
                      }
                    ],
                    "scattergl": [
                      {
                        "marker": {
                          "colorbar": {
                            "outlinewidth": 0,
                            "ticks": ""
                          }
                        },
                        "type": "scattergl"
                      }
                    ],
                    "scattermapbox": [
                      {
                        "marker": {
                          "colorbar": {
                            "outlinewidth": 0,
                            "ticks": ""
                          }
                        },
                        "type": "scattermapbox"
                      }
                    ],
                    "scatterpolar": [
                      {
                        "marker": {
                          "colorbar": {
                            "outlinewidth": 0,
                            "ticks": ""
                          }
                        },
                        "type": "scatterpolar"
                      }
                    ],
                    "scatterpolargl": [
                      {
                        "marker": {
                          "colorbar": {
                            "outlinewidth": 0,
                            "ticks": ""
                          }
                        },
                        "type": "scatterpolargl"
                      }
                    ],
                    "scatterternary": [
                      {
                        "marker": {
                          "colorbar": {
                            "outlinewidth": 0,
                            "ticks": ""
                          }
                        },
                        "type": "scatterternary"
                      }
                    ],
                    "surface": [
                      {
                        "colorbar": {
                          "outlinewidth": 0,
                          "ticks": ""
                        },
                        "colorscale": [
                          [
                            0,
                            "#0d0887"
                          ],
                          [
                            0.1111111111111111,
                            "#46039f"
                          ],
                          [
                            0.2222222222222222,
                            "#7201a8"
                          ],
                          [
                            0.3333333333333333,
                            "#9c179e"
                          ],
                          [
                            0.4444444444444444,
                            "#bd3786"
                          ],
                          [
                            0.5555555555555556,
                            "#d8576b"
                          ],
                          [
                            0.6666666666666666,
                            "#ed7953"
                          ],
                          [
                            0.7777777777777778,
                            "#fb9f3a"
                          ],
                          [
                            0.8888888888888888,
                            "#fdca26"
                          ],
                          [
                            1,
                            "#f0f921"
                          ]
                        ],
                        "type": "surface"
                      }
                    ],
                    "table": [
                      {
                        "cells": {
                          "fill": {
                            "color": "#EBF0F8"
                          },
                          "line": {
                            "color": "white"
                          }
                        },
                        "header": {
                          "fill": {
                            "color": "#C8D4E3"
                          },
                          "line": {
                            "color": "white"
                          }
                        },
                        "type": "table"
                      }
                    ]
                  },
                  "layout": {
                    "annotationdefaults": {
                      "arrowcolor": "#2a3f5f",
                      "arrowhead": 0,
                      "arrowwidth": 1
                    },
                    "autotypenumbers": "strict",
                    "coloraxis": {
                      "colorbar": {
                        "outlinewidth": 0,
                        "ticks": ""
                      }
                    },
                    "colorscale": {
                      "diverging": [
                        [
                          0,
                          "#8e0152"
                        ],
                        [
                          0.1,
                          "#c51b7d"
                        ],
                        [
                          0.2,
                          "#de77ae"
                        ],
                        [
                          0.3,
                          "#f1b6da"
                        ],
                        [
                          0.4,
                          "#fde0ef"
                        ],
                        [
                          0.5,
                          "#f7f7f7"
                        ],
                        [
                          0.6,
                          "#e6f5d0"
                        ],
                        [
                          0.7,
                          "#b8e186"
                        ],
                        [
                          0.8,
                          "#7fbc41"
                        ],
                        [
                          0.9,
                          "#4d9221"
                        ],
                        [
                          1,
                          "#276419"
                        ]
                      ],
                      "sequential": [
                        [
                          0,
                          "#0d0887"
                        ],
                        [
                          0.1111111111111111,
                          "#46039f"
                        ],
                        [
                          0.2222222222222222,
                          "#7201a8"
                        ],
                        [
                          0.3333333333333333,
                          "#9c179e"
                        ],
                        [
                          0.4444444444444444,
                          "#bd3786"
                        ],
                        [
                          0.5555555555555556,
                          "#d8576b"
                        ],
                        [
                          0.6666666666666666,
                          "#ed7953"
                        ],
                        [
                          0.7777777777777778,
                          "#fb9f3a"
                        ],
                        [
                          0.8888888888888888,
                          "#fdca26"
                        ],
                        [
                          1,
                          "#f0f921"
                        ]
                      ],
                      "sequentialminus": [
                        [
                          0,
                          "#0d0887"
                        ],
                        [
                          0.1111111111111111,
                          "#46039f"
                        ],
                        [
                          0.2222222222222222,
                          "#7201a8"
                        ],
                        [
                          0.3333333333333333,
                          "#9c179e"
                        ],
                        [
                          0.4444444444444444,
                          "#bd3786"
                        ],
                        [
                          0.5555555555555556,
                          "#d8576b"
                        ],
                        [
                          0.6666666666666666,
                          "#ed7953"
                        ],
                        [
                          0.7777777777777778,
                          "#fb9f3a"
                        ],
                        [
                          0.8888888888888888,
                          "#fdca26"
                        ],
                        [
                          1,
                          "#f0f921"
                        ]
                      ]
                    },
                    "colorway": [
                      "#636efa",
                      "#EF553B",
                      "#00cc96",
                      "#ab63fa",
                      "#FFA15A",
                      "#19d3f3",
                      "#FF6692",
                      "#B6E880",
                      "#FF97FF",
                      "#FECB52"
                    ],
                    "font": {
                      "color": "#2a3f5f"
                    },
                    "geo": {
                      "bgcolor": "white",
                      "lakecolor": "white",
                      "landcolor": "#E5ECF6",
                      "showlakes": true,
                      "showland": true,
                      "subunitcolor": "white"
                    },
                    "hoverlabel": {
                      "align": "left"
                    },
                    "hovermode": "closest",
                    "mapbox": {
                      "style": "light"
                    },
                    "paper_bgcolor": "white",
                    "plot_bgcolor": "#E5ECF6",
                    "polar": {
                      "angularaxis": {
                        "gridcolor": "white",
                        "linecolor": "white",
                        "ticks": ""
                      },
                      "bgcolor": "#E5ECF6",
                      "radialaxis": {
                        "gridcolor": "white",
                        "linecolor": "white",
                        "ticks": ""
                      }
                    },
                    "scene": {
                      "xaxis": {
                        "backgroundcolor": "#E5ECF6",
                        "gridcolor": "white",
                        "gridwidth": 2,
                        "linecolor": "white",
                        "showbackground": true,
                        "ticks": "",
                        "zerolinecolor": "white"
                      },
                      "yaxis": {
                        "backgroundcolor": "#E5ECF6",
                        "gridcolor": "white",
                        "gridwidth": 2,
                        "linecolor": "white",
                        "showbackground": true,
                        "ticks": "",
                        "zerolinecolor": "white"
                      },
                      "zaxis": {
                        "backgroundcolor": "#E5ECF6",
                        "gridcolor": "white",
                        "gridwidth": 2,
                        "linecolor": "white",
                        "showbackground": true,
                        "ticks": "",
                        "zerolinecolor": "white"
                      }
                    },
                    "shapedefaults": {
                      "line": {
                        "color": "#2a3f5f"
                      }
                    },
                    "ternary": {
                      "aaxis": {
                        "gridcolor": "white",
                        "linecolor": "white",
                        "ticks": ""
                      },
                      "baxis": {
                        "gridcolor": "white",
                        "linecolor": "white",
                        "ticks": ""
                      },
                      "bgcolor": "#E5ECF6",
                      "caxis": {
                        "gridcolor": "white",
                        "linecolor": "white",
                        "ticks": ""
                      }
                    },
                    "title": {
                      "x": 0.05
                    },
                    "xaxis": {
                      "automargin": true,
                      "gridcolor": "white",
                      "linecolor": "white",
                      "ticks": "",
                      "title": {
                        "standoff": 15
                      },
                      "zerolinecolor": "white",
                      "zerolinewidth": 2
                    },
                    "yaxis": {
                      "automargin": true,
                      "gridcolor": "white",
                      "linecolor": "white",
                      "ticks": "",
                      "title": {
                        "standoff": 15
                      },
                      "zerolinecolor": "white",
                      "zerolinewidth": 2
                    }
                  }
                },
                "title": {
                  "text": "Space Mission Launches by Organisation"
                },
                "xaxis": {
                  "anchor": "y",
                  "domain": [
                    0,
                    1
                  ],
                  "title": {
                    "text": "Number of Launches"
                  }
                },
                "yaxis": {
                  "anchor": "x",
                  "categoryarray": [
                    "Khrunichev",
                    "Sandia",
                    "OneSpace",
                    "i-Space",
                    "IRGC",
                    "Virgin Orbit",
                    "Starsem",
                    "EER",
                    "Douglas",
                    "Landspace",
                    "Yuzhmash",
                    "OKB-586",
                    "RAE",
                    "AEB",
                    "SRC",
                    "KARI",
                    "Arm??e de l'Air",
                    "CECLES",
                    "Exos",
                    "CASIC",
                    "KCST",
                    "UT",
                    "Land Launch",
                    "JAXA",
                    "MITT",
                    "AMBA",
                    "CNES",
                    "ASI",
                    "ExPace",
                    "IAI",
                    "Blue Origin",
                    "ESA",
                    "Eurockot",
                    "Rocket Lab",
                    "ISA",
                    "US Navy",
                    "Kosmotras",
                    "ISAS",
                    "Sea Launch",
                    "ILS",
                    "Roscosmos",
                    "ISRO",
                    "Lockheed",
                    "Northrop",
                    "MHI",
                    "SpaceX",
                    "Martin Marietta",
                    "Boeing",
                    "ULA",
                    "US Air Force",
                    "VKS RF",
                    "NASA",
                    "General Dynamics",
                    "CASC",
                    "Arianespace",
                    "RVSN USSR"
                  ],
                  "categoryorder": "array",
                  "domain": [
                    0,
                    1
                  ],
                  "title": {
                    "text": "Organisation"
                  }
                }
              }
            }
          },
          "metadata": {},
          "output_type": "display_data"
        }
      ],
      "source": [
        "organisation_count = df_data.Organisation.value_counts()\n",
        "\n",
        "fig = px.bar(organisation_count,\n",
        "             x=organisation_count.values,\n",
        "             y=organisation_count.index,\n",
        "             title=\"Space Mission Launches by Organisation\",\n",
        "             color=organisation_count.index)\n",
        "\n",
        "fig.update_layout(xaxis_title=\"Number of Launches\")\n",
        "\n",
        "fig.show()"
      ]
    },
    {
      "cell_type": "markdown",
      "metadata": {
        "id": "7Gwteht2kR_h"
      },
      "source": [
        "# Number of Active versus Retired Rockets\n",
        "\n",
        "How many rockets are active compared to those that are decomissioned? "
      ]
    },
    {
      "cell_type": "code",
      "execution_count": 12,
      "metadata": {
        "id": "SxmOWS9cmTq6"
      },
      "outputs": [
        {
          "data": {
            "application/vnd.plotly.v1+json": {
              "config": {
                "plotlyServerURL": "https://plot.ly"
              },
              "data": [
                {
                  "domain": {
                    "x": [
                      0,
                      1
                    ],
                    "y": [
                      0,
                      1
                    ]
                  },
                  "hovertemplate": "Rocket_Status=%{label}<br>value=%{value}<extra></extra>",
                  "labels": [
                    "Retired",
                    "Active"
                  ],
                  "legendgroup": "",
                  "name": "",
                  "showlegend": true,
                  "type": "pie",
                  "values": [
                    3534,
                    790
                  ]
                }
              ],
              "layout": {
                "legend": {
                  "tracegroupgap": 0
                },
                "template": {
                  "data": {
                    "bar": [
                      {
                        "error_x": {
                          "color": "#2a3f5f"
                        },
                        "error_y": {
                          "color": "#2a3f5f"
                        },
                        "marker": {
                          "line": {
                            "color": "#E5ECF6",
                            "width": 0.5
                          },
                          "pattern": {
                            "fillmode": "overlay",
                            "size": 10,
                            "solidity": 0.2
                          }
                        },
                        "type": "bar"
                      }
                    ],
                    "barpolar": [
                      {
                        "marker": {
                          "line": {
                            "color": "#E5ECF6",
                            "width": 0.5
                          },
                          "pattern": {
                            "fillmode": "overlay",
                            "size": 10,
                            "solidity": 0.2
                          }
                        },
                        "type": "barpolar"
                      }
                    ],
                    "carpet": [
                      {
                        "aaxis": {
                          "endlinecolor": "#2a3f5f",
                          "gridcolor": "white",
                          "linecolor": "white",
                          "minorgridcolor": "white",
                          "startlinecolor": "#2a3f5f"
                        },
                        "baxis": {
                          "endlinecolor": "#2a3f5f",
                          "gridcolor": "white",
                          "linecolor": "white",
                          "minorgridcolor": "white",
                          "startlinecolor": "#2a3f5f"
                        },
                        "type": "carpet"
                      }
                    ],
                    "choropleth": [
                      {
                        "colorbar": {
                          "outlinewidth": 0,
                          "ticks": ""
                        },
                        "type": "choropleth"
                      }
                    ],
                    "contour": [
                      {
                        "colorbar": {
                          "outlinewidth": 0,
                          "ticks": ""
                        },
                        "colorscale": [
                          [
                            0,
                            "#0d0887"
                          ],
                          [
                            0.1111111111111111,
                            "#46039f"
                          ],
                          [
                            0.2222222222222222,
                            "#7201a8"
                          ],
                          [
                            0.3333333333333333,
                            "#9c179e"
                          ],
                          [
                            0.4444444444444444,
                            "#bd3786"
                          ],
                          [
                            0.5555555555555556,
                            "#d8576b"
                          ],
                          [
                            0.6666666666666666,
                            "#ed7953"
                          ],
                          [
                            0.7777777777777778,
                            "#fb9f3a"
                          ],
                          [
                            0.8888888888888888,
                            "#fdca26"
                          ],
                          [
                            1,
                            "#f0f921"
                          ]
                        ],
                        "type": "contour"
                      }
                    ],
                    "contourcarpet": [
                      {
                        "colorbar": {
                          "outlinewidth": 0,
                          "ticks": ""
                        },
                        "type": "contourcarpet"
                      }
                    ],
                    "heatmap": [
                      {
                        "colorbar": {
                          "outlinewidth": 0,
                          "ticks": ""
                        },
                        "colorscale": [
                          [
                            0,
                            "#0d0887"
                          ],
                          [
                            0.1111111111111111,
                            "#46039f"
                          ],
                          [
                            0.2222222222222222,
                            "#7201a8"
                          ],
                          [
                            0.3333333333333333,
                            "#9c179e"
                          ],
                          [
                            0.4444444444444444,
                            "#bd3786"
                          ],
                          [
                            0.5555555555555556,
                            "#d8576b"
                          ],
                          [
                            0.6666666666666666,
                            "#ed7953"
                          ],
                          [
                            0.7777777777777778,
                            "#fb9f3a"
                          ],
                          [
                            0.8888888888888888,
                            "#fdca26"
                          ],
                          [
                            1,
                            "#f0f921"
                          ]
                        ],
                        "type": "heatmap"
                      }
                    ],
                    "heatmapgl": [
                      {
                        "colorbar": {
                          "outlinewidth": 0,
                          "ticks": ""
                        },
                        "colorscale": [
                          [
                            0,
                            "#0d0887"
                          ],
                          [
                            0.1111111111111111,
                            "#46039f"
                          ],
                          [
                            0.2222222222222222,
                            "#7201a8"
                          ],
                          [
                            0.3333333333333333,
                            "#9c179e"
                          ],
                          [
                            0.4444444444444444,
                            "#bd3786"
                          ],
                          [
                            0.5555555555555556,
                            "#d8576b"
                          ],
                          [
                            0.6666666666666666,
                            "#ed7953"
                          ],
                          [
                            0.7777777777777778,
                            "#fb9f3a"
                          ],
                          [
                            0.8888888888888888,
                            "#fdca26"
                          ],
                          [
                            1,
                            "#f0f921"
                          ]
                        ],
                        "type": "heatmapgl"
                      }
                    ],
                    "histogram": [
                      {
                        "marker": {
                          "pattern": {
                            "fillmode": "overlay",
                            "size": 10,
                            "solidity": 0.2
                          }
                        },
                        "type": "histogram"
                      }
                    ],
                    "histogram2d": [
                      {
                        "colorbar": {
                          "outlinewidth": 0,
                          "ticks": ""
                        },
                        "colorscale": [
                          [
                            0,
                            "#0d0887"
                          ],
                          [
                            0.1111111111111111,
                            "#46039f"
                          ],
                          [
                            0.2222222222222222,
                            "#7201a8"
                          ],
                          [
                            0.3333333333333333,
                            "#9c179e"
                          ],
                          [
                            0.4444444444444444,
                            "#bd3786"
                          ],
                          [
                            0.5555555555555556,
                            "#d8576b"
                          ],
                          [
                            0.6666666666666666,
                            "#ed7953"
                          ],
                          [
                            0.7777777777777778,
                            "#fb9f3a"
                          ],
                          [
                            0.8888888888888888,
                            "#fdca26"
                          ],
                          [
                            1,
                            "#f0f921"
                          ]
                        ],
                        "type": "histogram2d"
                      }
                    ],
                    "histogram2dcontour": [
                      {
                        "colorbar": {
                          "outlinewidth": 0,
                          "ticks": ""
                        },
                        "colorscale": [
                          [
                            0,
                            "#0d0887"
                          ],
                          [
                            0.1111111111111111,
                            "#46039f"
                          ],
                          [
                            0.2222222222222222,
                            "#7201a8"
                          ],
                          [
                            0.3333333333333333,
                            "#9c179e"
                          ],
                          [
                            0.4444444444444444,
                            "#bd3786"
                          ],
                          [
                            0.5555555555555556,
                            "#d8576b"
                          ],
                          [
                            0.6666666666666666,
                            "#ed7953"
                          ],
                          [
                            0.7777777777777778,
                            "#fb9f3a"
                          ],
                          [
                            0.8888888888888888,
                            "#fdca26"
                          ],
                          [
                            1,
                            "#f0f921"
                          ]
                        ],
                        "type": "histogram2dcontour"
                      }
                    ],
                    "mesh3d": [
                      {
                        "colorbar": {
                          "outlinewidth": 0,
                          "ticks": ""
                        },
                        "type": "mesh3d"
                      }
                    ],
                    "parcoords": [
                      {
                        "line": {
                          "colorbar": {
                            "outlinewidth": 0,
                            "ticks": ""
                          }
                        },
                        "type": "parcoords"
                      }
                    ],
                    "pie": [
                      {
                        "automargin": true,
                        "type": "pie"
                      }
                    ],
                    "scatter": [
                      {
                        "fillpattern": {
                          "fillmode": "overlay",
                          "size": 10,
                          "solidity": 0.2
                        },
                        "type": "scatter"
                      }
                    ],
                    "scatter3d": [
                      {
                        "line": {
                          "colorbar": {
                            "outlinewidth": 0,
                            "ticks": ""
                          }
                        },
                        "marker": {
                          "colorbar": {
                            "outlinewidth": 0,
                            "ticks": ""
                          }
                        },
                        "type": "scatter3d"
                      }
                    ],
                    "scattercarpet": [
                      {
                        "marker": {
                          "colorbar": {
                            "outlinewidth": 0,
                            "ticks": ""
                          }
                        },
                        "type": "scattercarpet"
                      }
                    ],
                    "scattergeo": [
                      {
                        "marker": {
                          "colorbar": {
                            "outlinewidth": 0,
                            "ticks": ""
                          }
                        },
                        "type": "scattergeo"
                      }
                    ],
                    "scattergl": [
                      {
                        "marker": {
                          "colorbar": {
                            "outlinewidth": 0,
                            "ticks": ""
                          }
                        },
                        "type": "scattergl"
                      }
                    ],
                    "scattermapbox": [
                      {
                        "marker": {
                          "colorbar": {
                            "outlinewidth": 0,
                            "ticks": ""
                          }
                        },
                        "type": "scattermapbox"
                      }
                    ],
                    "scatterpolar": [
                      {
                        "marker": {
                          "colorbar": {
                            "outlinewidth": 0,
                            "ticks": ""
                          }
                        },
                        "type": "scatterpolar"
                      }
                    ],
                    "scatterpolargl": [
                      {
                        "marker": {
                          "colorbar": {
                            "outlinewidth": 0,
                            "ticks": ""
                          }
                        },
                        "type": "scatterpolargl"
                      }
                    ],
                    "scatterternary": [
                      {
                        "marker": {
                          "colorbar": {
                            "outlinewidth": 0,
                            "ticks": ""
                          }
                        },
                        "type": "scatterternary"
                      }
                    ],
                    "surface": [
                      {
                        "colorbar": {
                          "outlinewidth": 0,
                          "ticks": ""
                        },
                        "colorscale": [
                          [
                            0,
                            "#0d0887"
                          ],
                          [
                            0.1111111111111111,
                            "#46039f"
                          ],
                          [
                            0.2222222222222222,
                            "#7201a8"
                          ],
                          [
                            0.3333333333333333,
                            "#9c179e"
                          ],
                          [
                            0.4444444444444444,
                            "#bd3786"
                          ],
                          [
                            0.5555555555555556,
                            "#d8576b"
                          ],
                          [
                            0.6666666666666666,
                            "#ed7953"
                          ],
                          [
                            0.7777777777777778,
                            "#fb9f3a"
                          ],
                          [
                            0.8888888888888888,
                            "#fdca26"
                          ],
                          [
                            1,
                            "#f0f921"
                          ]
                        ],
                        "type": "surface"
                      }
                    ],
                    "table": [
                      {
                        "cells": {
                          "fill": {
                            "color": "#EBF0F8"
                          },
                          "line": {
                            "color": "white"
                          }
                        },
                        "header": {
                          "fill": {
                            "color": "#C8D4E3"
                          },
                          "line": {
                            "color": "white"
                          }
                        },
                        "type": "table"
                      }
                    ]
                  },
                  "layout": {
                    "annotationdefaults": {
                      "arrowcolor": "#2a3f5f",
                      "arrowhead": 0,
                      "arrowwidth": 1
                    },
                    "autotypenumbers": "strict",
                    "coloraxis": {
                      "colorbar": {
                        "outlinewidth": 0,
                        "ticks": ""
                      }
                    },
                    "colorscale": {
                      "diverging": [
                        [
                          0,
                          "#8e0152"
                        ],
                        [
                          0.1,
                          "#c51b7d"
                        ],
                        [
                          0.2,
                          "#de77ae"
                        ],
                        [
                          0.3,
                          "#f1b6da"
                        ],
                        [
                          0.4,
                          "#fde0ef"
                        ],
                        [
                          0.5,
                          "#f7f7f7"
                        ],
                        [
                          0.6,
                          "#e6f5d0"
                        ],
                        [
                          0.7,
                          "#b8e186"
                        ],
                        [
                          0.8,
                          "#7fbc41"
                        ],
                        [
                          0.9,
                          "#4d9221"
                        ],
                        [
                          1,
                          "#276419"
                        ]
                      ],
                      "sequential": [
                        [
                          0,
                          "#0d0887"
                        ],
                        [
                          0.1111111111111111,
                          "#46039f"
                        ],
                        [
                          0.2222222222222222,
                          "#7201a8"
                        ],
                        [
                          0.3333333333333333,
                          "#9c179e"
                        ],
                        [
                          0.4444444444444444,
                          "#bd3786"
                        ],
                        [
                          0.5555555555555556,
                          "#d8576b"
                        ],
                        [
                          0.6666666666666666,
                          "#ed7953"
                        ],
                        [
                          0.7777777777777778,
                          "#fb9f3a"
                        ],
                        [
                          0.8888888888888888,
                          "#fdca26"
                        ],
                        [
                          1,
                          "#f0f921"
                        ]
                      ],
                      "sequentialminus": [
                        [
                          0,
                          "#0d0887"
                        ],
                        [
                          0.1111111111111111,
                          "#46039f"
                        ],
                        [
                          0.2222222222222222,
                          "#7201a8"
                        ],
                        [
                          0.3333333333333333,
                          "#9c179e"
                        ],
                        [
                          0.4444444444444444,
                          "#bd3786"
                        ],
                        [
                          0.5555555555555556,
                          "#d8576b"
                        ],
                        [
                          0.6666666666666666,
                          "#ed7953"
                        ],
                        [
                          0.7777777777777778,
                          "#fb9f3a"
                        ],
                        [
                          0.8888888888888888,
                          "#fdca26"
                        ],
                        [
                          1,
                          "#f0f921"
                        ]
                      ]
                    },
                    "colorway": [
                      "#636efa",
                      "#EF553B",
                      "#00cc96",
                      "#ab63fa",
                      "#FFA15A",
                      "#19d3f3",
                      "#FF6692",
                      "#B6E880",
                      "#FF97FF",
                      "#FECB52"
                    ],
                    "font": {
                      "color": "#2a3f5f"
                    },
                    "geo": {
                      "bgcolor": "white",
                      "lakecolor": "white",
                      "landcolor": "#E5ECF6",
                      "showlakes": true,
                      "showland": true,
                      "subunitcolor": "white"
                    },
                    "hoverlabel": {
                      "align": "left"
                    },
                    "hovermode": "closest",
                    "mapbox": {
                      "style": "light"
                    },
                    "paper_bgcolor": "white",
                    "plot_bgcolor": "#E5ECF6",
                    "polar": {
                      "angularaxis": {
                        "gridcolor": "white",
                        "linecolor": "white",
                        "ticks": ""
                      },
                      "bgcolor": "#E5ECF6",
                      "radialaxis": {
                        "gridcolor": "white",
                        "linecolor": "white",
                        "ticks": ""
                      }
                    },
                    "scene": {
                      "xaxis": {
                        "backgroundcolor": "#E5ECF6",
                        "gridcolor": "white",
                        "gridwidth": 2,
                        "linecolor": "white",
                        "showbackground": true,
                        "ticks": "",
                        "zerolinecolor": "white"
                      },
                      "yaxis": {
                        "backgroundcolor": "#E5ECF6",
                        "gridcolor": "white",
                        "gridwidth": 2,
                        "linecolor": "white",
                        "showbackground": true,
                        "ticks": "",
                        "zerolinecolor": "white"
                      },
                      "zaxis": {
                        "backgroundcolor": "#E5ECF6",
                        "gridcolor": "white",
                        "gridwidth": 2,
                        "linecolor": "white",
                        "showbackground": true,
                        "ticks": "",
                        "zerolinecolor": "white"
                      }
                    },
                    "shapedefaults": {
                      "line": {
                        "color": "#2a3f5f"
                      }
                    },
                    "ternary": {
                      "aaxis": {
                        "gridcolor": "white",
                        "linecolor": "white",
                        "ticks": ""
                      },
                      "baxis": {
                        "gridcolor": "white",
                        "linecolor": "white",
                        "ticks": ""
                      },
                      "bgcolor": "#E5ECF6",
                      "caxis": {
                        "gridcolor": "white",
                        "linecolor": "white",
                        "ticks": ""
                      }
                    },
                    "title": {
                      "x": 0.05
                    },
                    "xaxis": {
                      "automargin": true,
                      "gridcolor": "white",
                      "linecolor": "white",
                      "ticks": "",
                      "title": {
                        "standoff": 15
                      },
                      "zerolinecolor": "white",
                      "zerolinewidth": 2
                    },
                    "yaxis": {
                      "automargin": true,
                      "gridcolor": "white",
                      "linecolor": "white",
                      "ticks": "",
                      "title": {
                        "standoff": 15
                      },
                      "zerolinecolor": "white",
                      "zerolinewidth": 2
                    }
                  }
                },
                "title": {
                  "text": "Active vs Retired Rockets"
                }
              }
            }
          },
          "metadata": {},
          "output_type": "display_data"
        }
      ],
      "source": [
        "rocket_status = df_data.Rocket_Status.value_counts()\n",
        "\n",
        "# Dictionary to customise labels as to make them more readable\n",
        "labels = {\"StatusRetired\": \"Retired\",\n",
        "          \"StatusActive\": \"Active\"}\n",
        "\n",
        "rocket_status.index = rocket_status.index.map(labels)\n",
        "\n",
        "fig = px.pie(rocket_status,\n",
        "             values=rocket_status.values,\n",
        "             names=rocket_status.index,\n",
        "             title=\"Active vs Retired Rockets\")\n",
        "\n",
        "fig.show()"
      ]
    },
    {
      "cell_type": "markdown",
      "metadata": {
        "id": "y9WtP5xWkYkp"
      },
      "source": [
        "# Distribution of Mission Status\n",
        "\n",
        "How many missions were successful?\n",
        "How many missions failed?"
      ]
    },
    {
      "cell_type": "code",
      "execution_count": 13,
      "metadata": {
        "id": "83kY1alqmUhb"
      },
      "outputs": [
        {
          "data": {
            "text/plain": [
              "Mission_Status\n",
              "Success              3879\n",
              "Failure               339\n",
              "Partial Failure       102\n",
              "Prelaunch Failure       4\n",
              "Name: count, dtype: int64"
            ]
          },
          "execution_count": 13,
          "metadata": {},
          "output_type": "execute_result"
        }
      ],
      "source": [
        "mission_status = df_data.Mission_Status.value_counts()\n",
        "mission_status"
      ]
    },
    {
      "cell_type": "code",
      "execution_count": 14,
      "metadata": {
        "id": "bdmXcaopmUeZ"
      },
      "outputs": [
        {
          "data": {
            "application/vnd.plotly.v1+json": {
              "config": {
                "plotlyServerURL": "https://plot.ly"
              },
              "data": [
                {
                  "alignmentgroup": "True",
                  "hovertemplate": "Mission Status=%{x}<br>Number of Missions=%{y}<extra></extra>",
                  "legendgroup": "Success",
                  "marker": {
                    "color": "#636efa",
                    "pattern": {
                      "shape": ""
                    }
                  },
                  "name": "Success",
                  "offsetgroup": "Success",
                  "orientation": "v",
                  "showlegend": true,
                  "textposition": "auto",
                  "type": "bar",
                  "x": [
                    "Success"
                  ],
                  "xaxis": "x",
                  "y": [
                    3879
                  ],
                  "yaxis": "y"
                },
                {
                  "alignmentgroup": "True",
                  "hovertemplate": "Mission Status=%{x}<br>Number of Missions=%{y}<extra></extra>",
                  "legendgroup": "Failure",
                  "marker": {
                    "color": "#EF553B",
                    "pattern": {
                      "shape": ""
                    }
                  },
                  "name": "Failure",
                  "offsetgroup": "Failure",
                  "orientation": "v",
                  "showlegend": true,
                  "textposition": "auto",
                  "type": "bar",
                  "x": [
                    "Failure"
                  ],
                  "xaxis": "x",
                  "y": [
                    339
                  ],
                  "yaxis": "y"
                },
                {
                  "alignmentgroup": "True",
                  "hovertemplate": "Mission Status=%{x}<br>Number of Missions=%{y}<extra></extra>",
                  "legendgroup": "Partial Failure",
                  "marker": {
                    "color": "#00cc96",
                    "pattern": {
                      "shape": ""
                    }
                  },
                  "name": "Partial Failure",
                  "offsetgroup": "Partial Failure",
                  "orientation": "v",
                  "showlegend": true,
                  "textposition": "auto",
                  "type": "bar",
                  "x": [
                    "Partial Failure"
                  ],
                  "xaxis": "x",
                  "y": [
                    102
                  ],
                  "yaxis": "y"
                },
                {
                  "alignmentgroup": "True",
                  "hovertemplate": "Mission Status=%{x}<br>Number of Missions=%{y}<extra></extra>",
                  "legendgroup": "Prelaunch Failure",
                  "marker": {
                    "color": "#ab63fa",
                    "pattern": {
                      "shape": ""
                    }
                  },
                  "name": "Prelaunch Failure",
                  "offsetgroup": "Prelaunch Failure",
                  "orientation": "v",
                  "showlegend": true,
                  "textposition": "auto",
                  "type": "bar",
                  "x": [
                    "Prelaunch Failure"
                  ],
                  "xaxis": "x",
                  "y": [
                    4
                  ],
                  "yaxis": "y"
                }
              ],
              "layout": {
                "barmode": "relative",
                "legend": {
                  "title": {
                    "text": "Mission Status"
                  },
                  "tracegroupgap": 0
                },
                "template": {
                  "data": {
                    "bar": [
                      {
                        "error_x": {
                          "color": "#2a3f5f"
                        },
                        "error_y": {
                          "color": "#2a3f5f"
                        },
                        "marker": {
                          "line": {
                            "color": "#E5ECF6",
                            "width": 0.5
                          },
                          "pattern": {
                            "fillmode": "overlay",
                            "size": 10,
                            "solidity": 0.2
                          }
                        },
                        "type": "bar"
                      }
                    ],
                    "barpolar": [
                      {
                        "marker": {
                          "line": {
                            "color": "#E5ECF6",
                            "width": 0.5
                          },
                          "pattern": {
                            "fillmode": "overlay",
                            "size": 10,
                            "solidity": 0.2
                          }
                        },
                        "type": "barpolar"
                      }
                    ],
                    "carpet": [
                      {
                        "aaxis": {
                          "endlinecolor": "#2a3f5f",
                          "gridcolor": "white",
                          "linecolor": "white",
                          "minorgridcolor": "white",
                          "startlinecolor": "#2a3f5f"
                        },
                        "baxis": {
                          "endlinecolor": "#2a3f5f",
                          "gridcolor": "white",
                          "linecolor": "white",
                          "minorgridcolor": "white",
                          "startlinecolor": "#2a3f5f"
                        },
                        "type": "carpet"
                      }
                    ],
                    "choropleth": [
                      {
                        "colorbar": {
                          "outlinewidth": 0,
                          "ticks": ""
                        },
                        "type": "choropleth"
                      }
                    ],
                    "contour": [
                      {
                        "colorbar": {
                          "outlinewidth": 0,
                          "ticks": ""
                        },
                        "colorscale": [
                          [
                            0,
                            "#0d0887"
                          ],
                          [
                            0.1111111111111111,
                            "#46039f"
                          ],
                          [
                            0.2222222222222222,
                            "#7201a8"
                          ],
                          [
                            0.3333333333333333,
                            "#9c179e"
                          ],
                          [
                            0.4444444444444444,
                            "#bd3786"
                          ],
                          [
                            0.5555555555555556,
                            "#d8576b"
                          ],
                          [
                            0.6666666666666666,
                            "#ed7953"
                          ],
                          [
                            0.7777777777777778,
                            "#fb9f3a"
                          ],
                          [
                            0.8888888888888888,
                            "#fdca26"
                          ],
                          [
                            1,
                            "#f0f921"
                          ]
                        ],
                        "type": "contour"
                      }
                    ],
                    "contourcarpet": [
                      {
                        "colorbar": {
                          "outlinewidth": 0,
                          "ticks": ""
                        },
                        "type": "contourcarpet"
                      }
                    ],
                    "heatmap": [
                      {
                        "colorbar": {
                          "outlinewidth": 0,
                          "ticks": ""
                        },
                        "colorscale": [
                          [
                            0,
                            "#0d0887"
                          ],
                          [
                            0.1111111111111111,
                            "#46039f"
                          ],
                          [
                            0.2222222222222222,
                            "#7201a8"
                          ],
                          [
                            0.3333333333333333,
                            "#9c179e"
                          ],
                          [
                            0.4444444444444444,
                            "#bd3786"
                          ],
                          [
                            0.5555555555555556,
                            "#d8576b"
                          ],
                          [
                            0.6666666666666666,
                            "#ed7953"
                          ],
                          [
                            0.7777777777777778,
                            "#fb9f3a"
                          ],
                          [
                            0.8888888888888888,
                            "#fdca26"
                          ],
                          [
                            1,
                            "#f0f921"
                          ]
                        ],
                        "type": "heatmap"
                      }
                    ],
                    "heatmapgl": [
                      {
                        "colorbar": {
                          "outlinewidth": 0,
                          "ticks": ""
                        },
                        "colorscale": [
                          [
                            0,
                            "#0d0887"
                          ],
                          [
                            0.1111111111111111,
                            "#46039f"
                          ],
                          [
                            0.2222222222222222,
                            "#7201a8"
                          ],
                          [
                            0.3333333333333333,
                            "#9c179e"
                          ],
                          [
                            0.4444444444444444,
                            "#bd3786"
                          ],
                          [
                            0.5555555555555556,
                            "#d8576b"
                          ],
                          [
                            0.6666666666666666,
                            "#ed7953"
                          ],
                          [
                            0.7777777777777778,
                            "#fb9f3a"
                          ],
                          [
                            0.8888888888888888,
                            "#fdca26"
                          ],
                          [
                            1,
                            "#f0f921"
                          ]
                        ],
                        "type": "heatmapgl"
                      }
                    ],
                    "histogram": [
                      {
                        "marker": {
                          "pattern": {
                            "fillmode": "overlay",
                            "size": 10,
                            "solidity": 0.2
                          }
                        },
                        "type": "histogram"
                      }
                    ],
                    "histogram2d": [
                      {
                        "colorbar": {
                          "outlinewidth": 0,
                          "ticks": ""
                        },
                        "colorscale": [
                          [
                            0,
                            "#0d0887"
                          ],
                          [
                            0.1111111111111111,
                            "#46039f"
                          ],
                          [
                            0.2222222222222222,
                            "#7201a8"
                          ],
                          [
                            0.3333333333333333,
                            "#9c179e"
                          ],
                          [
                            0.4444444444444444,
                            "#bd3786"
                          ],
                          [
                            0.5555555555555556,
                            "#d8576b"
                          ],
                          [
                            0.6666666666666666,
                            "#ed7953"
                          ],
                          [
                            0.7777777777777778,
                            "#fb9f3a"
                          ],
                          [
                            0.8888888888888888,
                            "#fdca26"
                          ],
                          [
                            1,
                            "#f0f921"
                          ]
                        ],
                        "type": "histogram2d"
                      }
                    ],
                    "histogram2dcontour": [
                      {
                        "colorbar": {
                          "outlinewidth": 0,
                          "ticks": ""
                        },
                        "colorscale": [
                          [
                            0,
                            "#0d0887"
                          ],
                          [
                            0.1111111111111111,
                            "#46039f"
                          ],
                          [
                            0.2222222222222222,
                            "#7201a8"
                          ],
                          [
                            0.3333333333333333,
                            "#9c179e"
                          ],
                          [
                            0.4444444444444444,
                            "#bd3786"
                          ],
                          [
                            0.5555555555555556,
                            "#d8576b"
                          ],
                          [
                            0.6666666666666666,
                            "#ed7953"
                          ],
                          [
                            0.7777777777777778,
                            "#fb9f3a"
                          ],
                          [
                            0.8888888888888888,
                            "#fdca26"
                          ],
                          [
                            1,
                            "#f0f921"
                          ]
                        ],
                        "type": "histogram2dcontour"
                      }
                    ],
                    "mesh3d": [
                      {
                        "colorbar": {
                          "outlinewidth": 0,
                          "ticks": ""
                        },
                        "type": "mesh3d"
                      }
                    ],
                    "parcoords": [
                      {
                        "line": {
                          "colorbar": {
                            "outlinewidth": 0,
                            "ticks": ""
                          }
                        },
                        "type": "parcoords"
                      }
                    ],
                    "pie": [
                      {
                        "automargin": true,
                        "type": "pie"
                      }
                    ],
                    "scatter": [
                      {
                        "fillpattern": {
                          "fillmode": "overlay",
                          "size": 10,
                          "solidity": 0.2
                        },
                        "type": "scatter"
                      }
                    ],
                    "scatter3d": [
                      {
                        "line": {
                          "colorbar": {
                            "outlinewidth": 0,
                            "ticks": ""
                          }
                        },
                        "marker": {
                          "colorbar": {
                            "outlinewidth": 0,
                            "ticks": ""
                          }
                        },
                        "type": "scatter3d"
                      }
                    ],
                    "scattercarpet": [
                      {
                        "marker": {
                          "colorbar": {
                            "outlinewidth": 0,
                            "ticks": ""
                          }
                        },
                        "type": "scattercarpet"
                      }
                    ],
                    "scattergeo": [
                      {
                        "marker": {
                          "colorbar": {
                            "outlinewidth": 0,
                            "ticks": ""
                          }
                        },
                        "type": "scattergeo"
                      }
                    ],
                    "scattergl": [
                      {
                        "marker": {
                          "colorbar": {
                            "outlinewidth": 0,
                            "ticks": ""
                          }
                        },
                        "type": "scattergl"
                      }
                    ],
                    "scattermapbox": [
                      {
                        "marker": {
                          "colorbar": {
                            "outlinewidth": 0,
                            "ticks": ""
                          }
                        },
                        "type": "scattermapbox"
                      }
                    ],
                    "scatterpolar": [
                      {
                        "marker": {
                          "colorbar": {
                            "outlinewidth": 0,
                            "ticks": ""
                          }
                        },
                        "type": "scatterpolar"
                      }
                    ],
                    "scatterpolargl": [
                      {
                        "marker": {
                          "colorbar": {
                            "outlinewidth": 0,
                            "ticks": ""
                          }
                        },
                        "type": "scatterpolargl"
                      }
                    ],
                    "scatterternary": [
                      {
                        "marker": {
                          "colorbar": {
                            "outlinewidth": 0,
                            "ticks": ""
                          }
                        },
                        "type": "scatterternary"
                      }
                    ],
                    "surface": [
                      {
                        "colorbar": {
                          "outlinewidth": 0,
                          "ticks": ""
                        },
                        "colorscale": [
                          [
                            0,
                            "#0d0887"
                          ],
                          [
                            0.1111111111111111,
                            "#46039f"
                          ],
                          [
                            0.2222222222222222,
                            "#7201a8"
                          ],
                          [
                            0.3333333333333333,
                            "#9c179e"
                          ],
                          [
                            0.4444444444444444,
                            "#bd3786"
                          ],
                          [
                            0.5555555555555556,
                            "#d8576b"
                          ],
                          [
                            0.6666666666666666,
                            "#ed7953"
                          ],
                          [
                            0.7777777777777778,
                            "#fb9f3a"
                          ],
                          [
                            0.8888888888888888,
                            "#fdca26"
                          ],
                          [
                            1,
                            "#f0f921"
                          ]
                        ],
                        "type": "surface"
                      }
                    ],
                    "table": [
                      {
                        "cells": {
                          "fill": {
                            "color": "#EBF0F8"
                          },
                          "line": {
                            "color": "white"
                          }
                        },
                        "header": {
                          "fill": {
                            "color": "#C8D4E3"
                          },
                          "line": {
                            "color": "white"
                          }
                        },
                        "type": "table"
                      }
                    ]
                  },
                  "layout": {
                    "annotationdefaults": {
                      "arrowcolor": "#2a3f5f",
                      "arrowhead": 0,
                      "arrowwidth": 1
                    },
                    "autotypenumbers": "strict",
                    "coloraxis": {
                      "colorbar": {
                        "outlinewidth": 0,
                        "ticks": ""
                      }
                    },
                    "colorscale": {
                      "diverging": [
                        [
                          0,
                          "#8e0152"
                        ],
                        [
                          0.1,
                          "#c51b7d"
                        ],
                        [
                          0.2,
                          "#de77ae"
                        ],
                        [
                          0.3,
                          "#f1b6da"
                        ],
                        [
                          0.4,
                          "#fde0ef"
                        ],
                        [
                          0.5,
                          "#f7f7f7"
                        ],
                        [
                          0.6,
                          "#e6f5d0"
                        ],
                        [
                          0.7,
                          "#b8e186"
                        ],
                        [
                          0.8,
                          "#7fbc41"
                        ],
                        [
                          0.9,
                          "#4d9221"
                        ],
                        [
                          1,
                          "#276419"
                        ]
                      ],
                      "sequential": [
                        [
                          0,
                          "#0d0887"
                        ],
                        [
                          0.1111111111111111,
                          "#46039f"
                        ],
                        [
                          0.2222222222222222,
                          "#7201a8"
                        ],
                        [
                          0.3333333333333333,
                          "#9c179e"
                        ],
                        [
                          0.4444444444444444,
                          "#bd3786"
                        ],
                        [
                          0.5555555555555556,
                          "#d8576b"
                        ],
                        [
                          0.6666666666666666,
                          "#ed7953"
                        ],
                        [
                          0.7777777777777778,
                          "#fb9f3a"
                        ],
                        [
                          0.8888888888888888,
                          "#fdca26"
                        ],
                        [
                          1,
                          "#f0f921"
                        ]
                      ],
                      "sequentialminus": [
                        [
                          0,
                          "#0d0887"
                        ],
                        [
                          0.1111111111111111,
                          "#46039f"
                        ],
                        [
                          0.2222222222222222,
                          "#7201a8"
                        ],
                        [
                          0.3333333333333333,
                          "#9c179e"
                        ],
                        [
                          0.4444444444444444,
                          "#bd3786"
                        ],
                        [
                          0.5555555555555556,
                          "#d8576b"
                        ],
                        [
                          0.6666666666666666,
                          "#ed7953"
                        ],
                        [
                          0.7777777777777778,
                          "#fb9f3a"
                        ],
                        [
                          0.8888888888888888,
                          "#fdca26"
                        ],
                        [
                          1,
                          "#f0f921"
                        ]
                      ]
                    },
                    "colorway": [
                      "#636efa",
                      "#EF553B",
                      "#00cc96",
                      "#ab63fa",
                      "#FFA15A",
                      "#19d3f3",
                      "#FF6692",
                      "#B6E880",
                      "#FF97FF",
                      "#FECB52"
                    ],
                    "font": {
                      "color": "#2a3f5f"
                    },
                    "geo": {
                      "bgcolor": "white",
                      "lakecolor": "white",
                      "landcolor": "#E5ECF6",
                      "showlakes": true,
                      "showland": true,
                      "subunitcolor": "white"
                    },
                    "hoverlabel": {
                      "align": "left"
                    },
                    "hovermode": "closest",
                    "mapbox": {
                      "style": "light"
                    },
                    "paper_bgcolor": "white",
                    "plot_bgcolor": "#E5ECF6",
                    "polar": {
                      "angularaxis": {
                        "gridcolor": "white",
                        "linecolor": "white",
                        "ticks": ""
                      },
                      "bgcolor": "#E5ECF6",
                      "radialaxis": {
                        "gridcolor": "white",
                        "linecolor": "white",
                        "ticks": ""
                      }
                    },
                    "scene": {
                      "xaxis": {
                        "backgroundcolor": "#E5ECF6",
                        "gridcolor": "white",
                        "gridwidth": 2,
                        "linecolor": "white",
                        "showbackground": true,
                        "ticks": "",
                        "zerolinecolor": "white"
                      },
                      "yaxis": {
                        "backgroundcolor": "#E5ECF6",
                        "gridcolor": "white",
                        "gridwidth": 2,
                        "linecolor": "white",
                        "showbackground": true,
                        "ticks": "",
                        "zerolinecolor": "white"
                      },
                      "zaxis": {
                        "backgroundcolor": "#E5ECF6",
                        "gridcolor": "white",
                        "gridwidth": 2,
                        "linecolor": "white",
                        "showbackground": true,
                        "ticks": "",
                        "zerolinecolor": "white"
                      }
                    },
                    "shapedefaults": {
                      "line": {
                        "color": "#2a3f5f"
                      }
                    },
                    "ternary": {
                      "aaxis": {
                        "gridcolor": "white",
                        "linecolor": "white",
                        "ticks": ""
                      },
                      "baxis": {
                        "gridcolor": "white",
                        "linecolor": "white",
                        "ticks": ""
                      },
                      "bgcolor": "#E5ECF6",
                      "caxis": {
                        "gridcolor": "white",
                        "linecolor": "white",
                        "ticks": ""
                      }
                    },
                    "title": {
                      "x": 0.05
                    },
                    "xaxis": {
                      "automargin": true,
                      "gridcolor": "white",
                      "linecolor": "white",
                      "ticks": "",
                      "title": {
                        "standoff": 15
                      },
                      "zerolinecolor": "white",
                      "zerolinewidth": 2
                    },
                    "yaxis": {
                      "automargin": true,
                      "gridcolor": "white",
                      "linecolor": "white",
                      "ticks": "",
                      "title": {
                        "standoff": 15
                      },
                      "zerolinecolor": "white",
                      "zerolinewidth": 2
                    }
                  }
                },
                "title": {
                  "text": "Distribution of Mission Status"
                },
                "xaxis": {
                  "anchor": "y",
                  "categoryarray": [
                    "Success",
                    "Failure",
                    "Partial Failure",
                    "Prelaunch Failure"
                  ],
                  "categoryorder": "array",
                  "domain": [
                    0,
                    1
                  ],
                  "title": {
                    "text": "Mission Status"
                  }
                },
                "yaxis": {
                  "anchor": "x",
                  "domain": [
                    0,
                    1
                  ],
                  "title": {
                    "text": "Number of Missions"
                  }
                }
              }
            }
          },
          "metadata": {},
          "output_type": "display_data"
        }
      ],
      "source": [
        "fig = px.bar(mission_status,\n",
        "             x=mission_status.index,\n",
        "             y=mission_status.values,\n",
        "             title=\"Distribution of Mission Status\",\n",
        "             color=mission_status.index,\n",
        "             labels={\"Mission_Status\": \"Mission Status\",\n",
        "                     \"y\": \"Number of Missions\"})\n",
        "\n",
        "fig.show()"
      ]
    },
    {
      "cell_type": "markdown",
      "metadata": {
        "id": "jgTCihuoa-qH",
        "papermill": {
          "duration": 0.03854,
          "end_time": "2020-10-20T21:34:05.968626",
          "exception": false,
          "start_time": "2020-10-20T21:34:05.930086",
          "status": "completed"
        },
        "tags": []
      },
      "source": [
        "# How Expensive are the Launches? \n",
        "\n",
        "Create a histogram and visualise the distribution. The price column is given in USD millions (careful of missing values). "
      ]
    },
    {
      "cell_type": "code",
      "execution_count": 15,
      "metadata": {
        "id": "PLOMhzZFnSCO"
      },
      "outputs": [
        {
          "name": "stdout",
          "output_type": "stream",
          "text": [
            "(964, 7)\n"
          ]
        },
        {
          "data": {
            "text/html": [
              "<div>\n",
              "<style scoped>\n",
              "    .dataframe tbody tr th:only-of-type {\n",
              "        vertical-align: middle;\n",
              "    }\n",
              "\n",
              "    .dataframe tbody tr th {\n",
              "        vertical-align: top;\n",
              "    }\n",
              "\n",
              "    .dataframe thead th {\n",
              "        text-align: right;\n",
              "    }\n",
              "</style>\n",
              "<table border=\"1\" class=\"dataframe\">\n",
              "  <thead>\n",
              "    <tr style=\"text-align: right;\">\n",
              "      <th></th>\n",
              "      <th>Organisation</th>\n",
              "      <th>Location</th>\n",
              "      <th>Date</th>\n",
              "      <th>Detail</th>\n",
              "      <th>Rocket_Status</th>\n",
              "      <th>Price</th>\n",
              "      <th>Mission_Status</th>\n",
              "    </tr>\n",
              "  </thead>\n",
              "  <tbody>\n",
              "    <tr>\n",
              "      <th>953</th>\n",
              "      <td>NASA</td>\n",
              "      <td>LC-39B, Kennedy Space Center, Florida, USA</td>\n",
              "      <td>Tue Jul 26, 2005 14:39 UTC</td>\n",
              "      <td>Space Shuttle Discovery | STS-114</td>\n",
              "      <td>StatusRetired</td>\n",
              "      <td>450.0</td>\n",
              "      <td>Success</td>\n",
              "    </tr>\n",
              "    <tr>\n",
              "      <th>960</th>\n",
              "      <td>ISRO</td>\n",
              "      <td>Second Launch Pad, Satish Dhawan Space Centre,...</td>\n",
              "      <td>Thu May 05, 2005 04:45 UTC</td>\n",
              "      <td>PSLV-G | Cartosat-1 &amp; HAMSAT</td>\n",
              "      <td>StatusRetired</td>\n",
              "      <td>25.0</td>\n",
              "      <td>Success</td>\n",
              "    </tr>\n",
              "    <tr>\n",
              "      <th>1716</th>\n",
              "      <td>NASA</td>\n",
              "      <td>LC-39A, Kennedy Space Center, Florida, USA</td>\n",
              "      <td>Wed Jan 22, 1992 14:52 UTC</td>\n",
              "      <td>Space Shuttle Discovery | STS-42</td>\n",
              "      <td>StatusRetired</td>\n",
              "      <td>450.0</td>\n",
              "      <td>Success</td>\n",
              "    </tr>\n",
              "    <tr>\n",
              "      <th>1755</th>\n",
              "      <td>NASA</td>\n",
              "      <td>LC-39A, Kennedy Space Center, Florida, USA</td>\n",
              "      <td>Sun Apr 28, 1991 11:33 UTC</td>\n",
              "      <td>Space Shuttle Discovery | STS-39</td>\n",
              "      <td>StatusRetired</td>\n",
              "      <td>450.0</td>\n",
              "      <td>Success</td>\n",
              "    </tr>\n",
              "    <tr>\n",
              "      <th>540</th>\n",
              "      <td>Arianespace</td>\n",
              "      <td>ELA-3, Guiana Space Centre, French Guiana, France</td>\n",
              "      <td>Thu Sep 11, 2014 22:05 UTC</td>\n",
              "      <td>Ariane 5 ECA | MEASAT 3b, Optus 10</td>\n",
              "      <td>StatusActive</td>\n",
              "      <td>200.0</td>\n",
              "      <td>Success</td>\n",
              "    </tr>\n",
              "  </tbody>\n",
              "</table>\n",
              "</div>"
            ],
            "text/plain": [
              "     Organisation                                           Location  \\\n",
              "953          NASA         LC-39B, Kennedy Space Center, Florida, USA   \n",
              "960          ISRO  Second Launch Pad, Satish Dhawan Space Centre,...   \n",
              "1716         NASA         LC-39A, Kennedy Space Center, Florida, USA   \n",
              "1755         NASA         LC-39A, Kennedy Space Center, Florida, USA   \n",
              "540   Arianespace  ELA-3, Guiana Space Centre, French Guiana, France   \n",
              "\n",
              "                            Date                              Detail  \\\n",
              "953   Tue Jul 26, 2005 14:39 UTC   Space Shuttle Discovery | STS-114   \n",
              "960   Thu May 05, 2005 04:45 UTC        PSLV-G | Cartosat-1 & HAMSAT   \n",
              "1716  Wed Jan 22, 1992 14:52 UTC    Space Shuttle Discovery | STS-42   \n",
              "1755  Sun Apr 28, 1991 11:33 UTC    Space Shuttle Discovery | STS-39   \n",
              "540   Thu Sep 11, 2014 22:05 UTC  Ariane 5 ECA | MEASAT 3b, Optus 10   \n",
              "\n",
              "      Rocket_Status  Price Mission_Status  \n",
              "953   StatusRetired  450.0        Success  \n",
              "960   StatusRetired   25.0        Success  \n",
              "1716  StatusRetired  450.0        Success  \n",
              "1755  StatusRetired  450.0        Success  \n",
              "540    StatusActive  200.0        Success  "
            ]
          },
          "execution_count": 15,
          "metadata": {},
          "output_type": "execute_result"
        }
      ],
      "source": [
        "# Drop the NaN values from the dataset because they all were in the \"Price\" column\n",
        "price_df = df_data.dropna()\n",
        "print(price_df.shape)\n",
        "price_df.sample(5)"
      ]
    },
    {
      "cell_type": "code",
      "execution_count": 16,
      "metadata": {},
      "outputs": [
        {
          "name": "stdout",
          "output_type": "stream",
          "text": [
            "<class 'pandas.core.frame.DataFrame'>\n",
            "Index: 964 entries, 0 to 4020\n",
            "Data columns (total 7 columns):\n",
            " #   Column          Non-Null Count  Dtype  \n",
            "---  ------          --------------  -----  \n",
            " 0   Organisation    964 non-null    object \n",
            " 1   Location        964 non-null    object \n",
            " 2   Date            964 non-null    object \n",
            " 3   Detail          964 non-null    object \n",
            " 4   Rocket_Status   964 non-null    object \n",
            " 5   Price           964 non-null    float64\n",
            " 6   Mission_Status  964 non-null    object \n",
            "dtypes: float64(1), object(6)\n",
            "memory usage: 60.2+ KB\n"
          ]
        },
        {
          "name": "stderr",
          "output_type": "stream",
          "text": [
            "/var/folders/1r/f78n5tg13g5gk9xtphr0_nrh0000gn/T/ipykernel_3902/3554663599.py:2: SettingWithCopyWarning:\n",
            "\n",
            "\n",
            "A value is trying to be set on a copy of a slice from a DataFrame.\n",
            "Try using .loc[row_indexer,col_indexer] = value instead\n",
            "\n",
            "See the caveats in the documentation: https://pandas.pydata.org/pandas-docs/stable/user_guide/indexing.html#returning-a-view-versus-a-copy\n",
            "\n",
            "/var/folders/1r/f78n5tg13g5gk9xtphr0_nrh0000gn/T/ipykernel_3902/3554663599.py:3: SettingWithCopyWarning:\n",
            "\n",
            "\n",
            "A value is trying to be set on a copy of a slice from a DataFrame.\n",
            "Try using .loc[row_indexer,col_indexer] = value instead\n",
            "\n",
            "See the caveats in the documentation: https://pandas.pydata.org/pandas-docs/stable/user_guide/indexing.html#returning-a-view-versus-a-copy\n",
            "\n"
          ]
        }
      ],
      "source": [
        "# Type conversion on \"Price\" column to allow for comparison\n",
        "price_df.Price = price_df.Price.astype(str).str.replace(\",\", \"\")\n",
        "price_df.Price = pd.to_numeric(price_df.Price)\n",
        "price_df.info()"
      ]
    },
    {
      "cell_type": "code",
      "execution_count": 17,
      "metadata": {},
      "outputs": [
        {
          "data": {
            "image/png": "[encoded data removed]",
            "text/plain": [
              "<Figure size 640x480 with 1 Axes>"
            ]
          },
          "metadata": {},
          "output_type": "display_data"
        }
      ],
      "source": [
        "sns.histplot(price_df,\n",
        "             x=price_df.Price,\n",
        "             bins=20)\n",
        "\n",
        "plt.xlabel(\"Price in USD millions\")\n",
        "plt.title(\"Distribution of Cost of Missions\")\n",
        "\n",
        "plt.show()"
      ]
    },
    {
      "cell_type": "code",
      "execution_count": 18,
      "metadata": {},
      "outputs": [
        {
          "data": {
            "image/png": "[encoded data removed]",
            "text/plain": [
              "<Figure size 640x480 with 1 Axes>"
            ]
          },
          "metadata": {},
          "output_type": "display_data"
        }
      ],
      "source": [
        "# Clean outliers to better visualise the bulk of the data\n",
        "no_outliers_price_df = price_df[(price_df.Price >= (price_df.Price.quantile(0.025))) & \n",
        "                                (price_df.Price <= (price_df.Price.quantile(0.975)))]\n",
        "\n",
        "sns.histplot(no_outliers_price_df,\n",
        "             x=no_outliers_price_df.Price,\n",
        "             bins=20)\n",
        "\n",
        "plt.xlabel(\"Price in USD millions\")\n",
        "plt.title(\"Distribution of Cost of Missions\")\n",
        "\n",
        "plt.show()"
      ]
    },
    {
      "cell_type": "markdown",
      "metadata": {
        "id": "QiNtigQDne3E"
      },
      "source": [
        "# Use a Choropleth Map to Show the Number of Launches by Country\n",
        "\n",
        "* Create a choropleth map using [the plotly documentation](https://plotly.com/python/choropleth-maps/)\n",
        "* Experiment with [plotly's available colours](https://plotly.com/python/builtin-colorscales/). I quite like the sequential colour `matter` on this map. \n",
        "* You'll need to extract a `country` feature as well as change the country names that no longer exist.\n",
        "\n",
        "Wrangle the Country Names\n",
        "\n",
        "You'll need to use a 3 letter country code for each country. You might have to change some country names.\n",
        "\n",
        "* Russia is the Russian Federation\n",
        "* New Mexico should be USA\n",
        "* Yellow Sea refers to China\n",
        "* Shahrud Missile Test Site should be Iran\n",
        "* Pacific Missile Range Facility should be USA\n",
        "* Barents Sea should be Russian Federation\n",
        "* Gran Canaria should be USA\n",
        "\n",
        "\n",
        "You can use the iso3166 package to convert the country names to Alpha3 format."
      ]
    },
    {
      "cell_type": "code",
      "execution_count": 19,
      "metadata": {
        "id": "Y46-4GHrozhF"
      },
      "outputs": [
        {
          "data": {
            "text/html": [
              "<div>\n",
              "<style scoped>\n",
              "    .dataframe tbody tr th:only-of-type {\n",
              "        vertical-align: middle;\n",
              "    }\n",
              "\n",
              "    .dataframe tbody tr th {\n",
              "        vertical-align: top;\n",
              "    }\n",
              "\n",
              "    .dataframe thead th {\n",
              "        text-align: right;\n",
              "    }\n",
              "</style>\n",
              "<table border=\"1\" class=\"dataframe\">\n",
              "  <thead>\n",
              "    <tr style=\"text-align: right;\">\n",
              "      <th></th>\n",
              "      <th>Organisation</th>\n",
              "      <th>Location</th>\n",
              "      <th>Date</th>\n",
              "      <th>Detail</th>\n",
              "      <th>Rocket_Status</th>\n",
              "      <th>Price</th>\n",
              "      <th>Mission_Status</th>\n",
              "      <th>Country</th>\n",
              "    </tr>\n",
              "  </thead>\n",
              "  <tbody>\n",
              "    <tr>\n",
              "      <th>3794</th>\n",
              "      <td>RVSN USSR</td>\n",
              "      <td>Site 41/1, Plesetsk Cosmodrome, Russia</td>\n",
              "      <td>Mon Mar 13, 1967 12:10 UTC</td>\n",
              "      <td>Vostok-2 | Cosmos 147</td>\n",
              "      <td>StatusRetired</td>\n",
              "      <td>NaN</td>\n",
              "      <td>Success</td>\n",
              "      <td>Russia</td>\n",
              "    </tr>\n",
              "    <tr>\n",
              "      <th>1880</th>\n",
              "      <td>Arianespace</td>\n",
              "      <td>ELA-1, Guiana Space Centre, French Guiana, France</td>\n",
              "      <td>Wed Jul 12, 1989 00:14 UTC</td>\n",
              "      <td>Ariane 3 | Olympus-1</td>\n",
              "      <td>StatusRetired</td>\n",
              "      <td>NaN</td>\n",
              "      <td>Success</td>\n",
              "      <td>France</td>\n",
              "    </tr>\n",
              "    <tr>\n",
              "      <th>3307</th>\n",
              "      <td>RVSN USSR</td>\n",
              "      <td>Site 43/3, Plesetsk Cosmodrome, Russia</td>\n",
              "      <td>Thu Oct 07, 1971 12:30 UTC</td>\n",
              "      <td>Voskhod | Cosmos 443</td>\n",
              "      <td>StatusRetired</td>\n",
              "      <td>NaN</td>\n",
              "      <td>Success</td>\n",
              "      <td>Russia</td>\n",
              "    </tr>\n",
              "    <tr>\n",
              "      <th>2732</th>\n",
              "      <td>RVSN USSR</td>\n",
              "      <td>Site 43/4, Plesetsk Cosmodrome, Russia</td>\n",
              "      <td>Sat Feb 26, 1977 21:18 UTC</td>\n",
              "      <td>Vostok-2M | Cosmos 895</td>\n",
              "      <td>StatusRetired</td>\n",
              "      <td>NaN</td>\n",
              "      <td>Success</td>\n",
              "      <td>Russia</td>\n",
              "    </tr>\n",
              "    <tr>\n",
              "      <th>3042</th>\n",
              "      <td>RVSN USSR</td>\n",
              "      <td>Site 31/6, Baikonur Cosmodrome, Kazakhstan</td>\n",
              "      <td>Wed May 15, 1974 08:30 UTC</td>\n",
              "      <td>Soyuz U | Cosmos 652</td>\n",
              "      <td>StatusRetired</td>\n",
              "      <td>NaN</td>\n",
              "      <td>Success</td>\n",
              "      <td>Kazakhstan</td>\n",
              "    </tr>\n",
              "  </tbody>\n",
              "</table>\n",
              "</div>"
            ],
            "text/plain": [
              "     Organisation                                           Location  \\\n",
              "3794    RVSN USSR             Site 41/1, Plesetsk Cosmodrome, Russia   \n",
              "1880  Arianespace  ELA-1, Guiana Space Centre, French Guiana, France   \n",
              "3307    RVSN USSR             Site 43/3, Plesetsk Cosmodrome, Russia   \n",
              "2732    RVSN USSR             Site 43/4, Plesetsk Cosmodrome, Russia   \n",
              "3042    RVSN USSR         Site 31/6, Baikonur Cosmodrome, Kazakhstan   \n",
              "\n",
              "                            Date                  Detail  Rocket_Status Price  \\\n",
              "3794  Mon Mar 13, 1967 12:10 UTC   Vostok-2 | Cosmos 147  StatusRetired   NaN   \n",
              "1880  Wed Jul 12, 1989 00:14 UTC    Ariane 3 | Olympus-1  StatusRetired   NaN   \n",
              "3307  Thu Oct 07, 1971 12:30 UTC    Voskhod | Cosmos 443  StatusRetired   NaN   \n",
              "2732  Sat Feb 26, 1977 21:18 UTC  Vostok-2M | Cosmos 895  StatusRetired   NaN   \n",
              "3042  Wed May 15, 1974 08:30 UTC    Soyuz U | Cosmos 652  StatusRetired   NaN   \n",
              "\n",
              "     Mission_Status     Country  \n",
              "3794        Success      Russia  \n",
              "1880        Success      France  \n",
              "3307        Success      Russia  \n",
              "2732        Success      Russia  \n",
              "3042        Success  Kazakhstan  "
            ]
          },
          "execution_count": 19,
          "metadata": {},
          "output_type": "execute_result"
        }
      ],
      "source": [
        "df_data[\"Country\"] = df_data[\"Location\"].str.split(\", \").str[-1]\n",
        "df_data.sample(5)\n"
      ]
    },
    {
      "cell_type": "code",
      "execution_count": 20,
      "metadata": {},
      "outputs": [],
      "source": [
        "df_data.replace({\"Country\": {\"New Mexico\": \"USA\",\n",
        "                             \"Yellow Sea\": \"China\",\n",
        "                             \"Shahrud Missile Test Site\": \"Iran\",\n",
        "                             \"Pacific Missile Range Facility\": \"USA\",\n",
        "                             \"Barents Sea\": \"Russia\",\n",
        "                             \"Gran Canaria\": \"USA\"}}, \n",
        "                inplace=True)"
      ]
    },
    {
      "cell_type": "code",
      "execution_count": 21,
      "metadata": {},
      "outputs": [
        {
          "data": {
            "text/plain": [
              "Country\n",
              "Russia           1398\n",
              "USA              1351\n",
              "Kazakhstan        701\n",
              "France            303\n",
              "China             269\n",
              "Japan             126\n",
              "India              76\n",
              "Pacific Ocean      36\n",
              "Iran               14\n",
              "New Zealand        13\n",
              "Israel             11\n",
              "Kenya               9\n",
              "Australia           6\n",
              "North Korea         5\n",
              "South Korea         3\n",
              "Brazil              3\n",
              "Name: count, dtype: int64"
            ]
          },
          "execution_count": 21,
          "metadata": {},
          "output_type": "execute_result"
        }
      ],
      "source": [
        "df_data.Country.value_counts()"
      ]
    },
    {
      "cell_type": "code",
      "execution_count": 22,
      "metadata": {},
      "outputs": [],
      "source": [
        "iso_codes = []\n",
        "\n",
        "# Create list of ISO codes and add that to the dataset as a new column\n",
        "for country in df_data[\"Country\"]:\n",
        "    try:\n",
        "        info = pycountry.countries.search_fuzzy(country)\n",
        "    except Exception:\n",
        "        iso_codes.append(np.nan)\n",
        "    else:\n",
        "        iso_codes.append(info[0].alpha_3)\n",
        "\n",
        "df_data[\"ISO\"] = iso_codes"
      ]
    },
    {
      "cell_type": "code",
      "execution_count": 23,
      "metadata": {},
      "outputs": [
        {
          "data": {
            "text/html": [
              "<div>\n",
              "<style scoped>\n",
              "    .dataframe tbody tr th:only-of-type {\n",
              "        vertical-align: middle;\n",
              "    }\n",
              "\n",
              "    .dataframe tbody tr th {\n",
              "        vertical-align: top;\n",
              "    }\n",
              "\n",
              "    .dataframe thead th {\n",
              "        text-align: right;\n",
              "    }\n",
              "</style>\n",
              "<table border=\"1\" class=\"dataframe\">\n",
              "  <thead>\n",
              "    <tr style=\"text-align: right;\">\n",
              "      <th></th>\n",
              "      <th>Organisation</th>\n",
              "      <th>Location</th>\n",
              "      <th>Date</th>\n",
              "      <th>Detail</th>\n",
              "      <th>Rocket_Status</th>\n",
              "      <th>Price</th>\n",
              "      <th>Mission_Status</th>\n",
              "      <th>Country</th>\n",
              "      <th>ISO</th>\n",
              "    </tr>\n",
              "  </thead>\n",
              "  <tbody>\n",
              "    <tr>\n",
              "      <th>908</th>\n",
              "      <td>Arianespace</td>\n",
              "      <td>ELA-3, Guiana Space Centre, French Guiana, France</td>\n",
              "      <td>Fri Aug 11, 2006 22:15 UTC</td>\n",
              "      <td>Ariane 5 ECA | JCSAT-10 &amp; Syracuse 3B</td>\n",
              "      <td>StatusActive</td>\n",
              "      <td>200.0</td>\n",
              "      <td>Success</td>\n",
              "      <td>France</td>\n",
              "      <td>FRA</td>\n",
              "    </tr>\n",
              "    <tr>\n",
              "      <th>1449</th>\n",
              "      <td>VKS RF</td>\n",
              "      <td>Site 132/1, Plesetsk Cosmodrome, Russia</td>\n",
              "      <td>Wed Apr 24, 1996 13:00 UTC</td>\n",
              "      <td>Cosmos-3M (11K65M) | Cosmos 2265</td>\n",
              "      <td>StatusRetired</td>\n",
              "      <td>NaN</td>\n",
              "      <td>Success</td>\n",
              "      <td>Russia</td>\n",
              "      <td>RUS</td>\n",
              "    </tr>\n",
              "    <tr>\n",
              "      <th>1910</th>\n",
              "      <td>RVSN USSR</td>\n",
              "      <td>Site 43/3, Plesetsk Cosmodrome, Russia</td>\n",
              "      <td>Thu Dec 22, 1988 14:15 UTC</td>\n",
              "      <td>Molniya-M /Block ML | Molniya-3 n†­135</td>\n",
              "      <td>StatusRetired</td>\n",
              "      <td>NaN</td>\n",
              "      <td>Success</td>\n",
              "      <td>Russia</td>\n",
              "      <td>RUS</td>\n",
              "    </tr>\n",
              "    <tr>\n",
              "      <th>1101</th>\n",
              "      <td>Arianespace</td>\n",
              "      <td>ELA-2, Guiana Space Centre, French Guiana, France</td>\n",
              "      <td>Fri Mar 29, 2002 01:29 UTC</td>\n",
              "      <td>Ariane 44L | Astra 3A, JCSAT-8</td>\n",
              "      <td>StatusRetired</td>\n",
              "      <td>NaN</td>\n",
              "      <td>Success</td>\n",
              "      <td>France</td>\n",
              "      <td>FRA</td>\n",
              "    </tr>\n",
              "    <tr>\n",
              "      <th>3965</th>\n",
              "      <td>General Dynamics</td>\n",
              "      <td>LC-576B3, Vandenberg AFB, California, USA</td>\n",
              "      <td>Fri May 28, 1965 02:54 UTC</td>\n",
              "      <td>Atlas-D OV1 | OV1-3</td>\n",
              "      <td>StatusRetired</td>\n",
              "      <td>NaN</td>\n",
              "      <td>Failure</td>\n",
              "      <td>USA</td>\n",
              "      <td>USA</td>\n",
              "    </tr>\n",
              "  </tbody>\n",
              "</table>\n",
              "</div>"
            ],
            "text/plain": [
              "          Organisation                                           Location  \\\n",
              "908        Arianespace  ELA-3, Guiana Space Centre, French Guiana, France   \n",
              "1449            VKS RF            Site 132/1, Plesetsk Cosmodrome, Russia   \n",
              "1910         RVSN USSR             Site 43/3, Plesetsk Cosmodrome, Russia   \n",
              "1101       Arianespace  ELA-2, Guiana Space Centre, French Guiana, France   \n",
              "3965  General Dynamics          LC-576B3, Vandenberg AFB, California, USA   \n",
              "\n",
              "                            Date                                  Detail  \\\n",
              "908   Fri Aug 11, 2006 22:15 UTC   Ariane 5 ECA | JCSAT-10 & Syracuse 3B   \n",
              "1449  Wed Apr 24, 1996 13:00 UTC        Cosmos-3M (11K65M) | Cosmos 2265   \n",
              "1910  Thu Dec 22, 1988 14:15 UTC  Molniya-M /Block ML | Molniya-3 n†­135   \n",
              "1101  Fri Mar 29, 2002 01:29 UTC          Ariane 44L | Astra 3A, JCSAT-8   \n",
              "3965  Fri May 28, 1965 02:54 UTC                     Atlas-D OV1 | OV1-3   \n",
              "\n",
              "      Rocket_Status  Price Mission_Status Country  ISO  \n",
              "908    StatusActive  200.0        Success  France  FRA  \n",
              "1449  StatusRetired    NaN        Success  Russia  RUS  \n",
              "1910  StatusRetired    NaN        Success  Russia  RUS  \n",
              "1101  StatusRetired    NaN        Success  France  FRA  \n",
              "3965  StatusRetired    NaN        Failure     USA  USA  "
            ]
          },
          "execution_count": 23,
          "metadata": {},
          "output_type": "execute_result"
        }
      ],
      "source": [
        "df_data.sample(5)"
      ]
    },
    {
      "cell_type": "code",
      "execution_count": 24,
      "metadata": {},
      "outputs": [
        {
          "data": {
            "text/html": [
              "<div>\n",
              "<style scoped>\n",
              "    .dataframe tbody tr th:only-of-type {\n",
              "        vertical-align: middle;\n",
              "    }\n",
              "\n",
              "    .dataframe tbody tr th {\n",
              "        vertical-align: top;\n",
              "    }\n",
              "\n",
              "    .dataframe thead th {\n",
              "        text-align: right;\n",
              "    }\n",
              "</style>\n",
              "<table border=\"1\" class=\"dataframe\">\n",
              "  <thead>\n",
              "    <tr style=\"text-align: right;\">\n",
              "      <th></th>\n",
              "      <th>Country</th>\n",
              "      <th>ISO</th>\n",
              "      <th>Mission_Status</th>\n",
              "    </tr>\n",
              "  </thead>\n",
              "  <tbody>\n",
              "    <tr>\n",
              "      <th>12</th>\n",
              "      <td>Russia</td>\n",
              "      <td>RUS</td>\n",
              "      <td>1398</td>\n",
              "    </tr>\n",
              "    <tr>\n",
              "      <th>14</th>\n",
              "      <td>USA</td>\n",
              "      <td>USA</td>\n",
              "      <td>1351</td>\n",
              "    </tr>\n",
              "    <tr>\n",
              "      <th>8</th>\n",
              "      <td>Kazakhstan</td>\n",
              "      <td>KAZ</td>\n",
              "      <td>701</td>\n",
              "    </tr>\n",
              "    <tr>\n",
              "      <th>3</th>\n",
              "      <td>France</td>\n",
              "      <td>FRA</td>\n",
              "      <td>303</td>\n",
              "    </tr>\n",
              "    <tr>\n",
              "      <th>2</th>\n",
              "      <td>China</td>\n",
              "      <td>CHN</td>\n",
              "      <td>269</td>\n",
              "    </tr>\n",
              "    <tr>\n",
              "      <th>7</th>\n",
              "      <td>Japan</td>\n",
              "      <td>JPN</td>\n",
              "      <td>126</td>\n",
              "    </tr>\n",
              "    <tr>\n",
              "      <th>4</th>\n",
              "      <td>India</td>\n",
              "      <td>IND</td>\n",
              "      <td>76</td>\n",
              "    </tr>\n",
              "    <tr>\n",
              "      <th>5</th>\n",
              "      <td>Iran</td>\n",
              "      <td>IRN</td>\n",
              "      <td>14</td>\n",
              "    </tr>\n",
              "    <tr>\n",
              "      <th>10</th>\n",
              "      <td>New Zealand</td>\n",
              "      <td>NZL</td>\n",
              "      <td>13</td>\n",
              "    </tr>\n",
              "    <tr>\n",
              "      <th>6</th>\n",
              "      <td>Israel</td>\n",
              "      <td>ISR</td>\n",
              "      <td>11</td>\n",
              "    </tr>\n",
              "    <tr>\n",
              "      <th>9</th>\n",
              "      <td>Kenya</td>\n",
              "      <td>KEN</td>\n",
              "      <td>9</td>\n",
              "    </tr>\n",
              "    <tr>\n",
              "      <th>0</th>\n",
              "      <td>Australia</td>\n",
              "      <td>AUS</td>\n",
              "      <td>6</td>\n",
              "    </tr>\n",
              "    <tr>\n",
              "      <th>11</th>\n",
              "      <td>North Korea</td>\n",
              "      <td>PRK</td>\n",
              "      <td>5</td>\n",
              "    </tr>\n",
              "    <tr>\n",
              "      <th>1</th>\n",
              "      <td>Brazil</td>\n",
              "      <td>BRA</td>\n",
              "      <td>3</td>\n",
              "    </tr>\n",
              "    <tr>\n",
              "      <th>13</th>\n",
              "      <td>South Korea</td>\n",
              "      <td>KOR</td>\n",
              "      <td>3</td>\n",
              "    </tr>\n",
              "  </tbody>\n",
              "</table>\n",
              "</div>"
            ],
            "text/plain": [
              "        Country  ISO  Mission_Status\n",
              "12       Russia  RUS            1398\n",
              "14          USA  USA            1351\n",
              "8    Kazakhstan  KAZ             701\n",
              "3        France  FRA             303\n",
              "2         China  CHN             269\n",
              "7         Japan  JPN             126\n",
              "4         India  IND              76\n",
              "5          Iran  IRN              14\n",
              "10  New Zealand  NZL              13\n",
              "6        Israel  ISR              11\n",
              "9         Kenya  KEN               9\n",
              "0     Australia  AUS               6\n",
              "11  North Korea  PRK               5\n",
              "1        Brazil  BRA               3\n",
              "13  South Korea  KOR               3"
            ]
          },
          "execution_count": 24,
          "metadata": {},
          "output_type": "execute_result"
        }
      ],
      "source": [
        "launches_by_country = df_data.groupby([\"Country\", \"ISO\"], as_index=False).agg({\"Mission_Status\": pd.Series.count})\n",
        "launches_by_country.sort_values(\"Mission_Status\", ascending=False)"
      ]
    },
    {
      "cell_type": "code",
      "execution_count": 46,
      "metadata": {},
      "outputs": [
        {
          "data": {
            "application/vnd.plotly.v1+json": {
              "config": {
                "plotlyServerURL": "https://plot.ly"
              },
              "data": [
                {
                  "colorbar": {
                    "title": {
                      "text": "Number of Missions"
                    }
                  },
                  "colorscale": [
                    [
                      0,
                      "rgb(253, 237, 176)"
                    ],
                    [
                      0.09090909090909091,
                      "rgb(250, 205, 145)"
                    ],
                    [
                      0.18181818181818182,
                      "rgb(246, 173, 119)"
                    ],
                    [
                      0.2727272727272727,
                      "rgb(240, 142, 98)"
                    ],
                    [
                      0.36363636363636365,
                      "rgb(231, 109, 84)"
                    ],
                    [
                      0.45454545454545453,
                      "rgb(216, 80, 83)"
                    ],
                    [
                      0.5454545454545454,
                      "rgb(195, 56, 90)"
                    ],
                    [
                      0.6363636363636364,
                      "rgb(168, 40, 96)"
                    ],
                    [
                      0.7272727272727273,
                      "rgb(138, 29, 99)"
                    ],
                    [
                      0.8181818181818182,
                      "rgb(107, 24, 93)"
                    ],
                    [
                      0.9090909090909091,
                      "rgb(76, 21, 80)"
                    ],
                    [
                      1,
                      "rgb(47, 15, 61)"
                    ]
                  ],
                  "locations": [
                    "AUS",
                    "BRA",
                    "CHN",
                    "FRA",
                    "IND",
                    "IRN",
                    "ISR",
                    "JPN",
                    "KAZ",
                    "KEN",
                    "NZL",
                    "PRK",
                    "RUS",
                    "KOR",
                    "USA"
                  ],
                  "text": [
                    "Australia",
                    "Brazil",
                    "China",
                    "France",
                    "India",
                    "Iran",
                    "Israel",
                    "Japan",
                    "Kazakhstan",
                    "Kenya",
                    "New Zealand",
                    "North Korea",
                    "Russia",
                    "South Korea",
                    "USA"
                  ],
                  "type": "choropleth",
                  "z": [
                    6,
                    3,
                    269,
                    303,
                    76,
                    14,
                    11,
                    126,
                    701,
                    9,
                    13,
                    5,
                    1398,
                    3,
                    1351
                  ]
                }
              ],
              "layout": {
                "template": {
                  "data": {
                    "bar": [
                      {
                        "error_x": {
                          "color": "#2a3f5f"
                        },
                        "error_y": {
                          "color": "#2a3f5f"
                        },
                        "marker": {
                          "line": {
                            "color": "#E5ECF6",
                            "width": 0.5
                          },
                          "pattern": {
                            "fillmode": "overlay",
                            "size": 10,
                            "solidity": 0.2
                          }
                        },
                        "type": "bar"
                      }
                    ],
                    "barpolar": [
                      {
                        "marker": {
                          "line": {
                            "color": "#E5ECF6",
                            "width": 0.5
                          },
                          "pattern": {
                            "fillmode": "overlay",
                            "size": 10,
                            "solidity": 0.2
                          }
                        },
                        "type": "barpolar"
                      }
                    ],
                    "carpet": [
                      {
                        "aaxis": {
                          "endlinecolor": "#2a3f5f",
                          "gridcolor": "white",
                          "linecolor": "white",
                          "minorgridcolor": "white",
                          "startlinecolor": "#2a3f5f"
                        },
                        "baxis": {
                          "endlinecolor": "#2a3f5f",
                          "gridcolor": "white",
                          "linecolor": "white",
                          "minorgridcolor": "white",
                          "startlinecolor": "#2a3f5f"
                        },
                        "type": "carpet"
                      }
                    ],
                    "choropleth": [
                      {
                        "colorbar": {
                          "outlinewidth": 0,
                          "ticks": ""
                        },
                        "type": "choropleth"
                      }
                    ],
                    "contour": [
                      {
                        "colorbar": {
                          "outlinewidth": 0,
                          "ticks": ""
                        },
                        "colorscale": [
                          [
                            0,
                            "#0d0887"
                          ],
                          [
                            0.1111111111111111,
                            "#46039f"
                          ],
                          [
                            0.2222222222222222,
                            "#7201a8"
                          ],
                          [
                            0.3333333333333333,
                            "#9c179e"
                          ],
                          [
                            0.4444444444444444,
                            "#bd3786"
                          ],
                          [
                            0.5555555555555556,
                            "#d8576b"
                          ],
                          [
                            0.6666666666666666,
                            "#ed7953"
                          ],
                          [
                            0.7777777777777778,
                            "#fb9f3a"
                          ],
                          [
                            0.8888888888888888,
                            "#fdca26"
                          ],
                          [
                            1,
                            "#f0f921"
                          ]
                        ],
                        "type": "contour"
                      }
                    ],
                    "contourcarpet": [
                      {
                        "colorbar": {
                          "outlinewidth": 0,
                          "ticks": ""
                        },
                        "type": "contourcarpet"
                      }
                    ],
                    "heatmap": [
                      {
                        "colorbar": {
                          "outlinewidth": 0,
                          "ticks": ""
                        },
                        "colorscale": [
                          [
                            0,
                            "#0d0887"
                          ],
                          [
                            0.1111111111111111,
                            "#46039f"
                          ],
                          [
                            0.2222222222222222,
                            "#7201a8"
                          ],
                          [
                            0.3333333333333333,
                            "#9c179e"
                          ],
                          [
                            0.4444444444444444,
                            "#bd3786"
                          ],
                          [
                            0.5555555555555556,
                            "#d8576b"
                          ],
                          [
                            0.6666666666666666,
                            "#ed7953"
                          ],
                          [
                            0.7777777777777778,
                            "#fb9f3a"
                          ],
                          [
                            0.8888888888888888,
                            "#fdca26"
                          ],
                          [
                            1,
                            "#f0f921"
                          ]
                        ],
                        "type": "heatmap"
                      }
                    ],
                    "heatmapgl": [
                      {
                        "colorbar": {
                          "outlinewidth": 0,
                          "ticks": ""
                        },
                        "colorscale": [
                          [
                            0,
                            "#0d0887"
                          ],
                          [
                            0.1111111111111111,
                            "#46039f"
                          ],
                          [
                            0.2222222222222222,
                            "#7201a8"
                          ],
                          [
                            0.3333333333333333,
                            "#9c179e"
                          ],
                          [
                            0.4444444444444444,
                            "#bd3786"
                          ],
                          [
                            0.5555555555555556,
                            "#d8576b"
                          ],
                          [
                            0.6666666666666666,
                            "#ed7953"
                          ],
                          [
                            0.7777777777777778,
                            "#fb9f3a"
                          ],
                          [
                            0.8888888888888888,
                            "#fdca26"
                          ],
                          [
                            1,
                            "#f0f921"
                          ]
                        ],
                        "type": "heatmapgl"
                      }
                    ],
                    "histogram": [
                      {
                        "marker": {
                          "pattern": {
                            "fillmode": "overlay",
                            "size": 10,
                            "solidity": 0.2
                          }
                        },
                        "type": "histogram"
                      }
                    ],
                    "histogram2d": [
                      {
                        "colorbar": {
                          "outlinewidth": 0,
                          "ticks": ""
                        },
                        "colorscale": [
                          [
                            0,
                            "#0d0887"
                          ],
                          [
                            0.1111111111111111,
                            "#46039f"
                          ],
                          [
                            0.2222222222222222,
                            "#7201a8"
                          ],
                          [
                            0.3333333333333333,
                            "#9c179e"
                          ],
                          [
                            0.4444444444444444,
                            "#bd3786"
                          ],
                          [
                            0.5555555555555556,
                            "#d8576b"
                          ],
                          [
                            0.6666666666666666,
                            "#ed7953"
                          ],
                          [
                            0.7777777777777778,
                            "#fb9f3a"
                          ],
                          [
                            0.8888888888888888,
                            "#fdca26"
                          ],
                          [
                            1,
                            "#f0f921"
                          ]
                        ],
                        "type": "histogram2d"
                      }
                    ],
                    "histogram2dcontour": [
                      {
                        "colorbar": {
                          "outlinewidth": 0,
                          "ticks": ""
                        },
                        "colorscale": [
                          [
                            0,
                            "#0d0887"
                          ],
                          [
                            0.1111111111111111,
                            "#46039f"
                          ],
                          [
                            0.2222222222222222,
                            "#7201a8"
                          ],
                          [
                            0.3333333333333333,
                            "#9c179e"
                          ],
                          [
                            0.4444444444444444,
                            "#bd3786"
                          ],
                          [
                            0.5555555555555556,
                            "#d8576b"
                          ],
                          [
                            0.6666666666666666,
                            "#ed7953"
                          ],
                          [
                            0.7777777777777778,
                            "#fb9f3a"
                          ],
                          [
                            0.8888888888888888,
                            "#fdca26"
                          ],
                          [
                            1,
                            "#f0f921"
                          ]
                        ],
                        "type": "histogram2dcontour"
                      }
                    ],
                    "mesh3d": [
                      {
                        "colorbar": {
                          "outlinewidth": 0,
                          "ticks": ""
                        },
                        "type": "mesh3d"
                      }
                    ],
                    "parcoords": [
                      {
                        "line": {
                          "colorbar": {
                            "outlinewidth": 0,
                            "ticks": ""
                          }
                        },
                        "type": "parcoords"
                      }
                    ],
                    "pie": [
                      {
                        "automargin": true,
                        "type": "pie"
                      }
                    ],
                    "scatter": [
                      {
                        "fillpattern": {
                          "fillmode": "overlay",
                          "size": 10,
                          "solidity": 0.2
                        },
                        "type": "scatter"
                      }
                    ],
                    "scatter3d": [
                      {
                        "line": {
                          "colorbar": {
                            "outlinewidth": 0,
                            "ticks": ""
                          }
                        },
                        "marker": {
                          "colorbar": {
                            "outlinewidth": 0,
                            "ticks": ""
                          }
                        },
                        "type": "scatter3d"
                      }
                    ],
                    "scattercarpet": [
                      {
                        "marker": {
                          "colorbar": {
                            "outlinewidth": 0,
                            "ticks": ""
                          }
                        },
                        "type": "scattercarpet"
                      }
                    ],
                    "scattergeo": [
                      {
                        "marker": {
                          "colorbar": {
                            "outlinewidth": 0,
                            "ticks": ""
                          }
                        },
                        "type": "scattergeo"
                      }
                    ],
                    "scattergl": [
                      {
                        "marker": {
                          "colorbar": {
                            "outlinewidth": 0,
                            "ticks": ""
                          }
                        },
                        "type": "scattergl"
                      }
                    ],
                    "scattermapbox": [
                      {
                        "marker": {
                          "colorbar": {
                            "outlinewidth": 0,
                            "ticks": ""
                          }
                        },
                        "type": "scattermapbox"
                      }
                    ],
                    "scatterpolar": [
                      {
                        "marker": {
                          "colorbar": {
                            "outlinewidth": 0,
                            "ticks": ""
                          }
                        },
                        "type": "scatterpolar"
                      }
                    ],
                    "scatterpolargl": [
                      {
                        "marker": {
                          "colorbar": {
                            "outlinewidth": 0,
                            "ticks": ""
                          }
                        },
                        "type": "scatterpolargl"
                      }
                    ],
                    "scatterternary": [
                      {
                        "marker": {
                          "colorbar": {
                            "outlinewidth": 0,
                            "ticks": ""
                          }
                        },
                        "type": "scatterternary"
                      }
                    ],
                    "surface": [
                      {
                        "colorbar": {
                          "outlinewidth": 0,
                          "ticks": ""
                        },
                        "colorscale": [
                          [
                            0,
                            "#0d0887"
                          ],
                          [
                            0.1111111111111111,
                            "#46039f"
                          ],
                          [
                            0.2222222222222222,
                            "#7201a8"
                          ],
                          [
                            0.3333333333333333,
                            "#9c179e"
                          ],
                          [
                            0.4444444444444444,
                            "#bd3786"
                          ],
                          [
                            0.5555555555555556,
                            "#d8576b"
                          ],
                          [
                            0.6666666666666666,
                            "#ed7953"
                          ],
                          [
                            0.7777777777777778,
                            "#fb9f3a"
                          ],
                          [
                            0.8888888888888888,
                            "#fdca26"
                          ],
                          [
                            1,
                            "#f0f921"
                          ]
                        ],
                        "type": "surface"
                      }
                    ],
                    "table": [
                      {
                        "cells": {
                          "fill": {
                            "color": "#EBF0F8"
                          },
                          "line": {
                            "color": "white"
                          }
                        },
                        "header": {
                          "fill": {
                            "color": "#C8D4E3"
                          },
                          "line": {
                            "color": "white"
                          }
                        },
                        "type": "table"
                      }
                    ]
                  },
                  "layout": {
                    "annotationdefaults": {
                      "arrowcolor": "#2a3f5f",
                      "arrowhead": 0,
                      "arrowwidth": 1
                    },
                    "autotypenumbers": "strict",
                    "coloraxis": {
                      "colorbar": {
                        "outlinewidth": 0,
                        "ticks": ""
                      }
                    },
                    "colorscale": {
                      "diverging": [
                        [
                          0,
                          "#8e0152"
                        ],
                        [
                          0.1,
                          "#c51b7d"
                        ],
                        [
                          0.2,
                          "#de77ae"
                        ],
                        [
                          0.3,
                          "#f1b6da"
                        ],
                        [
                          0.4,
                          "#fde0ef"
                        ],
                        [
                          0.5,
                          "#f7f7f7"
                        ],
                        [
                          0.6,
                          "#e6f5d0"
                        ],
                        [
                          0.7,
                          "#b8e186"
                        ],
                        [
                          0.8,
                          "#7fbc41"
                        ],
                        [
                          0.9,
                          "#4d9221"
                        ],
                        [
                          1,
                          "#276419"
                        ]
                      ],
                      "sequential": [
                        [
                          0,
                          "#0d0887"
                        ],
                        [
                          0.1111111111111111,
                          "#46039f"
                        ],
                        [
                          0.2222222222222222,
                          "#7201a8"
                        ],
                        [
                          0.3333333333333333,
                          "#9c179e"
                        ],
                        [
                          0.4444444444444444,
                          "#bd3786"
                        ],
                        [
                          0.5555555555555556,
                          "#d8576b"
                        ],
                        [
                          0.6666666666666666,
                          "#ed7953"
                        ],
                        [
                          0.7777777777777778,
                          "#fb9f3a"
                        ],
                        [
                          0.8888888888888888,
                          "#fdca26"
                        ],
                        [
                          1,
                          "#f0f921"
                        ]
                      ],
                      "sequentialminus": [
                        [
                          0,
                          "#0d0887"
                        ],
                        [
                          0.1111111111111111,
                          "#46039f"
                        ],
                        [
                          0.2222222222222222,
                          "#7201a8"
                        ],
                        [
                          0.3333333333333333,
                          "#9c179e"
                        ],
                        [
                          0.4444444444444444,
                          "#bd3786"
                        ],
                        [
                          0.5555555555555556,
                          "#d8576b"
                        ],
                        [
                          0.6666666666666666,
                          "#ed7953"
                        ],
                        [
                          0.7777777777777778,
                          "#fb9f3a"
                        ],
                        [
                          0.8888888888888888,
                          "#fdca26"
                        ],
                        [
                          1,
                          "#f0f921"
                        ]
                      ]
                    },
                    "colorway": [
                      "#636efa",
                      "#EF553B",
                      "#00cc96",
                      "#ab63fa",
                      "#FFA15A",
                      "#19d3f3",
                      "#FF6692",
                      "#B6E880",
                      "#FF97FF",
                      "#FECB52"
                    ],
                    "font": {
                      "color": "#2a3f5f"
                    },
                    "geo": {
                      "bgcolor": "white",
                      "lakecolor": "white",
                      "landcolor": "#E5ECF6",
                      "showlakes": true,
                      "showland": true,
                      "subunitcolor": "white"
                    },
                    "hoverlabel": {
                      "align": "left"
                    },
                    "hovermode": "closest",
                    "mapbox": {
                      "style": "light"
                    },
                    "paper_bgcolor": "white",
                    "plot_bgcolor": "#E5ECF6",
                    "polar": {
                      "angularaxis": {
                        "gridcolor": "white",
                        "linecolor": "white",
                        "ticks": ""
                      },
                      "bgcolor": "#E5ECF6",
                      "radialaxis": {
                        "gridcolor": "white",
                        "linecolor": "white",
                        "ticks": ""
                      }
                    },
                    "scene": {
                      "xaxis": {
                        "backgroundcolor": "#E5ECF6",
                        "gridcolor": "white",
                        "gridwidth": 2,
                        "linecolor": "white",
                        "showbackground": true,
                        "ticks": "",
                        "zerolinecolor": "white"
                      },
                      "yaxis": {
                        "backgroundcolor": "#E5ECF6",
                        "gridcolor": "white",
                        "gridwidth": 2,
                        "linecolor": "white",
                        "showbackground": true,
                        "ticks": "",
                        "zerolinecolor": "white"
                      },
                      "zaxis": {
                        "backgroundcolor": "#E5ECF6",
                        "gridcolor": "white",
                        "gridwidth": 2,
                        "linecolor": "white",
                        "showbackground": true,
                        "ticks": "",
                        "zerolinecolor": "white"
                      }
                    },
                    "shapedefaults": {
                      "line": {
                        "color": "#2a3f5f"
                      }
                    },
                    "ternary": {
                      "aaxis": {
                        "gridcolor": "white",
                        "linecolor": "white",
                        "ticks": ""
                      },
                      "baxis": {
                        "gridcolor": "white",
                        "linecolor": "white",
                        "ticks": ""
                      },
                      "bgcolor": "#E5ECF6",
                      "caxis": {
                        "gridcolor": "white",
                        "linecolor": "white",
                        "ticks": ""
                      }
                    },
                    "title": {
                      "x": 0.05
                    },
                    "xaxis": {
                      "automargin": true,
                      "gridcolor": "white",
                      "linecolor": "white",
                      "ticks": "",
                      "title": {
                        "standoff": 15
                      },
                      "zerolinecolor": "white",
                      "zerolinewidth": 2
                    },
                    "yaxis": {
                      "automargin": true,
                      "gridcolor": "white",
                      "linecolor": "white",
                      "ticks": "",
                      "title": {
                        "standoff": 15
                      },
                      "zerolinecolor": "white",
                      "zerolinewidth": 2
                    }
                  }
                }
              }
            }
          },
          "metadata": {},
          "output_type": "display_data"
        }
      ],
      "source": [
        "fig = go.Figure(data=go.Choropleth(locations=launches_by_country[\"ISO\"],\n",
        "                                   z=launches_by_country[\"Mission_Status\"],\n",
        "                                   text=launches_by_country[\"Country\"],\n",
        "                                   colorscale=\"matter\",\n",
        "                                   colorbar_title = \"Number of Missions\"))\n",
        "\n",
        "fig.show()"
      ]
    },
    {
      "cell_type": "markdown",
      "metadata": {
        "id": "F3pwYSUlo_AK"
      },
      "source": [
        "# Use a Choropleth Map to Show the Number of Failures by Country\n"
      ]
    },
    {
      "cell_type": "code",
      "execution_count": 25,
      "metadata": {
        "id": "8BH4ICtro9I0"
      },
      "outputs": [
        {
          "data": {
            "text/html": [
              "<div>\n",
              "<style scoped>\n",
              "    .dataframe tbody tr th:only-of-type {\n",
              "        vertical-align: middle;\n",
              "    }\n",
              "\n",
              "    .dataframe tbody tr th {\n",
              "        vertical-align: top;\n",
              "    }\n",
              "\n",
              "    .dataframe thead th {\n",
              "        text-align: right;\n",
              "    }\n",
              "</style>\n",
              "<table border=\"1\" class=\"dataframe\">\n",
              "  <thead>\n",
              "    <tr style=\"text-align: right;\">\n",
              "      <th></th>\n",
              "      <th>Country</th>\n",
              "      <th>ISO</th>\n",
              "      <th>Mission_Status</th>\n",
              "    </tr>\n",
              "  </thead>\n",
              "  <tbody>\n",
              "    <tr>\n",
              "      <th>13</th>\n",
              "      <td>USA</td>\n",
              "      <td>USA</td>\n",
              "      <td>129</td>\n",
              "    </tr>\n",
              "    <tr>\n",
              "      <th>8</th>\n",
              "      <td>Kazakhstan</td>\n",
              "      <td>KAZ</td>\n",
              "      <td>72</td>\n",
              "    </tr>\n",
              "    <tr>\n",
              "      <th>11</th>\n",
              "      <td>Russia</td>\n",
              "      <td>RUS</td>\n",
              "      <td>63</td>\n",
              "    </tr>\n",
              "    <tr>\n",
              "      <th>2</th>\n",
              "      <td>China</td>\n",
              "      <td>CHN</td>\n",
              "      <td>19</td>\n",
              "    </tr>\n",
              "    <tr>\n",
              "      <th>3</th>\n",
              "      <td>France</td>\n",
              "      <td>FRA</td>\n",
              "      <td>13</td>\n",
              "    </tr>\n",
              "    <tr>\n",
              "      <th>7</th>\n",
              "      <td>Japan</td>\n",
              "      <td>JPN</td>\n",
              "      <td>10</td>\n",
              "    </tr>\n",
              "    <tr>\n",
              "      <th>4</th>\n",
              "      <td>India</td>\n",
              "      <td>IND</td>\n",
              "      <td>8</td>\n",
              "    </tr>\n",
              "    <tr>\n",
              "      <th>5</th>\n",
              "      <td>Iran</td>\n",
              "      <td>IRN</td>\n",
              "      <td>8</td>\n",
              "    </tr>\n",
              "    <tr>\n",
              "      <th>0</th>\n",
              "      <td>Australia</td>\n",
              "      <td>AUS</td>\n",
              "      <td>3</td>\n",
              "    </tr>\n",
              "    <tr>\n",
              "      <th>10</th>\n",
              "      <td>North Korea</td>\n",
              "      <td>PRK</td>\n",
              "      <td>3</td>\n",
              "    </tr>\n",
              "    <tr>\n",
              "      <th>1</th>\n",
              "      <td>Brazil</td>\n",
              "      <td>BRA</td>\n",
              "      <td>2</td>\n",
              "    </tr>\n",
              "    <tr>\n",
              "      <th>6</th>\n",
              "      <td>Israel</td>\n",
              "      <td>ISR</td>\n",
              "      <td>2</td>\n",
              "    </tr>\n",
              "    <tr>\n",
              "      <th>9</th>\n",
              "      <td>New Zealand</td>\n",
              "      <td>NZL</td>\n",
              "      <td>2</td>\n",
              "    </tr>\n",
              "    <tr>\n",
              "      <th>12</th>\n",
              "      <td>South Korea</td>\n",
              "      <td>KOR</td>\n",
              "      <td>2</td>\n",
              "    </tr>\n",
              "  </tbody>\n",
              "</table>\n",
              "</div>"
            ],
            "text/plain": [
              "        Country  ISO  Mission_Status\n",
              "13          USA  USA             129\n",
              "8    Kazakhstan  KAZ              72\n",
              "11       Russia  RUS              63\n",
              "2         China  CHN              19\n",
              "3        France  FRA              13\n",
              "7         Japan  JPN              10\n",
              "4         India  IND               8\n",
              "5          Iran  IRN               8\n",
              "0     Australia  AUS               3\n",
              "10  North Korea  PRK               3\n",
              "1        Brazil  BRA               2\n",
              "6        Israel  ISR               2\n",
              "9   New Zealand  NZL               2\n",
              "12  South Korea  KOR               2"
            ]
          },
          "execution_count": 25,
          "metadata": {},
          "output_type": "execute_result"
        }
      ],
      "source": [
        "failures_by_country = df_data[df_data[\"Mission_Status\"] == \"Failure\"]\n",
        "\n",
        "failures_by_country = failures_by_country.groupby([\"Country\", \"ISO\"], as_index=False).agg({\"Mission_Status\": pd.Series.count})\n",
        "failures_by_country.sort_values(\"Mission_Status\", ascending=False)"
      ]
    },
    {
      "cell_type": "code",
      "execution_count": 26,
      "metadata": {
        "id": "sfw-q7Obo9GM"
      },
      "outputs": [
        {
          "data": {
            "application/vnd.plotly.v1+json": {
              "config": {
                "plotlyServerURL": "https://plot.ly"
              },
              "data": [
                {
                  "colorbar": {
                    "title": {
                      "text": "Number of Failures"
                    }
                  },
                  "colorscale": [
                    [
                      0,
                      "rgb(253, 237, 176)"
                    ],
                    [
                      0.09090909090909091,
                      "rgb(250, 205, 145)"
                    ],
                    [
                      0.18181818181818182,
                      "rgb(246, 173, 119)"
                    ],
                    [
                      0.2727272727272727,
                      "rgb(240, 142, 98)"
                    ],
                    [
                      0.36363636363636365,
                      "rgb(231, 109, 84)"
                    ],
                    [
                      0.45454545454545453,
                      "rgb(216, 80, 83)"
                    ],
                    [
                      0.5454545454545454,
                      "rgb(195, 56, 90)"
                    ],
                    [
                      0.6363636363636364,
                      "rgb(168, 40, 96)"
                    ],
                    [
                      0.7272727272727273,
                      "rgb(138, 29, 99)"
                    ],
                    [
                      0.8181818181818182,
                      "rgb(107, 24, 93)"
                    ],
                    [
                      0.9090909090909091,
                      "rgb(76, 21, 80)"
                    ],
                    [
                      1,
                      "rgb(47, 15, 61)"
                    ]
                  ],
                  "locations": [
                    "AUS",
                    "BRA",
                    "CHN",
                    "FRA",
                    "IND",
                    "IRN",
                    "ISR",
                    "JPN",
                    "KAZ",
                    "NZL",
                    "PRK",
                    "RUS",
                    "KOR",
                    "USA"
                  ],
                  "text": [
                    "Australia",
                    "Brazil",
                    "China",
                    "France",
                    "India",
                    "Iran",
                    "Israel",
                    "Japan",
                    "Kazakhstan",
                    "New Zealand",
                    "North Korea",
                    "Russia",
                    "South Korea",
                    "USA"
                  ],
                  "type": "choropleth",
                  "z": [
                    3,
                    2,
                    19,
                    13,
                    8,
                    8,
                    2,
                    10,
                    72,
                    2,
                    3,
                    63,
                    2,
                    129
                  ]
                }
              ],
              "layout": {
                "template": {
                  "data": {
                    "bar": [
                      {
                        "error_x": {
                          "color": "#2a3f5f"
                        },
                        "error_y": {
                          "color": "#2a3f5f"
                        },
                        "marker": {
                          "line": {
                            "color": "#E5ECF6",
                            "width": 0.5
                          },
                          "pattern": {
                            "fillmode": "overlay",
                            "size": 10,
                            "solidity": 0.2
                          }
                        },
                        "type": "bar"
                      }
                    ],
                    "barpolar": [
                      {
                        "marker": {
                          "line": {
                            "color": "#E5ECF6",
                            "width": 0.5
                          },
                          "pattern": {
                            "fillmode": "overlay",
                            "size": 10,
                            "solidity": 0.2
                          }
                        },
                        "type": "barpolar"
                      }
                    ],
                    "carpet": [
                      {
                        "aaxis": {
                          "endlinecolor": "#2a3f5f",
                          "gridcolor": "white",
                          "linecolor": "white",
                          "minorgridcolor": "white",
                          "startlinecolor": "#2a3f5f"
                        },
                        "baxis": {
                          "endlinecolor": "#2a3f5f",
                          "gridcolor": "white",
                          "linecolor": "white",
                          "minorgridcolor": "white",
                          "startlinecolor": "#2a3f5f"
                        },
                        "type": "carpet"
                      }
                    ],
                    "choropleth": [
                      {
                        "colorbar": {
                          "outlinewidth": 0,
                          "ticks": ""
                        },
                        "type": "choropleth"
                      }
                    ],
                    "contour": [
                      {
                        "colorbar": {
                          "outlinewidth": 0,
                          "ticks": ""
                        },
                        "colorscale": [
                          [
                            0,
                            "#0d0887"
                          ],
                          [
                            0.1111111111111111,
                            "#46039f"
                          ],
                          [
                            0.2222222222222222,
                            "#7201a8"
                          ],
                          [
                            0.3333333333333333,
                            "#9c179e"
                          ],
                          [
                            0.4444444444444444,
                            "#bd3786"
                          ],
                          [
                            0.5555555555555556,
                            "#d8576b"
                          ],
                          [
                            0.6666666666666666,
                            "#ed7953"
                          ],
                          [
                            0.7777777777777778,
                            "#fb9f3a"
                          ],
                          [
                            0.8888888888888888,
                            "#fdca26"
                          ],
                          [
                            1,
                            "#f0f921"
                          ]
                        ],
                        "type": "contour"
                      }
                    ],
                    "contourcarpet": [
                      {
                        "colorbar": {
                          "outlinewidth": 0,
                          "ticks": ""
                        },
                        "type": "contourcarpet"
                      }
                    ],
                    "heatmap": [
                      {
                        "colorbar": {
                          "outlinewidth": 0,
                          "ticks": ""
                        },
                        "colorscale": [
                          [
                            0,
                            "#0d0887"
                          ],
                          [
                            0.1111111111111111,
                            "#46039f"
                          ],
                          [
                            0.2222222222222222,
                            "#7201a8"
                          ],
                          [
                            0.3333333333333333,
                            "#9c179e"
                          ],
                          [
                            0.4444444444444444,
                            "#bd3786"
                          ],
                          [
                            0.5555555555555556,
                            "#d8576b"
                          ],
                          [
                            0.6666666666666666,
                            "#ed7953"
                          ],
                          [
                            0.7777777777777778,
                            "#fb9f3a"
                          ],
                          [
                            0.8888888888888888,
                            "#fdca26"
                          ],
                          [
                            1,
                            "#f0f921"
                          ]
                        ],
                        "type": "heatmap"
                      }
                    ],
                    "heatmapgl": [
                      {
                        "colorbar": {
                          "outlinewidth": 0,
                          "ticks": ""
                        },
                        "colorscale": [
                          [
                            0,
                            "#0d0887"
                          ],
                          [
                            0.1111111111111111,
                            "#46039f"
                          ],
                          [
                            0.2222222222222222,
                            "#7201a8"
                          ],
                          [
                            0.3333333333333333,
                            "#9c179e"
                          ],
                          [
                            0.4444444444444444,
                            "#bd3786"
                          ],
                          [
                            0.5555555555555556,
                            "#d8576b"
                          ],
                          [
                            0.6666666666666666,
                            "#ed7953"
                          ],
                          [
                            0.7777777777777778,
                            "#fb9f3a"
                          ],
                          [
                            0.8888888888888888,
                            "#fdca26"
                          ],
                          [
                            1,
                            "#f0f921"
                          ]
                        ],
                        "type": "heatmapgl"
                      }
                    ],
                    "histogram": [
                      {
                        "marker": {
                          "pattern": {
                            "fillmode": "overlay",
                            "size": 10,
                            "solidity": 0.2
                          }
                        },
                        "type": "histogram"
                      }
                    ],
                    "histogram2d": [
                      {
                        "colorbar": {
                          "outlinewidth": 0,
                          "ticks": ""
                        },
                        "colorscale": [
                          [
                            0,
                            "#0d0887"
                          ],
                          [
                            0.1111111111111111,
                            "#46039f"
                          ],
                          [
                            0.2222222222222222,
                            "#7201a8"
                          ],
                          [
                            0.3333333333333333,
                            "#9c179e"
                          ],
                          [
                            0.4444444444444444,
                            "#bd3786"
                          ],
                          [
                            0.5555555555555556,
                            "#d8576b"
                          ],
                          [
                            0.6666666666666666,
                            "#ed7953"
                          ],
                          [
                            0.7777777777777778,
                            "#fb9f3a"
                          ],
                          [
                            0.8888888888888888,
                            "#fdca26"
                          ],
                          [
                            1,
                            "#f0f921"
                          ]
                        ],
                        "type": "histogram2d"
                      }
                    ],
                    "histogram2dcontour": [
                      {
                        "colorbar": {
                          "outlinewidth": 0,
                          "ticks": ""
                        },
                        "colorscale": [
                          [
                            0,
                            "#0d0887"
                          ],
                          [
                            0.1111111111111111,
                            "#46039f"
                          ],
                          [
                            0.2222222222222222,
                            "#7201a8"
                          ],
                          [
                            0.3333333333333333,
                            "#9c179e"
                          ],
                          [
                            0.4444444444444444,
                            "#bd3786"
                          ],
                          [
                            0.5555555555555556,
                            "#d8576b"
                          ],
                          [
                            0.6666666666666666,
                            "#ed7953"
                          ],
                          [
                            0.7777777777777778,
                            "#fb9f3a"
                          ],
                          [
                            0.8888888888888888,
                            "#fdca26"
                          ],
                          [
                            1,
                            "#f0f921"
                          ]
                        ],
                        "type": "histogram2dcontour"
                      }
                    ],
                    "mesh3d": [
                      {
                        "colorbar": {
                          "outlinewidth": 0,
                          "ticks": ""
                        },
                        "type": "mesh3d"
                      }
                    ],
                    "parcoords": [
                      {
                        "line": {
                          "colorbar": {
                            "outlinewidth": 0,
                            "ticks": ""
                          }
                        },
                        "type": "parcoords"
                      }
                    ],
                    "pie": [
                      {
                        "automargin": true,
                        "type": "pie"
                      }
                    ],
                    "scatter": [
                      {
                        "fillpattern": {
                          "fillmode": "overlay",
                          "size": 10,
                          "solidity": 0.2
                        },
                        "type": "scatter"
                      }
                    ],
                    "scatter3d": [
                      {
                        "line": {
                          "colorbar": {
                            "outlinewidth": 0,
                            "ticks": ""
                          }
                        },
                        "marker": {
                          "colorbar": {
                            "outlinewidth": 0,
                            "ticks": ""
                          }
                        },
                        "type": "scatter3d"
                      }
                    ],
                    "scattercarpet": [
                      {
                        "marker": {
                          "colorbar": {
                            "outlinewidth": 0,
                            "ticks": ""
                          }
                        },
                        "type": "scattercarpet"
                      }
                    ],
                    "scattergeo": [
                      {
                        "marker": {
                          "colorbar": {
                            "outlinewidth": 0,
                            "ticks": ""
                          }
                        },
                        "type": "scattergeo"
                      }
                    ],
                    "scattergl": [
                      {
                        "marker": {
                          "colorbar": {
                            "outlinewidth": 0,
                            "ticks": ""
                          }
                        },
                        "type": "scattergl"
                      }
                    ],
                    "scattermapbox": [
                      {
                        "marker": {
                          "colorbar": {
                            "outlinewidth": 0,
                            "ticks": ""
                          }
                        },
                        "type": "scattermapbox"
                      }
                    ],
                    "scatterpolar": [
                      {
                        "marker": {
                          "colorbar": {
                            "outlinewidth": 0,
                            "ticks": ""
                          }
                        },
                        "type": "scatterpolar"
                      }
                    ],
                    "scatterpolargl": [
                      {
                        "marker": {
                          "colorbar": {
                            "outlinewidth": 0,
                            "ticks": ""
                          }
                        },
                        "type": "scatterpolargl"
                      }
                    ],
                    "scatterternary": [
                      {
                        "marker": {
                          "colorbar": {
                            "outlinewidth": 0,
                            "ticks": ""
                          }
                        },
                        "type": "scatterternary"
                      }
                    ],
                    "surface": [
                      {
                        "colorbar": {
                          "outlinewidth": 0,
                          "ticks": ""
                        },
                        "colorscale": [
                          [
                            0,
                            "#0d0887"
                          ],
                          [
                            0.1111111111111111,
                            "#46039f"
                          ],
                          [
                            0.2222222222222222,
                            "#7201a8"
                          ],
                          [
                            0.3333333333333333,
                            "#9c179e"
                          ],
                          [
                            0.4444444444444444,
                            "#bd3786"
                          ],
                          [
                            0.5555555555555556,
                            "#d8576b"
                          ],
                          [
                            0.6666666666666666,
                            "#ed7953"
                          ],
                          [
                            0.7777777777777778,
                            "#fb9f3a"
                          ],
                          [
                            0.8888888888888888,
                            "#fdca26"
                          ],
                          [
                            1,
                            "#f0f921"
                          ]
                        ],
                        "type": "surface"
                      }
                    ],
                    "table": [
                      {
                        "cells": {
                          "fill": {
                            "color": "#EBF0F8"
                          },
                          "line": {
                            "color": "white"
                          }
                        },
                        "header": {
                          "fill": {
                            "color": "#C8D4E3"
                          },
                          "line": {
                            "color": "white"
                          }
                        },
                        "type": "table"
                      }
                    ]
                  },
                  "layout": {
                    "annotationdefaults": {
                      "arrowcolor": "#2a3f5f",
                      "arrowhead": 0,
                      "arrowwidth": 1
                    },
                    "autotypenumbers": "strict",
                    "coloraxis": {
                      "colorbar": {
                        "outlinewidth": 0,
                        "ticks": ""
                      }
                    },
                    "colorscale": {
                      "diverging": [
                        [
                          0,
                          "#8e0152"
                        ],
                        [
                          0.1,
                          "#c51b7d"
                        ],
                        [
                          0.2,
                          "#de77ae"
                        ],
                        [
                          0.3,
                          "#f1b6da"
                        ],
                        [
                          0.4,
                          "#fde0ef"
                        ],
                        [
                          0.5,
                          "#f7f7f7"
                        ],
                        [
                          0.6,
                          "#e6f5d0"
                        ],
                        [
                          0.7,
                          "#b8e186"
                        ],
                        [
                          0.8,
                          "#7fbc41"
                        ],
                        [
                          0.9,
                          "#4d9221"
                        ],
                        [
                          1,
                          "#276419"
                        ]
                      ],
                      "sequential": [
                        [
                          0,
                          "#0d0887"
                        ],
                        [
                          0.1111111111111111,
                          "#46039f"
                        ],
                        [
                          0.2222222222222222,
                          "#7201a8"
                        ],
                        [
                          0.3333333333333333,
                          "#9c179e"
                        ],
                        [
                          0.4444444444444444,
                          "#bd3786"
                        ],
                        [
                          0.5555555555555556,
                          "#d8576b"
                        ],
                        [
                          0.6666666666666666,
                          "#ed7953"
                        ],
                        [
                          0.7777777777777778,
                          "#fb9f3a"
                        ],
                        [
                          0.8888888888888888,
                          "#fdca26"
                        ],
                        [
                          1,
                          "#f0f921"
                        ]
                      ],
                      "sequentialminus": [
                        [
                          0,
                          "#0d0887"
                        ],
                        [
                          0.1111111111111111,
                          "#46039f"
                        ],
                        [
                          0.2222222222222222,
                          "#7201a8"
                        ],
                        [
                          0.3333333333333333,
                          "#9c179e"
                        ],
                        [
                          0.4444444444444444,
                          "#bd3786"
                        ],
                        [
                          0.5555555555555556,
                          "#d8576b"
                        ],
                        [
                          0.6666666666666666,
                          "#ed7953"
                        ],
                        [
                          0.7777777777777778,
                          "#fb9f3a"
                        ],
                        [
                          0.8888888888888888,
                          "#fdca26"
                        ],
                        [
                          1,
                          "#f0f921"
                        ]
                      ]
                    },
                    "colorway": [
                      "#636efa",
                      "#EF553B",
                      "#00cc96",
                      "#ab63fa",
                      "#FFA15A",
                      "#19d3f3",
                      "#FF6692",
                      "#B6E880",
                      "#FF97FF",
                      "#FECB52"
                    ],
                    "font": {
                      "color": "#2a3f5f"
                    },
                    "geo": {
                      "bgcolor": "white",
                      "lakecolor": "white",
                      "landcolor": "#E5ECF6",
                      "showlakes": true,
                      "showland": true,
                      "subunitcolor": "white"
                    },
                    "hoverlabel": {
                      "align": "left"
                    },
                    "hovermode": "closest",
                    "mapbox": {
                      "style": "light"
                    },
                    "paper_bgcolor": "white",
                    "plot_bgcolor": "#E5ECF6",
                    "polar": {
                      "angularaxis": {
                        "gridcolor": "white",
                        "linecolor": "white",
                        "ticks": ""
                      },
                      "bgcolor": "#E5ECF6",
                      "radialaxis": {
                        "gridcolor": "white",
                        "linecolor": "white",
                        "ticks": ""
                      }
                    },
                    "scene": {
                      "xaxis": {
                        "backgroundcolor": "#E5ECF6",
                        "gridcolor": "white",
                        "gridwidth": 2,
                        "linecolor": "white",
                        "showbackground": true,
                        "ticks": "",
                        "zerolinecolor": "white"
                      },
                      "yaxis": {
                        "backgroundcolor": "#E5ECF6",
                        "gridcolor": "white",
                        "gridwidth": 2,
                        "linecolor": "white",
                        "showbackground": true,
                        "ticks": "",
                        "zerolinecolor": "white"
                      },
                      "zaxis": {
                        "backgroundcolor": "#E5ECF6",
                        "gridcolor": "white",
                        "gridwidth": 2,
                        "linecolor": "white",
                        "showbackground": true,
                        "ticks": "",
                        "zerolinecolor": "white"
                      }
                    },
                    "shapedefaults": {
                      "line": {
                        "color": "#2a3f5f"
                      }
                    },
                    "ternary": {
                      "aaxis": {
                        "gridcolor": "white",
                        "linecolor": "white",
                        "ticks": ""
                      },
                      "baxis": {
                        "gridcolor": "white",
                        "linecolor": "white",
                        "ticks": ""
                      },
                      "bgcolor": "#E5ECF6",
                      "caxis": {
                        "gridcolor": "white",
                        "linecolor": "white",
                        "ticks": ""
                      }
                    },
                    "title": {
                      "x": 0.05
                    },
                    "xaxis": {
                      "automargin": true,
                      "gridcolor": "white",
                      "linecolor": "white",
                      "ticks": "",
                      "title": {
                        "standoff": 15
                      },
                      "zerolinecolor": "white",
                      "zerolinewidth": 2
                    },
                    "yaxis": {
                      "automargin": true,
                      "gridcolor": "white",
                      "linecolor": "white",
                      "ticks": "",
                      "title": {
                        "standoff": 15
                      },
                      "zerolinecolor": "white",
                      "zerolinewidth": 2
                    }
                  }
                }
              }
            }
          },
          "metadata": {},
          "output_type": "display_data"
        }
      ],
      "source": [
        "fig = go.Figure(data=go.Choropleth(locations=failures_by_country[\"ISO\"],\n",
        "                                   z=failures_by_country[\"Mission_Status\"],\n",
        "                                   text=failures_by_country[\"Country\"],\n",
        "                                   colorscale=\"matter\",\n",
        "                                   colorbar_title = \"Number of Failures\"))\n",
        "\n",
        "fig.show()"
      ]
    },
    {
      "cell_type": "markdown",
      "metadata": {
        "id": "9LqcqSrKa-qN",
        "papermill": {
          "duration": 0.039343,
          "end_time": "2020-10-20T21:34:06.591694",
          "exception": false,
          "start_time": "2020-10-20T21:34:06.552351",
          "status": "completed"
        },
        "tags": []
      },
      "source": [
        "# Create a Plotly Sunburst Chart of the countries, organisations, and mission status. "
      ]
    },
    {
      "cell_type": "code",
      "execution_count": 38,
      "metadata": {
        "id": "MwUfpoByo3_J"
      },
      "outputs": [
        {
          "data": {
            "text/html": [
              "<div>\n",
              "<style scoped>\n",
              "    .dataframe tbody tr th:only-of-type {\n",
              "        vertical-align: middle;\n",
              "    }\n",
              "\n",
              "    .dataframe tbody tr th {\n",
              "        vertical-align: top;\n",
              "    }\n",
              "\n",
              "    .dataframe thead th {\n",
              "        text-align: right;\n",
              "    }\n",
              "</style>\n",
              "<table border=\"1\" class=\"dataframe\">\n",
              "  <thead>\n",
              "    <tr style=\"text-align: right;\">\n",
              "      <th></th>\n",
              "      <th>Country</th>\n",
              "      <th>Organisation</th>\n",
              "      <th>Mission_Status</th>\n",
              "      <th>Rocket_Status</th>\n",
              "    </tr>\n",
              "  </thead>\n",
              "  <tbody>\n",
              "    <tr>\n",
              "      <th>131</th>\n",
              "      <td>USA</td>\n",
              "      <td>Virgin Orbit</td>\n",
              "      <td>Failure</td>\n",
              "      <td>1</td>\n",
              "    </tr>\n",
              "    <tr>\n",
              "      <th>35</th>\n",
              "      <td>Israel</td>\n",
              "      <td>IAI</td>\n",
              "      <td>Failure</td>\n",
              "      <td>2</td>\n",
              "    </tr>\n",
              "    <tr>\n",
              "      <th>37</th>\n",
              "      <td>Japan</td>\n",
              "      <td>ISAS</td>\n",
              "      <td>Failure</td>\n",
              "      <td>3</td>\n",
              "    </tr>\n",
              "    <tr>\n",
              "      <th>115</th>\n",
              "      <td>USA</td>\n",
              "      <td>Northrop</td>\n",
              "      <td>Failure</td>\n",
              "      <td>7</td>\n",
              "    </tr>\n",
              "    <tr>\n",
              "      <th>40</th>\n",
              "      <td>Japan</td>\n",
              "      <td>JAXA</td>\n",
              "      <td>Failure</td>\n",
              "      <td>1</td>\n",
              "    </tr>\n",
              "    <tr>\n",
              "      <th>...</th>\n",
              "      <td>...</td>\n",
              "      <td>...</td>\n",
              "      <td>...</td>\n",
              "      <td>...</td>\n",
              "    </tr>\n",
              "    <tr>\n",
              "      <th>58</th>\n",
              "      <td>Kazakhstan</td>\n",
              "      <td>RVSN USSR</td>\n",
              "      <td>Success</td>\n",
              "      <td>495</td>\n",
              "    </tr>\n",
              "    <tr>\n",
              "      <th>54</th>\n",
              "      <td>Kazakhstan</td>\n",
              "      <td>OKB-586</td>\n",
              "      <td>Success</td>\n",
              "      <td>2</td>\n",
              "    </tr>\n",
              "    <tr>\n",
              "      <th>53</th>\n",
              "      <td>Kazakhstan</td>\n",
              "      <td>Land Launch</td>\n",
              "      <td>Success</td>\n",
              "      <td>6</td>\n",
              "    </tr>\n",
              "    <tr>\n",
              "      <th>68</th>\n",
              "      <td>New Zealand</td>\n",
              "      <td>Rocket Lab</td>\n",
              "      <td>Success</td>\n",
              "      <td>11</td>\n",
              "    </tr>\n",
              "    <tr>\n",
              "      <th>65</th>\n",
              "      <td>Kazakhstan</td>\n",
              "      <td>Yuzhmash</td>\n",
              "      <td>Success</td>\n",
              "      <td>1</td>\n",
              "    </tr>\n",
              "  </tbody>\n",
              "</table>\n",
              "<p>132 rows × 4 columns</p>\n",
              "</div>"
            ],
            "text/plain": [
              "         Country  Organisation Mission_Status  Rocket_Status\n",
              "131          USA  Virgin Orbit        Failure              1\n",
              "35        Israel           IAI        Failure              2\n",
              "37         Japan          ISAS        Failure              3\n",
              "115          USA      Northrop        Failure              7\n",
              "40         Japan          JAXA        Failure              1\n",
              "..           ...           ...            ...            ...\n",
              "58    Kazakhstan     RVSN USSR        Success            495\n",
              "54    Kazakhstan       OKB-586        Success              2\n",
              "53    Kazakhstan   Land Launch        Success              6\n",
              "68   New Zealand    Rocket Lab        Success             11\n",
              "65    Kazakhstan      Yuzhmash        Success              1\n",
              "\n",
              "[132 rows x 4 columns]"
            ]
          },
          "execution_count": 38,
          "metadata": {},
          "output_type": "execute_result"
        }
      ],
      "source": [
        "# I'm using \"Rocket_Status\" purely as a placeholder so I can get a count on each organisation's Mission Status\n",
        "\n",
        "country_org_mission = df_data.groupby([\"Country\", \"Organisation\", \"Mission_Status\"], as_index=False).agg({\"Rocket_Status\": pd.Series.count})\n",
        "country_org_mission.sort_values(\"Mission_Status\", inplace=True)\n",
        "country_org_mission"
      ]
    },
    {
      "cell_type": "code",
      "execution_count": 40,
      "metadata": {
        "id": "-ZwZkx1ro4X9"
      },
      "outputs": [
        {
          "data": {
            "application/vnd.plotly.v1+json": {
              "config": {
                "plotlyServerURL": "https://plot.ly"
              },
              "data": [
                {
                  "branchvalues": "total",
                  "domain": {
                    "x": [
                      0,
                      1
                    ],
                    "y": [
                      0,
                      1
                    ]
                  },
                  "hovertemplate": "labels=%{label}<br>Rocket_Status=%{value}<br>parent=%{parent}<br>id=%{id}<extra></extra>",
                  "ids": [
                    "Brazil/AEB/Failure",
                    "USA/AMBA/Failure",
                    "France/Arianespace/Failure",
                    "USA/Boeing/Failure",
                    "China/CASC/Failure",
                    "China/CASIC/Failure",
                    "Australia/CECLES/Failure",
                    "France/CECLES/Failure",
                    "France/CNES/Failure",
                    "USA/EER/Failure",
                    "France/ESA/Failure",
                    "Russia/Eurockot/Failure",
                    "China/ExPace/Failure",
                    "USA/Exos/Failure",
                    "USA/General Dynamics/Failure",
                    "Israel/IAI/Failure",
                    "Iran/ISA/Failure",
                    "Japan/ISAS/Failure",
                    "India/ISRO/Failure",
                    "Japan/JAXA/Failure",
                    "South Korea/KARI/Failure",
                    "North Korea/KCST/Failure",
                    "Kazakhstan/Kosmotras/Failure",
                    "China/Landspace/Failure",
                    "USA/Lockheed/Failure",
                    "Japan/MHI/Failure",
                    "Russia/MITT/Failure",
                    "USA/Martin Marietta/Failure",
                    "USA/NASA/Failure",
                    "USA/Northrop/Failure",
                    "China/OneSpace/Failure",
                    "Australia/RAE/Failure",
                    "Kazakhstan/RVSN USSR/Failure",
                    "Russia/RVSN USSR/Failure",
                    "New Zealand/Rocket Lab/Failure",
                    "Kazakhstan/Roscosmos/Failure",
                    "Russia/Roscosmos/Failure",
                    "Russia/SRC/Failure",
                    "USA/Sandia/Failure",
                    "Pacific Ocean/Sea Launch/Failure",
                    "USA/SpaceX/Failure",
                    "USA/US Air Force/Failure",
                    "USA/US Navy/Failure",
                    "Japan/UT/Failure",
                    "Kazakhstan/VKS RF/Failure",
                    "Russia/VKS RF/Failure",
                    "USA/Virgin Orbit/Failure",
                    "USA/AMBA/Partial Failure",
                    "France/Arianespace/Partial Failure",
                    "France/Arm??e de l'Air/Partial Failure",
                    "USA/Boeing/Partial Failure",
                    "China/CASC/Partial Failure",
                    "France/ESA/Partial Failure",
                    "USA/Exos/Partial Failure",
                    "USA/General Dynamics/Partial Failure",
                    "Kazakhstan/ILS/Partial Failure",
                    "Japan/ISAS/Partial Failure",
                    "India/ISRO/Partial Failure",
                    "Kazakhstan/Land Launch/Partial Failure",
                    "Japan/MHI/Partial Failure",
                    "USA/Martin Marietta/Partial Failure",
                    "USA/NASA/Partial Failure",
                    "USA/Northrop/Partial Failure",
                    "Kazakhstan/RVSN USSR/Partial Failure",
                    "Russia/RVSN USSR/Partial Failure",
                    "Kazakhstan/Roscosmos/Partial Failure",
                    "USA/SpaceX/Partial Failure",
                    "USA/ULA/Partial Failure",
                    "USA/US Air Force/Partial Failure",
                    "USA/US Navy/Partial Failure",
                    "Russia/VKS RF/Partial Failure",
                    "Brazil/AEB/Prelaunch Failure",
                    "Iran/ISA/Prelaunch Failure",
                    "Kazakhstan/RVSN USSR/Prelaunch Failure",
                    "USA/SpaceX/Prelaunch Failure",
                    "Australia/AMBA/Success",
                    "USA/AMBA/Success",
                    "Kenya/ASI/Success",
                    "France/Arianespace/Success",
                    "Kazakhstan/Arianespace/Success",
                    "France/Arm??e de l'Air/Success",
                    "USA/Blue Origin/Success",
                    "USA/Boeing/Success",
                    "China/CASC/Success",
                    "China/CASIC/Success",
                    "Australia/CECLES/Success",
                    "France/CNES/Success",
                    "USA/Douglas/Success",
                    "France/ESA/Success",
                    "Russia/Eurockot/Success",
                    "China/ExPace/Success",
                    "USA/General Dynamics/Success",
                    "Israel/IAI/Success",
                    "Kazakhstan/ILS/Success",
                    "USA/ILS/Success",
                    "Iran/IRGC/Success",
                    "Iran/ISA/Success",
                    "Japan/ISAS/Success",
                    "India/ISRO/Success",
                    "Japan/JAXA/Success",
                    "South Korea/KARI/Success",
                    "North Korea/KCST/Success",
                    "Russia/Khrunichev/Success",
                    "Kazakhstan/Kosmotras/Success",
                    "Russia/Kosmotras/Success",
                    "Kazakhstan/Land Launch/Success",
                    "USA/Lockheed/Success",
                    "Japan/MHI/Success",
                    "Russia/MITT/Success",
                    "USA/Martin Marietta/Success",
                    "USA/NASA/Success",
                    "USA/Northrop/Success",
                    "Kazakhstan/OKB-586/Success",
                    "Australia/RAE/Success",
                    "Kazakhstan/RVSN USSR/Success",
                    "Russia/RVSN USSR/Success",
                    "New Zealand/Rocket Lab/Success",
                    "Kazakhstan/Roscosmos/Success",
                    "Russia/Roscosmos/Success",
                    "Russia/SRC/Success",
                    "Pacific Ocean/Sea Launch/Success",
                    "USA/SpaceX/Success",
                    "Kazakhstan/Starsem/Success",
                    "USA/ULA/Success",
                    "USA/US Air Force/Success",
                    "USA/US Navy/Success",
                    "Japan/UT/Success",
                    "Kazakhstan/VKS RF/Success",
                    "Russia/VKS RF/Success",
                    "Kazakhstan/Yuzhmash/Success",
                    "Russia/Yuzhmash/Success",
                    "China/i-Space/Success",
                    "Brazil/AEB",
                    "Australia/AMBA",
                    "USA/AMBA",
                    "Kenya/ASI",
                    "France/Arianespace",
                    "Kazakhstan/Arianespace",
                    "France/Arm??e de l'Air",
                    "USA/Blue Origin",
                    "USA/Boeing",
                    "China/CASC",
                    "China/CASIC",
                    "Australia/CECLES",
                    "France/CECLES",
                    "France/CNES",
                    "USA/Douglas",
                    "USA/EER",
                    "France/ESA",
                    "Russia/Eurockot",
                    "China/ExPace",
                    "USA/Exos",
                    "USA/General Dynamics",
                    "Israel/IAI",
                    "Kazakhstan/ILS",
                    "USA/ILS",
                    "Iran/IRGC",
                    "Iran/ISA",
                    "Japan/ISAS",
                    "India/ISRO",
                    "Japan/JAXA",
                    "South Korea/KARI",
                    "North Korea/KCST",
                    "Russia/Khrunichev",
                    "Kazakhstan/Kosmotras",
                    "Russia/Kosmotras",
                    "Kazakhstan/Land Launch",
                    "China/Landspace",
                    "USA/Lockheed",
                    "Japan/MHI",
                    "Russia/MITT",
                    "USA/Martin Marietta",
                    "USA/NASA",
                    "USA/Northrop",
                    "Kazakhstan/OKB-586",
                    "China/OneSpace",
                    "Australia/RAE",
                    "Kazakhstan/RVSN USSR",
                    "Russia/RVSN USSR",
                    "New Zealand/Rocket Lab",
                    "Kazakhstan/Roscosmos",
                    "Russia/Roscosmos",
                    "Russia/SRC",
                    "USA/Sandia",
                    "Pacific Ocean/Sea Launch",
                    "USA/SpaceX",
                    "Kazakhstan/Starsem",
                    "USA/ULA",
                    "USA/US Air Force",
                    "USA/US Navy",
                    "Japan/UT",
                    "Kazakhstan/VKS RF",
                    "Russia/VKS RF",
                    "USA/Virgin Orbit",
                    "Kazakhstan/Yuzhmash",
                    "Russia/Yuzhmash",
                    "China/i-Space",
                    "Australia",
                    "Brazil",
                    "China",
                    "France",
                    "India",
                    "Iran",
                    "Israel",
                    "Japan",
                    "Kazakhstan",
                    "Kenya",
                    "New Zealand",
                    "North Korea",
                    "Pacific Ocean",
                    "Russia",
                    "South Korea",
                    "USA"
                  ],
                  "labels": [
                    "Failure",
                    "Failure",
                    "Failure",
                    "Failure",
                    "Failure",
                    "Failure",
                    "Failure",
                    "Failure",
                    "Failure",
                    "Failure",
                    "Failure",
                    "Failure",
                    "Failure",
                    "Failure",
                    "Failure",
                    "Failure",
                    "Failure",
                    "Failure",
                    "Failure",
                    "Failure",
                    "Failure",
                    "Failure",
                    "Failure",
                    "Failure",
                    "Failure",
                    "Failure",
                    "Failure",
                    "Failure",
                    "Failure",
                    "Failure",
                    "Failure",
                    "Failure",
                    "Failure",
                    "Failure",
                    "Failure",
                    "Failure",
                    "Failure",
                    "Failure",
                    "Failure",
                    "Failure",
                    "Failure",
                    "Failure",
                    "Failure",
                    "Failure",
                    "Failure",
                    "Failure",
                    "Failure",
                    "Partial Failure",
                    "Partial Failure",
                    "Partial Failure",
                    "Partial Failure",
                    "Partial Failure",
                    "Partial Failure",
                    "Partial Failure",
                    "Partial Failure",
                    "Partial Failure",
                    "Partial Failure",
                    "Partial Failure",
                    "Partial Failure",
                    "Partial Failure",
                    "Partial Failure",
                    "Partial Failure",
                    "Partial Failure",
                    "Partial Failure",
                    "Partial Failure",
                    "Partial Failure",
                    "Partial Failure",
                    "Partial Failure",
                    "Partial Failure",
                    "Partial Failure",
                    "Partial Failure",
                    "Prelaunch Failure",
                    "Prelaunch Failure",
                    "Prelaunch Failure",
                    "Prelaunch Failure",
                    "Success",
                    "Success",
                    "Success",
                    "Success",
                    "Success",
                    "Success",
                    "Success",
                    "Success",
                    "Success",
                    "Success",
                    "Success",
                    "Success",
                    "Success",
                    "Success",
                    "Success",
                    "Success",
                    "Success",
                    "Success",
                    "Success",
                    "Success",
                    "Success",
                    "Success",
                    "Success",
                    "Success",
                    "Success",
                    "Success",
                    "Success",
                    "Success",
                    "Success",
                    "Success",
                    "Success",
                    "Success",
                    "Success",
                    "Success",
                    "Success",
                    "Success",
                    "Success",
                    "Success",
                    "Success",
                    "Success",
                    "Success",
                    "Success",
                    "Success",
                    "Success",
                    "Success",
                    "Success",
                    "Success",
                    "Success",
                    "Success",
                    "Success",
                    "Success",
                    "Success",
                    "Success",
                    "Success",
                    "Success",
                    "Success",
                    "Success",
                    "AEB",
                    "AMBA",
                    "AMBA",
                    "ASI",
                    "Arianespace",
                    "Arianespace",
                    "Arm??e de l'Air",
                    "Blue Origin",
                    "Boeing",
                    "CASC",
                    "CASIC",
                    "CECLES",
                    "CECLES",
                    "CNES",
                    "Douglas",
                    "EER",
                    "ESA",
                    "Eurockot",
                    "ExPace",
                    "Exos",
                    "General Dynamics",
                    "IAI",
                    "ILS",
                    "ILS",
                    "IRGC",
                    "ISA",
                    "ISAS",
                    "ISRO",
                    "JAXA",
                    "KARI",
                    "KCST",
                    "Khrunichev",
                    "Kosmotras",
                    "Kosmotras",
                    "Land Launch",
                    "Landspace",
                    "Lockheed",
                    "MHI",
                    "MITT",
                    "Martin Marietta",
                    "NASA",
                    "Northrop",
                    "OKB-586",
                    "OneSpace",
                    "RAE",
                    "RVSN USSR",
                    "RVSN USSR",
                    "Rocket Lab",
                    "Roscosmos",
                    "Roscosmos",
                    "SRC",
                    "Sandia",
                    "Sea Launch",
                    "SpaceX",
                    "Starsem",
                    "ULA",
                    "US Air Force",
                    "US Navy",
                    "UT",
                    "VKS RF",
                    "VKS RF",
                    "Virgin Orbit",
                    "Yuzhmash",
                    "Yuzhmash",
                    "i-Space",
                    "Australia",
                    "Brazil",
                    "China",
                    "France",
                    "India",
                    "Iran",
                    "Israel",
                    "Japan",
                    "Kazakhstan",
                    "Kenya",
                    "New Zealand",
                    "North Korea",
                    "Pacific Ocean",
                    "Russia",
                    "South Korea",
                    "USA"
                  ],
                  "name": "",
                  "parents": [
                    "Brazil/AEB",
                    "USA/AMBA",
                    "France/Arianespace",
                    "USA/Boeing",
                    "China/CASC",
                    "China/CASIC",
                    "Australia/CECLES",
                    "France/CECLES",
                    "France/CNES",
                    "USA/EER",
                    "France/ESA",
                    "Russia/Eurockot",
                    "China/ExPace",
                    "USA/Exos",
                    "USA/General Dynamics",
                    "Israel/IAI",
                    "Iran/ISA",
                    "Japan/ISAS",
                    "India/ISRO",
                    "Japan/JAXA",
                    "South Korea/KARI",
                    "North Korea/KCST",
                    "Kazakhstan/Kosmotras",
                    "China/Landspace",
                    "USA/Lockheed",
                    "Japan/MHI",
                    "Russia/MITT",
                    "USA/Martin Marietta",
                    "USA/NASA",
                    "USA/Northrop",
                    "China/OneSpace",
                    "Australia/RAE",
                    "Kazakhstan/RVSN USSR",
                    "Russia/RVSN USSR",
                    "New Zealand/Rocket Lab",
                    "Kazakhstan/Roscosmos",
                    "Russia/Roscosmos",
                    "Russia/SRC",
                    "USA/Sandia",
                    "Pacific Ocean/Sea Launch",
                    "USA/SpaceX",
                    "USA/US Air Force",
                    "USA/US Navy",
                    "Japan/UT",
                    "Kazakhstan/VKS RF",
                    "Russia/VKS RF",
                    "USA/Virgin Orbit",
                    "USA/AMBA",
                    "France/Arianespace",
                    "France/Arm??e de l'Air",
                    "USA/Boeing",
                    "China/CASC",
                    "France/ESA",
                    "USA/Exos",
                    "USA/General Dynamics",
                    "Kazakhstan/ILS",
                    "Japan/ISAS",
                    "India/ISRO",
                    "Kazakhstan/Land Launch",
                    "Japan/MHI",
                    "USA/Martin Marietta",
                    "USA/NASA",
                    "USA/Northrop",
                    "Kazakhstan/RVSN USSR",
                    "Russia/RVSN USSR",
                    "Kazakhstan/Roscosmos",
                    "USA/SpaceX",
                    "USA/ULA",
                    "USA/US Air Force",
                    "USA/US Navy",
                    "Russia/VKS RF",
                    "Brazil/AEB",
                    "Iran/ISA",
                    "Kazakhstan/RVSN USSR",
                    "USA/SpaceX",
                    "Australia/AMBA",
                    "USA/AMBA",
                    "Kenya/ASI",
                    "France/Arianespace",
                    "Kazakhstan/Arianespace",
                    "France/Arm??e de l'Air",
                    "USA/Blue Origin",
                    "USA/Boeing",
                    "China/CASC",
                    "China/CASIC",
                    "Australia/CECLES",
                    "France/CNES",
                    "USA/Douglas",
                    "France/ESA",
                    "Russia/Eurockot",
                    "China/ExPace",
                    "USA/General Dynamics",
                    "Israel/IAI",
                    "Kazakhstan/ILS",
                    "USA/ILS",
                    "Iran/IRGC",
                    "Iran/ISA",
                    "Japan/ISAS",
                    "India/ISRO",
                    "Japan/JAXA",
                    "South Korea/KARI",
                    "North Korea/KCST",
                    "Russia/Khrunichev",
                    "Kazakhstan/Kosmotras",
                    "Russia/Kosmotras",
                    "Kazakhstan/Land Launch",
                    "USA/Lockheed",
                    "Japan/MHI",
                    "Russia/MITT",
                    "USA/Martin Marietta",
                    "USA/NASA",
                    "USA/Northrop",
                    "Kazakhstan/OKB-586",
                    "Australia/RAE",
                    "Kazakhstan/RVSN USSR",
                    "Russia/RVSN USSR",
                    "New Zealand/Rocket Lab",
                    "Kazakhstan/Roscosmos",
                    "Russia/Roscosmos",
                    "Russia/SRC",
                    "Pacific Ocean/Sea Launch",
                    "USA/SpaceX",
                    "Kazakhstan/Starsem",
                    "USA/ULA",
                    "USA/US Air Force",
                    "USA/US Navy",
                    "Japan/UT",
                    "Kazakhstan/VKS RF",
                    "Russia/VKS RF",
                    "Kazakhstan/Yuzhmash",
                    "Russia/Yuzhmash",
                    "China/i-Space",
                    "Brazil",
                    "Australia",
                    "USA",
                    "Kenya",
                    "France",
                    "Kazakhstan",
                    "France",
                    "USA",
                    "USA",
                    "China",
                    "China",
                    "Australia",
                    "France",
                    "France",
                    "USA",
                    "USA",
                    "France",
                    "Russia",
                    "China",
                    "USA",
                    "USA",
                    "Israel",
                    "Kazakhstan",
                    "USA",
                    "Iran",
                    "Iran",
                    "Japan",
                    "India",
                    "Japan",
                    "South Korea",
                    "North Korea",
                    "Russia",
                    "Kazakhstan",
                    "Russia",
                    "Kazakhstan",
                    "China",
                    "USA",
                    "Japan",
                    "Russia",
                    "USA",
                    "USA",
                    "USA",
                    "Kazakhstan",
                    "China",
                    "Australia",
                    "Kazakhstan",
                    "Russia",
                    "New Zealand",
                    "Kazakhstan",
                    "Russia",
                    "Russia",
                    "USA",
                    "Pacific Ocean",
                    "USA",
                    "Kazakhstan",
                    "USA",
                    "USA",
                    "USA",
                    "Japan",
                    "Kazakhstan",
                    "Russia",
                    "USA",
                    "Kazakhstan",
                    "Russia",
                    "China",
                    "",
                    "",
                    "",
                    "",
                    "",
                    "",
                    "",
                    "",
                    "",
                    "",
                    "",
                    "",
                    "",
                    "",
                    "",
                    ""
                  ],
                  "type": "sunburst",
                  "values": [
                    2,
                    3,
                    7,
                    3,
                    14,
                    2,
                    2,
                    1,
                    2,
                    1,
                    3,
                    1,
                    1,
                    1,
                    37,
                    2,
                    8,
                    3,
                    8,
                    1,
                    2,
                    3,
                    1,
                    1,
                    5,
                    2,
                    1,
                    11,
                    11,
                    7,
                    1,
                    1,
                    66,
                    55,
                    2,
                    2,
                    1,
                    1,
                    1,
                    3,
                    4,
                    30,
                    14,
                    4,
                    3,
                    4,
                    1,
                    1,
                    3,
                    1,
                    2,
                    6,
                    1,
                    3,
                    11,
                    1,
                    1,
                    5,
                    1,
                    2,
                    3,
                    6,
                    2,
                    17,
                    24,
                    1,
                    1,
                    1,
                    2,
                    1,
                    6,
                    1,
                    1,
                    1,
                    1,
                    1,
                    3,
                    9,
                    267,
                    2,
                    3,
                    12,
                    131,
                    231,
                    3,
                    1,
                    6,
                    1,
                    9,
                    12,
                    9,
                    203,
                    9,
                    5,
                    40,
                    1,
                    4,
                    26,
                    63,
                    6,
                    1,
                    2,
                    1,
                    11,
                    10,
                    6,
                    74,
                    80,
                    6,
                    100,
                    186,
                    74,
                    2,
                    1,
                    495,
                    1119,
                    11,
                    44,
                    7,
                    2,
                    33,
                    94,
                    1,
                    139,
                    129,
                    2,
                    1,
                    41,
                    147,
                    1,
                    1,
                    1,
                    3,
                    1,
                    7,
                    9,
                    277,
                    2,
                    4,
                    12,
                    136,
                    251,
                    5,
                    3,
                    1,
                    8,
                    1,
                    1,
                    13,
                    13,
                    10,
                    4,
                    251,
                    11,
                    6,
                    40,
                    1,
                    13,
                    30,
                    76,
                    7,
                    3,
                    5,
                    1,
                    12,
                    10,
                    7,
                    1,
                    79,
                    84,
                    7,
                    114,
                    203,
                    83,
                    2,
                    1,
                    2,
                    579,
                    1198,
                    13,
                    47,
                    8,
                    3,
                    1,
                    36,
                    100,
                    1,
                    140,
                    161,
                    17,
                    5,
                    44,
                    157,
                    1,
                    1,
                    1,
                    1,
                    6,
                    3,
                    269,
                    303,
                    76,
                    14,
                    11,
                    126,
                    701,
                    9,
                    13,
                    5,
                    36,
                    1398,
                    3,
                    1351
                  ]
                }
              ],
              "layout": {
                "coloraxis": {
                  "showscale": false
                },
                "legend": {
                  "tracegroupgap": 0
                },
                "template": {
                  "data": {
                    "bar": [
                      {
                        "error_x": {
                          "color": "#2a3f5f"
                        },
                        "error_y": {
                          "color": "#2a3f5f"
                        },
                        "marker": {
                          "line": {
                            "color": "#E5ECF6",
                            "width": 0.5
                          },
                          "pattern": {
                            "fillmode": "overlay",
                            "size": 10,
                            "solidity": 0.2
                          }
                        },
                        "type": "bar"
                      }
                    ],
                    "barpolar": [
                      {
                        "marker": {
                          "line": {
                            "color": "#E5ECF6",
                            "width": 0.5
                          },
                          "pattern": {
                            "fillmode": "overlay",
                            "size": 10,
                            "solidity": 0.2
                          }
                        },
                        "type": "barpolar"
                      }
                    ],
                    "carpet": [
                      {
                        "aaxis": {
                          "endlinecolor": "#2a3f5f",
                          "gridcolor": "white",
                          "linecolor": "white",
                          "minorgridcolor": "white",
                          "startlinecolor": "#2a3f5f"
                        },
                        "baxis": {
                          "endlinecolor": "#2a3f5f",
                          "gridcolor": "white",
                          "linecolor": "white",
                          "minorgridcolor": "white",
                          "startlinecolor": "#2a3f5f"
                        },
                        "type": "carpet"
                      }
                    ],
                    "choropleth": [
                      {
                        "colorbar": {
                          "outlinewidth": 0,
                          "ticks": ""
                        },
                        "type": "choropleth"
                      }
                    ],
                    "contour": [
                      {
                        "colorbar": {
                          "outlinewidth": 0,
                          "ticks": ""
                        },
                        "colorscale": [
                          [
                            0,
                            "#0d0887"
                          ],
                          [
                            0.1111111111111111,
                            "#46039f"
                          ],
                          [
                            0.2222222222222222,
                            "#7201a8"
                          ],
                          [
                            0.3333333333333333,
                            "#9c179e"
                          ],
                          [
                            0.4444444444444444,
                            "#bd3786"
                          ],
                          [
                            0.5555555555555556,
                            "#d8576b"
                          ],
                          [
                            0.6666666666666666,
                            "#ed7953"
                          ],
                          [
                            0.7777777777777778,
                            "#fb9f3a"
                          ],
                          [
                            0.8888888888888888,
                            "#fdca26"
                          ],
                          [
                            1,
                            "#f0f921"
                          ]
                        ],
                        "type": "contour"
                      }
                    ],
                    "contourcarpet": [
                      {
                        "colorbar": {
                          "outlinewidth": 0,
                          "ticks": ""
                        },
                        "type": "contourcarpet"
                      }
                    ],
                    "heatmap": [
                      {
                        "colorbar": {
                          "outlinewidth": 0,
                          "ticks": ""
                        },
                        "colorscale": [
                          [
                            0,
                            "#0d0887"
                          ],
                          [
                            0.1111111111111111,
                            "#46039f"
                          ],
                          [
                            0.2222222222222222,
                            "#7201a8"
                          ],
                          [
                            0.3333333333333333,
                            "#9c179e"
                          ],
                          [
                            0.4444444444444444,
                            "#bd3786"
                          ],
                          [
                            0.5555555555555556,
                            "#d8576b"
                          ],
                          [
                            0.6666666666666666,
                            "#ed7953"
                          ],
                          [
                            0.7777777777777778,
                            "#fb9f3a"
                          ],
                          [
                            0.8888888888888888,
                            "#fdca26"
                          ],
                          [
                            1,
                            "#f0f921"
                          ]
                        ],
                        "type": "heatmap"
                      }
                    ],
                    "heatmapgl": [
                      {
                        "colorbar": {
                          "outlinewidth": 0,
                          "ticks": ""
                        },
                        "colorscale": [
                          [
                            0,
                            "#0d0887"
                          ],
                          [
                            0.1111111111111111,
                            "#46039f"
                          ],
                          [
                            0.2222222222222222,
                            "#7201a8"
                          ],
                          [
                            0.3333333333333333,
                            "#9c179e"
                          ],
                          [
                            0.4444444444444444,
                            "#bd3786"
                          ],
                          [
                            0.5555555555555556,
                            "#d8576b"
                          ],
                          [
                            0.6666666666666666,
                            "#ed7953"
                          ],
                          [
                            0.7777777777777778,
                            "#fb9f3a"
                          ],
                          [
                            0.8888888888888888,
                            "#fdca26"
                          ],
                          [
                            1,
                            "#f0f921"
                          ]
                        ],
                        "type": "heatmapgl"
                      }
                    ],
                    "histogram": [
                      {
                        "marker": {
                          "pattern": {
                            "fillmode": "overlay",
                            "size": 10,
                            "solidity": 0.2
                          }
                        },
                        "type": "histogram"
                      }
                    ],
                    "histogram2d": [
                      {
                        "colorbar": {
                          "outlinewidth": 0,
                          "ticks": ""
                        },
                        "colorscale": [
                          [
                            0,
                            "#0d0887"
                          ],
                          [
                            0.1111111111111111,
                            "#46039f"
                          ],
                          [
                            0.2222222222222222,
                            "#7201a8"
                          ],
                          [
                            0.3333333333333333,
                            "#9c179e"
                          ],
                          [
                            0.4444444444444444,
                            "#bd3786"
                          ],
                          [
                            0.5555555555555556,
                            "#d8576b"
                          ],
                          [
                            0.6666666666666666,
                            "#ed7953"
                          ],
                          [
                            0.7777777777777778,
                            "#fb9f3a"
                          ],
                          [
                            0.8888888888888888,
                            "#fdca26"
                          ],
                          [
                            1,
                            "#f0f921"
                          ]
                        ],
                        "type": "histogram2d"
                      }
                    ],
                    "histogram2dcontour": [
                      {
                        "colorbar": {
                          "outlinewidth": 0,
                          "ticks": ""
                        },
                        "colorscale": [
                          [
                            0,
                            "#0d0887"
                          ],
                          [
                            0.1111111111111111,
                            "#46039f"
                          ],
                          [
                            0.2222222222222222,
                            "#7201a8"
                          ],
                          [
                            0.3333333333333333,
                            "#9c179e"
                          ],
                          [
                            0.4444444444444444,
                            "#bd3786"
                          ],
                          [
                            0.5555555555555556,
                            "#d8576b"
                          ],
                          [
                            0.6666666666666666,
                            "#ed7953"
                          ],
                          [
                            0.7777777777777778,
                            "#fb9f3a"
                          ],
                          [
                            0.8888888888888888,
                            "#fdca26"
                          ],
                          [
                            1,
                            "#f0f921"
                          ]
                        ],
                        "type": "histogram2dcontour"
                      }
                    ],
                    "mesh3d": [
                      {
                        "colorbar": {
                          "outlinewidth": 0,
                          "ticks": ""
                        },
                        "type": "mesh3d"
                      }
                    ],
                    "parcoords": [
                      {
                        "line": {
                          "colorbar": {
                            "outlinewidth": 0,
                            "ticks": ""
                          }
                        },
                        "type": "parcoords"
                      }
                    ],
                    "pie": [
                      {
                        "automargin": true,
                        "type": "pie"
                      }
                    ],
                    "scatter": [
                      {
                        "fillpattern": {
                          "fillmode": "overlay",
                          "size": 10,
                          "solidity": 0.2
                        },
                        "type": "scatter"
                      }
                    ],
                    "scatter3d": [
                      {
                        "line": {
                          "colorbar": {
                            "outlinewidth": 0,
                            "ticks": ""
                          }
                        },
                        "marker": {
                          "colorbar": {
                            "outlinewidth": 0,
                            "ticks": ""
                          }
                        },
                        "type": "scatter3d"
                      }
                    ],
                    "scattercarpet": [
                      {
                        "marker": {
                          "colorbar": {
                            "outlinewidth": 0,
                            "ticks": ""
                          }
                        },
                        "type": "scattercarpet"
                      }
                    ],
                    "scattergeo": [
                      {
                        "marker": {
                          "colorbar": {
                            "outlinewidth": 0,
                            "ticks": ""
                          }
                        },
                        "type": "scattergeo"
                      }
                    ],
                    "scattergl": [
                      {
                        "marker": {
                          "colorbar": {
                            "outlinewidth": 0,
                            "ticks": ""
                          }
                        },
                        "type": "scattergl"
                      }
                    ],
                    "scattermapbox": [
                      {
                        "marker": {
                          "colorbar": {
                            "outlinewidth": 0,
                            "ticks": ""
                          }
                        },
                        "type": "scattermapbox"
                      }
                    ],
                    "scatterpolar": [
                      {
                        "marker": {
                          "colorbar": {
                            "outlinewidth": 0,
                            "ticks": ""
                          }
                        },
                        "type": "scatterpolar"
                      }
                    ],
                    "scatterpolargl": [
                      {
                        "marker": {
                          "colorbar": {
                            "outlinewidth": 0,
                            "ticks": ""
                          }
                        },
                        "type": "scatterpolargl"
                      }
                    ],
                    "scatterternary": [
                      {
                        "marker": {
                          "colorbar": {
                            "outlinewidth": 0,
                            "ticks": ""
                          }
                        },
                        "type": "scatterternary"
                      }
                    ],
                    "surface": [
                      {
                        "colorbar": {
                          "outlinewidth": 0,
                          "ticks": ""
                        },
                        "colorscale": [
                          [
                            0,
                            "#0d0887"
                          ],
                          [
                            0.1111111111111111,
                            "#46039f"
                          ],
                          [
                            0.2222222222222222,
                            "#7201a8"
                          ],
                          [
                            0.3333333333333333,
                            "#9c179e"
                          ],
                          [
                            0.4444444444444444,
                            "#bd3786"
                          ],
                          [
                            0.5555555555555556,
                            "#d8576b"
                          ],
                          [
                            0.6666666666666666,
                            "#ed7953"
                          ],
                          [
                            0.7777777777777778,
                            "#fb9f3a"
                          ],
                          [
                            0.8888888888888888,
                            "#fdca26"
                          ],
                          [
                            1,
                            "#f0f921"
                          ]
                        ],
                        "type": "surface"
                      }
                    ],
                    "table": [
                      {
                        "cells": {
                          "fill": {
                            "color": "#EBF0F8"
                          },
                          "line": {
                            "color": "white"
                          }
                        },
                        "header": {
                          "fill": {
                            "color": "#C8D4E3"
                          },
                          "line": {
                            "color": "white"
                          }
                        },
                        "type": "table"
                      }
                    ]
                  },
                  "layout": {
                    "annotationdefaults": {
                      "arrowcolor": "#2a3f5f",
                      "arrowhead": 0,
                      "arrowwidth": 1
                    },
                    "autotypenumbers": "strict",
                    "coloraxis": {
                      "colorbar": {
                        "outlinewidth": 0,
                        "ticks": ""
                      }
                    },
                    "colorscale": {
                      "diverging": [
                        [
                          0,
                          "#8e0152"
                        ],
                        [
                          0.1,
                          "#c51b7d"
                        ],
                        [
                          0.2,
                          "#de77ae"
                        ],
                        [
                          0.3,
                          "#f1b6da"
                        ],
                        [
                          0.4,
                          "#fde0ef"
                        ],
                        [
                          0.5,
                          "#f7f7f7"
                        ],
                        [
                          0.6,
                          "#e6f5d0"
                        ],
                        [
                          0.7,
                          "#b8e186"
                        ],
                        [
                          0.8,
                          "#7fbc41"
                        ],
                        [
                          0.9,
                          "#4d9221"
                        ],
                        [
                          1,
                          "#276419"
                        ]
                      ],
                      "sequential": [
                        [
                          0,
                          "#0d0887"
                        ],
                        [
                          0.1111111111111111,
                          "#46039f"
                        ],
                        [
                          0.2222222222222222,
                          "#7201a8"
                        ],
                        [
                          0.3333333333333333,
                          "#9c179e"
                        ],
                        [
                          0.4444444444444444,
                          "#bd3786"
                        ],
                        [
                          0.5555555555555556,
                          "#d8576b"
                        ],
                        [
                          0.6666666666666666,
                          "#ed7953"
                        ],
                        [
                          0.7777777777777778,
                          "#fb9f3a"
                        ],
                        [
                          0.8888888888888888,
                          "#fdca26"
                        ],
                        [
                          1,
                          "#f0f921"
                        ]
                      ],
                      "sequentialminus": [
                        [
                          0,
                          "#0d0887"
                        ],
                        [
                          0.1111111111111111,
                          "#46039f"
                        ],
                        [
                          0.2222222222222222,
                          "#7201a8"
                        ],
                        [
                          0.3333333333333333,
                          "#9c179e"
                        ],
                        [
                          0.4444444444444444,
                          "#bd3786"
                        ],
                        [
                          0.5555555555555556,
                          "#d8576b"
                        ],
                        [
                          0.6666666666666666,
                          "#ed7953"
                        ],
                        [
                          0.7777777777777778,
                          "#fb9f3a"
                        ],
                        [
                          0.8888888888888888,
                          "#fdca26"
                        ],
                        [
                          1,
                          "#f0f921"
                        ]
                      ]
                    },
                    "colorway": [
                      "#636efa",
                      "#EF553B",
                      "#00cc96",
                      "#ab63fa",
                      "#FFA15A",
                      "#19d3f3",
                      "#FF6692",
                      "#B6E880",
                      "#FF97FF",
                      "#FECB52"
                    ],
                    "font": {
                      "color": "#2a3f5f"
                    },
                    "geo": {
                      "bgcolor": "white",
                      "lakecolor": "white",
                      "landcolor": "#E5ECF6",
                      "showlakes": true,
                      "showland": true,
                      "subunitcolor": "white"
                    },
                    "hoverlabel": {
                      "align": "left"
                    },
                    "hovermode": "closest",
                    "mapbox": {
                      "style": "light"
                    },
                    "paper_bgcolor": "white",
                    "plot_bgcolor": "#E5ECF6",
                    "polar": {
                      "angularaxis": {
                        "gridcolor": "white",
                        "linecolor": "white",
                        "ticks": ""
                      },
                      "bgcolor": "#E5ECF6",
                      "radialaxis": {
                        "gridcolor": "white",
                        "linecolor": "white",
                        "ticks": ""
                      }
                    },
                    "scene": {
                      "xaxis": {
                        "backgroundcolor": "#E5ECF6",
                        "gridcolor": "white",
                        "gridwidth": 2,
                        "linecolor": "white",
                        "showbackground": true,
                        "ticks": "",
                        "zerolinecolor": "white"
                      },
                      "yaxis": {
                        "backgroundcolor": "#E5ECF6",
                        "gridcolor": "white",
                        "gridwidth": 2,
                        "linecolor": "white",
                        "showbackground": true,
                        "ticks": "",
                        "zerolinecolor": "white"
                      },
                      "zaxis": {
                        "backgroundcolor": "#E5ECF6",
                        "gridcolor": "white",
                        "gridwidth": 2,
                        "linecolor": "white",
                        "showbackground": true,
                        "ticks": "",
                        "zerolinecolor": "white"
                      }
                    },
                    "shapedefaults": {
                      "line": {
                        "color": "#2a3f5f"
                      }
                    },
                    "ternary": {
                      "aaxis": {
                        "gridcolor": "white",
                        "linecolor": "white",
                        "ticks": ""
                      },
                      "baxis": {
                        "gridcolor": "white",
                        "linecolor": "white",
                        "ticks": ""
                      },
                      "bgcolor": "#E5ECF6",
                      "caxis": {
                        "gridcolor": "white",
                        "linecolor": "white",
                        "ticks": ""
                      }
                    },
                    "title": {
                      "x": 0.05
                    },
                    "xaxis": {
                      "automargin": true,
                      "gridcolor": "white",
                      "linecolor": "white",
                      "ticks": "",
                      "title": {
                        "standoff": 15
                      },
                      "zerolinecolor": "white",
                      "zerolinewidth": 2
                    },
                    "yaxis": {
                      "automargin": true,
                      "gridcolor": "white",
                      "linecolor": "white",
                      "ticks": "",
                      "title": {
                        "standoff": 15
                      },
                      "zerolinecolor": "white",
                      "zerolinewidth": 2
                    }
                  }
                },
                "title": {
                  "text": "Distribution of Mission Status by Organisation in Each Country"
                },
                "xaxis": {
                  "title": {
                    "text": "Mission Status"
                  }
                },
                "yaxis": {
                  "title": {
                    "text": "Organisation"
                  }
                }
              }
            }
          },
          "metadata": {},
          "output_type": "display_data"
        }
      ],
      "source": [
        "fig = px.sunburst(country_org_mission,\n",
        "                  path=[country_org_mission.Country, country_org_mission.Organisation, country_org_mission.Mission_Status],\n",
        "                  values=country_org_mission.Rocket_Status,\n",
        "                  title=\"Distribution of Mission Status by Organisation in Each Country\")\n",
        "\n",
        "fig.update_layout(xaxis_title=\"Mission Status\",\n",
        "                  yaxis_title=\"Organisation\",\n",
        "                  coloraxis_showscale=False)\n",
        "\n",
        "fig.show()"
      ]
    },
    {
      "cell_type": "code",
      "execution_count": null,
      "metadata": {
        "id": "VfTGp2hLo4Ok"
      },
      "outputs": [],
      "source": []
    },
    {
      "cell_type": "markdown",
      "metadata": {
        "id": "70pG1BCZa-qY",
        "papermill": {
          "duration": 0.062712,
          "end_time": "2020-10-20T21:34:07.951200",
          "exception": false,
          "start_time": "2020-10-20T21:34:07.888488",
          "status": "completed"
        },
        "tags": []
      },
      "source": [
        "# Analyse the Total Amount of Money Spent by Organisation on Space Missions"
      ]
    },
    {
      "cell_type": "code",
      "execution_count": null,
      "metadata": {
        "id": "IaJYxwEVpKHy"
      },
      "outputs": [],
      "source": []
    },
    {
      "cell_type": "code",
      "execution_count": null,
      "metadata": {
        "id": "orIFf-appPDL"
      },
      "outputs": [],
      "source": []
    },
    {
      "cell_type": "code",
      "execution_count": null,
      "metadata": {
        "id": "86OMPfpEpO7R"
      },
      "outputs": [],
      "source": []
    },
    {
      "cell_type": "markdown",
      "metadata": {
        "id": "DpsWkPxzpPXs"
      },
      "source": [
        "# Analyse the Amount of Money Spent by Organisation per Launch"
      ]
    },
    {
      "cell_type": "code",
      "execution_count": null,
      "metadata": {
        "id": "opYJ6GiRpTk5"
      },
      "outputs": [],
      "source": []
    },
    {
      "cell_type": "code",
      "execution_count": null,
      "metadata": {
        "id": "VEkHzAk2pTvj"
      },
      "outputs": [],
      "source": []
    },
    {
      "cell_type": "code",
      "execution_count": null,
      "metadata": {
        "id": "R5rFf501pKXD"
      },
      "outputs": [],
      "source": []
    },
    {
      "cell_type": "markdown",
      "metadata": {
        "id": "yRa1BbPoa-qf",
        "papermill": {
          "duration": 0.042662,
          "end_time": "2020-10-20T21:34:09.943196",
          "exception": false,
          "start_time": "2020-10-20T21:34:09.900534",
          "status": "completed"
        },
        "tags": []
      },
      "source": [
        "# Chart the Number of Launches per Year"
      ]
    },
    {
      "cell_type": "code",
      "execution_count": null,
      "metadata": {
        "id": "_9FohVh3pcAJ"
      },
      "outputs": [],
      "source": []
    },
    {
      "cell_type": "code",
      "execution_count": null,
      "metadata": {
        "id": "b2pggcZBpb4x"
      },
      "outputs": [],
      "source": []
    },
    {
      "cell_type": "markdown",
      "metadata": {
        "id": "NomJVLi3tIaM"
      },
      "source": [
        "# Chart the Number of Launches Month-on-Month until the Present\n",
        "\n",
        "Which month has seen the highest number of launches in all time? Superimpose a rolling average on the month on month time series chart. "
      ]
    },
    {
      "cell_type": "code",
      "execution_count": null,
      "metadata": {
        "id": "H1N2aBs5tH9z"
      },
      "outputs": [],
      "source": []
    },
    {
      "cell_type": "code",
      "execution_count": null,
      "metadata": {
        "id": "pfw0aX1lpdRv"
      },
      "outputs": [],
      "source": []
    },
    {
      "cell_type": "markdown",
      "metadata": {
        "id": "t-avMIZoa-qh",
        "papermill": {
          "duration": 0.044409,
          "end_time": "2020-10-20T21:34:10.162592",
          "exception": false,
          "start_time": "2020-10-20T21:34:10.118183",
          "status": "completed"
        },
        "tags": []
      },
      "source": [
        "# Launches per Month: Which months are most popular and least popular for launches?\n",
        "\n",
        "Some months have better weather than others. Which time of year seems to be best for space missions?"
      ]
    },
    {
      "cell_type": "code",
      "execution_count": null,
      "metadata": {
        "id": "zmtp5uBHppFG"
      },
      "outputs": [],
      "source": []
    },
    {
      "cell_type": "code",
      "execution_count": null,
      "metadata": {
        "id": "fnk2m_cpppJo"
      },
      "outputs": [],
      "source": []
    },
    {
      "cell_type": "markdown",
      "metadata": {
        "id": "dPQ_N_sfa-qo",
        "papermill": {
          "duration": 0.067915,
          "end_time": "2020-10-20T21:34:11.122539",
          "exception": false,
          "start_time": "2020-10-20T21:34:11.054624",
          "status": "completed"
        },
        "tags": []
      },
      "source": [
        "# How has the Launch Price varied Over Time? \n",
        "\n",
        "Create a line chart that shows the average price of rocket launches over time. "
      ]
    },
    {
      "cell_type": "code",
      "execution_count": null,
      "metadata": {
        "id": "hFc-2M5-qCrv"
      },
      "outputs": [],
      "source": []
    },
    {
      "cell_type": "code",
      "execution_count": null,
      "metadata": {
        "id": "ggYFiAsEqC6J"
      },
      "outputs": [],
      "source": []
    },
    {
      "cell_type": "markdown",
      "metadata": {
        "id": "8OYrWyiOa-qs",
        "papermill": {
          "duration": 0.047152,
          "end_time": "2020-10-20T21:34:11.681371",
          "exception": false,
          "start_time": "2020-10-20T21:34:11.634219",
          "status": "completed"
        },
        "tags": []
      },
      "source": [
        "# Chart the Number of Launches over Time by the Top 10 Organisations. \n",
        "\n",
        "How has the dominance of launches changed over time between the different players? "
      ]
    },
    {
      "cell_type": "code",
      "execution_count": null,
      "metadata": {
        "id": "RcsrPPpAqVFj"
      },
      "outputs": [],
      "source": []
    },
    {
      "cell_type": "code",
      "execution_count": null,
      "metadata": {
        "id": "1IgfafiyqWEe"
      },
      "outputs": [],
      "source": []
    },
    {
      "cell_type": "code",
      "execution_count": null,
      "metadata": {
        "id": "akCDKT8CqVjG"
      },
      "outputs": [],
      "source": []
    },
    {
      "cell_type": "markdown",
      "metadata": {
        "id": "6Cm8_ch6a-q7",
        "papermill": {
          "duration": 0.052399,
          "end_time": "2020-10-20T21:34:13.756781",
          "exception": false,
          "start_time": "2020-10-20T21:34:13.704382",
          "status": "completed"
        },
        "tags": []
      },
      "source": [
        "# Cold War Space Race: USA vs USSR\n",
        "\n",
        "The cold war lasted from the start of the dataset up until 1991. "
      ]
    },
    {
      "cell_type": "code",
      "execution_count": null,
      "metadata": {
        "id": "AcE_U8csrICL"
      },
      "outputs": [],
      "source": []
    },
    {
      "cell_type": "code",
      "execution_count": null,
      "metadata": {
        "id": "cOe_t4OmrHr9"
      },
      "outputs": [],
      "source": []
    },
    {
      "cell_type": "markdown",
      "metadata": {
        "id": "Os-3A5vLa-q9",
        "papermill": {
          "duration": 0.054318,
          "end_time": "2020-10-20T21:34:14.089604",
          "exception": false,
          "start_time": "2020-10-20T21:34:14.035286",
          "status": "completed"
        },
        "tags": []
      },
      "source": [
        "## Create a Plotly Pie Chart comparing the total number of launches of the USSR and the USA\n",
        "\n",
        "Hint: Remember to include former Soviet Republics like Kazakhstan when analysing the total number of launches. "
      ]
    },
    {
      "cell_type": "code",
      "execution_count": null,
      "metadata": {
        "id": "1irc6_W9rD59"
      },
      "outputs": [],
      "source": []
    },
    {
      "cell_type": "code",
      "execution_count": null,
      "metadata": {
        "id": "OhhuLQycrEE-"
      },
      "outputs": [],
      "source": []
    },
    {
      "cell_type": "markdown",
      "metadata": {
        "id": "0C29Zz4xa-rA",
        "papermill": {
          "duration": 0.052921,
          "end_time": "2020-10-20T21:34:14.340085",
          "exception": false,
          "start_time": "2020-10-20T21:34:14.287164",
          "status": "completed"
        },
        "tags": []
      },
      "source": [
        "## Create a Chart that Shows the Total Number of Launches Year-On-Year by the Two Superpowers"
      ]
    },
    {
      "cell_type": "code",
      "execution_count": null,
      "metadata": {
        "id": "9ISKvOiCrS73"
      },
      "outputs": [],
      "source": []
    },
    {
      "cell_type": "code",
      "execution_count": null,
      "metadata": {
        "id": "oCc7VTzGrTK-"
      },
      "outputs": [],
      "source": []
    },
    {
      "cell_type": "markdown",
      "metadata": {
        "id": "eWv4iZmra-rE",
        "papermill": {
          "duration": 0.079311,
          "end_time": "2020-10-20T21:34:14.933058",
          "exception": false,
          "start_time": "2020-10-20T21:34:14.853747",
          "status": "completed"
        },
        "tags": []
      },
      "source": [
        "## Chart the Total Number of Mission Failures Year on Year."
      ]
    },
    {
      "cell_type": "code",
      "execution_count": null,
      "metadata": {
        "id": "I-Zss5-Mre-4"
      },
      "outputs": [],
      "source": []
    },
    {
      "cell_type": "code",
      "execution_count": null,
      "metadata": {
        "id": "7Ps9Iq_crfYl"
      },
      "outputs": [],
      "source": []
    },
    {
      "cell_type": "markdown",
      "metadata": {
        "id": "XNp-NkrJriEF"
      },
      "source": [
        "## Chart the Percentage of Failures over Time\n",
        "\n",
        "Did failures go up or down over time? Did the countries get better at minimising risk and improving their chances of success over time? "
      ]
    },
    {
      "cell_type": "code",
      "execution_count": null,
      "metadata": {
        "id": "Kj3-zsI0rhOS"
      },
      "outputs": [],
      "source": []
    },
    {
      "cell_type": "code",
      "execution_count": null,
      "metadata": {
        "id": "nxnnzx89rwvH"
      },
      "outputs": [],
      "source": []
    },
    {
      "cell_type": "code",
      "execution_count": null,
      "metadata": {
        "id": "_TPWaaJ5r1Fz"
      },
      "outputs": [],
      "source": []
    },
    {
      "cell_type": "markdown",
      "metadata": {
        "id": "S5aOC7bGr2OX"
      },
      "source": [
        "# For Every Year Show which Country was in the Lead in terms of Total Number of Launches up to and including including 2020)\n",
        "\n",
        "Do the results change if we only look at the number of successful launches? "
      ]
    },
    {
      "cell_type": "code",
      "execution_count": null,
      "metadata": {
        "id": "_h0grIXKsOz_"
      },
      "outputs": [],
      "source": []
    },
    {
      "cell_type": "code",
      "execution_count": null,
      "metadata": {
        "id": "zgVysedmsOp4"
      },
      "outputs": [],
      "source": []
    },
    {
      "cell_type": "markdown",
      "metadata": {
        "id": "jQcqBfJ8serG"
      },
      "source": [
        "# Create a Year-on-Year Chart Showing the Organisation Doing the Most Number of Launches\n",
        "\n",
        "Which organisation was dominant in the 1970s and 1980s? Which organisation was dominant in 2018, 2019 and 2020? "
      ]
    },
    {
      "cell_type": "code",
      "execution_count": null,
      "metadata": {
        "id": "jc9ImQEWsztG"
      },
      "outputs": [],
      "source": []
    },
    {
      "cell_type": "code",
      "execution_count": null,
      "metadata": {
        "id": "r5frxzwlsz5W"
      },
      "outputs": [],
      "source": []
    },
    {
      "cell_type": "code",
      "execution_count": null,
      "metadata": {
        "id": "8vHKpuc5a-rc",
        "papermill": {
          "duration": 0.092403,
          "end_time": "2020-10-20T21:34:26.709168",
          "exception": false,
          "start_time": "2020-10-20T21:34:26.616765",
          "status": "completed"
        },
        "tags": []
      },
      "outputs": [],
      "source": []
    }
  ],
  "metadata": {
    "colab": {
      "name": "Space Missions Analysis (start).ipynb",
      "provenance": []
    },
    "kernelspec": {
      "display_name": "Python 3",
      "language": "python",
      "name": "python3"
    },
    "language_info": {
      "codemirror_mode": {
        "name": "ipython",
        "version": 3
      },
      "file_extension": ".py",
      "mimetype": "text/x-python",
      "name": "python",
      "nbconvert_exporter": "python",
      "pygments_lexer": "ipython3",
      "version": "3.11.4"
    },
    "papermill": {
      "duration": 28.468597,
      "end_time": "2020-10-20T21:34:26.910951",
      "environment_variables": {},
      "exception": null,
      "input_path": "__notebook__.ipynb",
      "output_path": "__notebook__.ipynb",
      "parameters": {},
      "start_time": "2020-10-20T21:33:58.442354",
      "version": "2.1.0"
    }
  },
  "nbformat": 4,
  "nbformat_minor": 0
}
